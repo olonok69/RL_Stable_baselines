{
  "nbformat": 4,
  "nbformat_minor": 0,
  "metadata": {
    "colab": {
      "name": "AC.ipynb",
      "provenance": [],
      "authorship_tag": "ABX9TyN2CvDlnrxeeVqZ9S4bW8Jn",
      "include_colab_link": true
    },
    "kernelspec": {
      "name": "python3",
      "display_name": "Python 3"
    },
    "accelerator": "GPU"
  },
  "cells": [
    {
      "cell_type": "markdown",
      "metadata": {
        "id": "view-in-github",
        "colab_type": "text"
      },
      "source": [
        "<a href=\"https://colab.research.google.com/github/abhisheksuran/Atari_DQN/blob/master/AC.ipynb\" target=\"_parent\"><img src=\"https://colab.research.google.com/assets/colab-badge.svg\" alt=\"Open In Colab\"/></a>"
      ]
    },
    {
      "cell_type": "code",
      "metadata": {
        "id": "udtLxTQyiNUz",
        "colab_type": "code",
        "colab": {}
      },
      "source": [
        "import numpy as np\n",
        "import tensorflow as tf \n",
        "import gym\n",
        "import tensorflow_probability as tfp"
      ],
      "execution_count": 1,
      "outputs": []
    },
    {
      "cell_type": "code",
      "metadata": {
        "id": "nfKWiIG6m5Ed",
        "colab_type": "code",
        "colab": {
          "base_uri": "https://localhost:8080/",
          "height": 102
        },
        "outputId": "565e768f-31d7-4918-a292-c7b1c0e9e358"
      },
      "source": [
        "!pip3 install box2d-py"
      ],
      "execution_count": 2,
      "outputs": [
        {
          "output_type": "stream",
          "text": [
            "Collecting box2d-py\n",
            "\u001b[?25l  Downloading https://files.pythonhosted.org/packages/06/bd/6cdc3fd994b0649dcf5d9bad85bd9e26172308bbe9a421bfc6fdbf5081a6/box2d_py-2.3.8-cp36-cp36m-manylinux1_x86_64.whl (448kB)\n",
            "\r\u001b[K     |▊                               | 10kB 29.9MB/s eta 0:00:01\r\u001b[K     |█▌                              | 20kB 5.9MB/s eta 0:00:01\r\u001b[K     |██▏                             | 30kB 7.1MB/s eta 0:00:01\r\u001b[K     |███                             | 40kB 7.4MB/s eta 0:00:01\r\u001b[K     |███▋                            | 51kB 6.8MB/s eta 0:00:01\r\u001b[K     |████▍                           | 61kB 7.8MB/s eta 0:00:01\r\u001b[K     |█████▏                          | 71kB 7.8MB/s eta 0:00:01\r\u001b[K     |█████▉                          | 81kB 8.6MB/s eta 0:00:01\r\u001b[K     |██████▋                         | 92kB 8.0MB/s eta 0:00:01\r\u001b[K     |███████▎                        | 102kB 8.0MB/s eta 0:00:01\r\u001b[K     |████████                        | 112kB 8.0MB/s eta 0:00:01\r\u001b[K     |████████▊                       | 122kB 8.0MB/s eta 0:00:01\r\u001b[K     |█████████▌                      | 133kB 8.0MB/s eta 0:00:01\r\u001b[K     |██████████▎                     | 143kB 8.0MB/s eta 0:00:01\r\u001b[K     |███████████                     | 153kB 8.0MB/s eta 0:00:01\r\u001b[K     |███████████▊                    | 163kB 8.0MB/s eta 0:00:01\r\u001b[K     |████████████▍                   | 174kB 8.0MB/s eta 0:00:01\r\u001b[K     |█████████████▏                  | 184kB 8.0MB/s eta 0:00:01\r\u001b[K     |█████████████▉                  | 194kB 8.0MB/s eta 0:00:01\r\u001b[K     |██████████████▋                 | 204kB 8.0MB/s eta 0:00:01\r\u001b[K     |███████████████▍                | 215kB 8.0MB/s eta 0:00:01\r\u001b[K     |████████████████                | 225kB 8.0MB/s eta 0:00:01\r\u001b[K     |████████████████▉               | 235kB 8.0MB/s eta 0:00:01\r\u001b[K     |█████████████████▌              | 245kB 8.0MB/s eta 0:00:01\r\u001b[K     |██████████████████▎             | 256kB 8.0MB/s eta 0:00:01\r\u001b[K     |███████████████████             | 266kB 8.0MB/s eta 0:00:01\r\u001b[K     |███████████████████▊            | 276kB 8.0MB/s eta 0:00:01\r\u001b[K     |████████████████████▌           | 286kB 8.0MB/s eta 0:00:01\r\u001b[K     |█████████████████████▏          | 296kB 8.0MB/s eta 0:00:01\r\u001b[K     |██████████████████████          | 307kB 8.0MB/s eta 0:00:01\r\u001b[K     |██████████████████████▋         | 317kB 8.0MB/s eta 0:00:01\r\u001b[K     |███████████████████████▍        | 327kB 8.0MB/s eta 0:00:01\r\u001b[K     |████████████████████████        | 337kB 8.0MB/s eta 0:00:01\r\u001b[K     |████████████████████████▉       | 348kB 8.0MB/s eta 0:00:01\r\u001b[K     |█████████████████████████▋      | 358kB 8.0MB/s eta 0:00:01\r\u001b[K     |██████████████████████████▎     | 368kB 8.0MB/s eta 0:00:01\r\u001b[K     |███████████████████████████     | 378kB 8.0MB/s eta 0:00:01\r\u001b[K     |███████████████████████████▊    | 389kB 8.0MB/s eta 0:00:01\r\u001b[K     |████████████████████████████▌   | 399kB 8.0MB/s eta 0:00:01\r\u001b[K     |█████████████████████████████▏  | 409kB 8.0MB/s eta 0:00:01\r\u001b[K     |██████████████████████████████  | 419kB 8.0MB/s eta 0:00:01\r\u001b[K     |██████████████████████████████▊ | 430kB 8.0MB/s eta 0:00:01\r\u001b[K     |███████████████████████████████▍| 440kB 8.0MB/s eta 0:00:01\r\u001b[K     |████████████████████████████████| 450kB 8.0MB/s \n",
            "\u001b[?25hInstalling collected packages: box2d-py\n",
            "Successfully installed box2d-py-2.3.8\n"
          ],
          "name": "stdout"
        }
      ]
    },
    {
      "cell_type": "code",
      "metadata": {
        "id": "4X3S4uD_m-e_",
        "colab_type": "code",
        "colab": {}
      },
      "source": [
        "env= gym.make(\"LunarLander-v2\")\n",
        "low = env.observation_space.low\n",
        "high = env.observation_space.high"
      ],
      "execution_count": 3,
      "outputs": []
    },
    {
      "cell_type": "code",
      "metadata": {
        "id": "pAZ_YRduimE0",
        "colab_type": "code",
        "colab": {}
      },
      "source": [
        "class model(tf.keras.Model):\n",
        "  def __init__(self):\n",
        "    super().__init__()\n",
        "    self.d1 = tf.keras.layers.Dense(2048,activation='relu')\n",
        "    self.d2 = tf.keras.layers.Dense(1536,activation='relu')\n",
        "    self.v = tf.keras.layers.Dense(1, activation = None)\n",
        "    self.a = tf.keras.layers.Dense(4,activation=None)\n",
        "\n",
        "  def call(self, input_data):\n",
        "    x = self.d1(input_data)\n",
        "    x1 = self.d2(x)\n",
        "    a = self.a(x1)\n",
        "    v = self.v(x1)\n",
        "    return v, a\n",
        "    \n"
      ],
      "execution_count": 4,
      "outputs": []
    },
    {
      "cell_type": "code",
      "metadata": {
        "id": "D0-5_oxXmwT9",
        "colab_type": "code",
        "colab": {}
      },
      "source": [
        "class agent():\n",
        "    def __init__(self, gamma = 0.99):\n",
        "        self.gamma = gamma\n",
        "        self.opt = tf.keras.optimizers.Adam(learning_rate=5e-6)\n",
        "        self.ac = model()\n",
        "    \n",
        "    def act(self,state):\n",
        "        v, prob = self.ac(np.array([state]))\n",
        "        prob = tf.nn.softmax(prob)\n",
        "        #print(prob)\n",
        "        prob = prob.numpy()\n",
        "        dist = tfp.distributions.Categorical(probs=prob, dtype=tf.float32)\n",
        "        action = dist.sample()\n",
        "        return int(action.numpy()[0])\n",
        "\n",
        "    def actor_loss(self, prob, action, td):\n",
        "        prob = tf.nn.softmax(prob)\n",
        "        dist = tfp.distributions.Categorical(probs=prob, dtype=tf.float32)\n",
        "        log_prob = dist.log_prob(action)\n",
        "        loss = -log_prob*td\n",
        "        return loss    \n",
        "\n",
        "    def learn(self, state, action, reward, next_state, done):\n",
        "        state = np.array([state])\n",
        "        next_state = np.array([next_state])\n",
        "\n",
        "        with tf.GradientTape() as tape:\n",
        "            v, a =  self.ac(state,training=True)\n",
        "            vn, an = self.ac(next_state, training=True)\n",
        "            td = reward + self.gamma*vn*(1-int(done)) - v\n",
        "            a_loss = self.actor_loss(a,action,td)\n",
        "            c_loss = td**2\n",
        "            total_loss = a_loss + c_loss\n",
        "        grads = tape.gradient(total_loss, self.ac.trainable_variables)\n",
        "        self.opt.apply_gradients(zip(grads, self.ac.trainable_variables))\n",
        "        return total_loss"
      ],
      "execution_count": 5,
      "outputs": []
    },
    {
      "cell_type": "code",
      "metadata": {
        "id": "vk4Phsi1tvS-",
        "colab_type": "code",
        "colab": {}
      },
      "source": [
        "agentoo7 = agent()\n",
        "steps = 10000\n",
        "for s in range(steps):\n",
        "  \n",
        "  done = False\n",
        "  state = env.reset()\n",
        "  total_reward = 0\n",
        "  all_loss = []\n",
        "  \n",
        "  while not done:\n",
        "    #env.render()\n",
        "    action = agentoo7.act(state)\n",
        "    #print(action)\n",
        "    next_state, reward, done, _ = env.step(action)\n",
        "    loss = agentoo7.learn(state, action, reward, next_state, done)\n",
        "    all_loss.append(loss)\n",
        "    \n",
        "    state = next_state\n",
        "    total_reward += reward\n",
        "    \n",
        "    if done:\n",
        "      \n",
        "      #print(\"total step for this episord are {}\".format(t))\n",
        "      print(\"total reward after {} steps is {}\".format(s, total_reward))"
      ],
      "execution_count": null,
      "outputs": []
    },
    {
      "cell_type": "code",
      "metadata": {
        "id": "1ltXa0gX_Yb8",
        "colab_type": "code",
        "colab": {}
      },
      "source": [
        ""
      ],
      "execution_count": null,
      "outputs": []
    }
  ]
}