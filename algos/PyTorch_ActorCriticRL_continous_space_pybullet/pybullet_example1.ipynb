{
 "cells": [
  {
   "cell_type": "code",
   "execution_count": null,
   "id": "stretch-orchestra",
   "metadata": {},
   "outputs": [],
   "source": [
    "from __future__ import division\n",
    "import gym\n",
    "import numpy as np\n",
    "import torch\n",
    "from torch.autograd import Variable\n",
    "import os\n",
    "import psutil\n",
    "import gc\n",
    "\n",
    "import numpy as np\n",
    "import pybullet_envs\n",
    "import time\n",
    "import train\n",
    "import buffer\n",
    "#import matplotlib.pyplot as plt\n",
    "#%matplotlib inline\n",
    "#env = gym.make('BipedalWalker-v3')\n",
    "env = gym.make('InvertedPendulumSwingupBulletEnv-v0')\n",
    "env.render()\n",
    "\n",
    "env.reset()\n",
    "MAX_EPISODES = 5000\n",
    "MAX_STEPS = 1000\n",
    "MAX_BUFFER = 1000000\n",
    "MAX_TOTAL_REWARD = 300\n",
    "S_DIM = env.observation_space.shape[0]\n",
    "A_DIM = env.action_space.shape[0]\n",
    "A_MAX = env.action_space.high[0]\n"
   ]
  },
  {
   "cell_type": "code",
   "execution_count": 2,
   "id": "exposed-calvin",
   "metadata": {},
   "outputs": [
    {
     "data": {
      "text/plain": [
       "(5, 1, 1.0)"
      ]
     },
     "execution_count": 2,
     "metadata": {},
     "output_type": "execute_result"
    }
   ],
   "source": [
    "S_DIM,  A_DIM, A_MAX"
   ]
  },
  {
   "cell_type": "code",
   "execution_count": 3,
   "id": "married-parks",
   "metadata": {},
   "outputs": [],
   "source": [
    "ram = buffer.MemoryBuffer(MAX_BUFFER)\n",
    "trainer = train.Trainer(S_DIM, A_DIM, A_MAX, ram)\n",
    "#render = lambda : plt.imshow(env.render(mode='rgb_array'))"
   ]
  },
  {
   "cell_type": "code",
   "execution_count": null,
   "id": "imperial-munich",
   "metadata": {},
   "outputs": [],
   "source": [
    "for _ep in range(MAX_EPISODES):\n",
    "    #env.render()\n",
    "    #observation = env.reset()\n",
    "    print('EPISODE :- {}'.format(_ep))\n",
    "    for r in range(MAX_STEPS):\n",
    "        \n",
    "        env.render()\n",
    "        #render()\n",
    "        state = np.float32(observation)\n",
    "\n",
    "        action = trainer.get_exploration_action(state)\n",
    "        # if _ep%5 == 0:\n",
    "        # \t# validate every 5th episode\n",
    "        # \taction = trainer.get_exploitation_action(state)\n",
    "        # else:\n",
    "        # \t# get action based on observation, use exploration policy here\n",
    "        # \taction = trainer.get_exploration_action(state)\n",
    "\n",
    "        new_observation, reward, done, info = env.step(action)\n",
    "\n",
    "        # # dont update if this is validation\n",
    "        # if _ep%50 == 0 or _ep>450:\n",
    "        # \tcontinue\n",
    "\n",
    "        if done:\n",
    "            new_state = None\n",
    "        else:\n",
    "            new_state = np.float32(new_observation)\n",
    "            # push this exp in ram\n",
    "            ram.add(state, action, reward, new_state)\n",
    "\n",
    "        observation = new_observation\n",
    "\n",
    "        # perform optimization\n",
    "        trainer.optimize()\n",
    "        if done:\n",
    "            break\n",
    "\n",
    "    # check memory consumption and clear memory\n",
    "    gc.collect()\n",
    "    # process = psutil.Process(os.getpid())\n",
    "    # print(process.memory_info().rss)\n",
    "\n",
    "    if _ep%100 == 0:\n",
    "        trainer.save_models(_ep)"
   ]
  },
  {
   "cell_type": "code",
   "execution_count": null,
   "id": "infinite-clone",
   "metadata": {},
   "outputs": [],
   "source": []
  }
 ],
 "metadata": {
  "kernelspec": {
   "display_name": "Python 3",
   "language": "python",
   "name": "python3"
  },
  "language_info": {
   "codemirror_mode": {
    "name": "ipython",
    "version": 3
   },
   "file_extension": ".py",
   "mimetype": "text/x-python",
   "name": "python",
   "nbconvert_exporter": "python",
   "pygments_lexer": "ipython3",
   "version": "3.7.9"
  }
 },
 "nbformat": 4,
 "nbformat_minor": 5
}
