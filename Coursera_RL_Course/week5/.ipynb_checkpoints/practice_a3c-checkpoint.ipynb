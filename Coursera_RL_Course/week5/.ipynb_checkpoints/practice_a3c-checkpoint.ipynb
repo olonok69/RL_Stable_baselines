{
 "cells": [
  {
   "cell_type": "markdown",
   "metadata": {},
   "source": [
    "### Deep Kung-Fu with advantage actor-critic\n",
    "\n",
    "In this notebook you'll build a deep reinforcement learning agent for atari [KungFuMaster](https://gym.openai.com/envs/KungFuMaster-v0/) and train it with advantage actor-critic.\n",
    "\n",
    "![http://www.retroland.com/wp-content/uploads/2011/07/King-Fu-Master.jpg](http://www.retroland.com/wp-content/uploads/2011/07/King-Fu-Master.jpg)"
   ]
  },
  {
   "cell_type": "code",
   "execution_count": 1,
   "metadata": {},
   "outputs": [],
   "source": [
    "from __future__ import print_function, division\n",
    "from IPython.core import display\n",
    "import matplotlib.pyplot as plt\n",
    "%matplotlib inline\n",
    "import numpy as np\n",
    "\n",
    "#If you are running on a server, launch xvfb to record game videos\n",
    "#Please make sure you have xvfb installed\n",
    "import os\n",
    "if os.environ.get(\"DISPLAY\") is str and len(os.environ.get(\"DISPLAY\"))!=0:\n",
    "    !bash ../xvfb start\n",
    "    %env DISPLAY=:1"
   ]
  },
  {
   "cell_type": "markdown",
   "metadata": {},
   "source": [
    "For starters, let's take a look at the game itself:\n",
    "* Image resized to 42x42 and grayscale to run faster\n",
    "* Rewards divided by 100 'cuz they are all divisible by 100\n",
    "* Agent sees last 4 frames of game to account for object velocity"
   ]
  },
  {
   "cell_type": "code",
   "execution_count": 2,
   "metadata": {},
   "outputs": [
    {
     "name": "stdout",
     "output_type": "stream",
     "text": [
      "Observation shape: (42, 42, 4)\n",
      "Num actions: 14\n",
      "Action names: ['NOOP', 'UP', 'RIGHT', 'LEFT', 'DOWN', 'DOWNRIGHT', 'DOWNLEFT', 'RIGHTFIRE', 'LEFTFIRE', 'DOWNFIRE', 'UPRIGHTFIRE', 'UPLEFTFIRE', 'DOWNRIGHTFIRE', 'DOWNLEFTFIRE']\n"
     ]
    }
   ],
   "source": [
    "import gym\n",
    "from atari_util import PreprocessAtari\n",
    "\n",
    "def make_env():\n",
    "    env = gym.make(\"KungFuMasterDeterministic-v0\")\n",
    "    env = PreprocessAtari(env, height=42, width=42,\n",
    "                          crop = lambda img: img[60:-30, 5:],\n",
    "                          dim_order = 'tensorflow',\n",
    "                          color=False, n_frames=4,\n",
    "                          reward_scale = 0.01)\n",
    "    return env\n",
    "\n",
    "env = make_env()\n",
    "\n",
    "obs_shape = env.observation_space.shape\n",
    "n_actions = env.action_space.n\n",
    "\n",
    "print(\"Observation shape:\", obs_shape)\n",
    "print(\"Num actions:\", n_actions)\n",
    "print(\"Action names:\", env.env.env.get_action_meanings())"
   ]
  },
  {
   "cell_type": "code",
   "execution_count": 3,
   "metadata": {},
   "outputs": [
    {
     "data": {
      "image/png": "[encoded data removed]",
      "text/plain": [
       "<Figure size 432x288 with 1 Axes>"
      ]
     },
     "metadata": {
      "needs_background": "light"
     },
     "output_type": "display_data"
    },
    {
     "data": {
      "image/png": "[encoded data removed]",
      "text/plain": [
       "<Figure size 432x288 with 1 Axes>"
      ]
     },
     "metadata": {
      "needs_background": "light"
     },
     "output_type": "display_data"
    }
   ],
   "source": [
    "s = env.reset()\n",
    "for _ in range(100):\n",
    "    s, _, _, _ = env.step(env.action_space.sample())\n",
    "\n",
    "plt.title('Game image')\n",
    "plt.imshow(env.render('rgb_array'))\n",
    "plt.show()\n",
    "\n",
    "plt.title('Agent observation (4-frame buffer)')\n",
    "plt.imshow(s.transpose([0,2,1]).reshape([42,-1]))\n",
    "plt.show()"
   ]
  },
  {
   "cell_type": "markdown",
   "metadata": {},
   "source": [
    "### Build an agent\n",
    "\n",
    "We now have to build an agent for actor-critic training - a convolutional neural network that converts states into action probabilities $\\pi$ and state values $V$.\n",
    "\n",
    "Your assignment here is to build and apply a neural network - with any framework you want. \n",
    "\n",
    "For starters, we want you to implement this architecture:\n",
    "![img](img/nnet_arch.png)\n",
    "\n",
    "After your agent gets mean reward above 50, we encourage you to experiment with model architecture to score even better."
   ]
  },
  {
   "cell_type": "code",
   "execution_count": 4,
   "metadata": {},
   "outputs": [],
   "source": [
    "import tensorflow as tf\n",
    "tf.reset_default_graph()\n",
    "sess = tf.InteractiveSession()"
   ]
  },
  {
   "cell_type": "code",
   "execution_count": 7,
   "metadata": {},
   "outputs": [],
   "source": [
    "from tensorflow.keras.layers import Conv2D, Dense, Flatten, Input\n",
    "#import keras\n",
    "from tensorflow.keras.models import Model, Sequential\n",
    "\n",
    "class Agent:\n",
    "    def __init__(self, name, state_shape, n_actions, reuse=False):\n",
    "        \"\"\"A simple actor-critic agent\"\"\"\n",
    "        \n",
    "        with tf.variable_scope(name, reuse=reuse):\n",
    "            \n",
    "            # Prepare neural network architecture\n",
    "            ### Your code here: prepare any necessary layers, variables, etc.\n",
    "#             self.network = Sequential()\n",
    "            \n",
    "#             # similar architecture as the dqn\n",
    "#             self.network.add(Conv2D(32, (3, 3), strides=2, activation='relu', input_shape=state_shape))\n",
    "#             self.network.add(Conv2D(32, (3, 3), strides=2, activation='relu'))\n",
    "#             self.network.add(Conv2D(32, (3, 3), strides=2, activation='relu'))\n",
    "#             self.network.add(Flatten())\n",
    "#             self.network.add(Dense(128, activation='relu'))\n",
    "            \n",
    "#             # logits for n_actions and 1 unit for the state value\n",
    "#             self.network.add(Dense(n_actions+1, activation='linear'))\n",
    "\n",
    "\n",
    "            ####\n",
    "            inputs = Input(shape=state_shape)\n",
    "            x = Conv2D(32, (3, 3), strides=2, activation='relu')(inputs)\n",
    "            x = Conv2D(32, (3, 3), strides=2, activation='relu')(x)\n",
    "            x = Conv2D(32, (3, 3), strides=2, activation='relu')(x)\n",
    "            x = Flatten()(x)\n",
    "            x = Dense(128, activation='relu')(x)\n",
    "            \n",
    "            # two different output layers\n",
    "            logits = Dense(n_actions, activation='linear')(x)\n",
    "            state_value = Dense(1, activation='linear')(x)\n",
    "            \n",
    "            self.network = Model(inputs=inputs, outputs=[logits, state_value])\n",
    "            \n",
    "            \n",
    "            # prepare a graph for agent step\n",
    "            self.state_t = tf.placeholder('float32', [None,] + list(state_shape))\n",
    "            self.agent_outputs = self.symbolic_step(self.state_t)\n",
    "        \n",
    "    def symbolic_step(self, state_t):\n",
    "        \"\"\"Takes agent's previous step and observation, returns next state and whatever it needs to learn (tf tensors)\"\"\"\n",
    "        \n",
    "        # Apply neural network\n",
    "        ### Your code here: apply agent's neural network to get policy logits and state values.\n",
    "#         network_output = self.network(state_t)\n",
    "\n",
    "#         logits = network_output[:,1:]\n",
    "#         state_value = network_output[:,0]\n",
    "        \n",
    "        \n",
    "        logits, state_value = self.network(state_t)\n",
    "        state_value = state_value[:, 0]\n",
    "        \n",
    "        assert tf.is_numeric_tensor(state_value) and state_value.shape.ndims == 1, \\\n",
    "            \"please return 1D tf tensor of state values [you got %s]\" % repr(state_value)\n",
    "        assert tf.is_numeric_tensor(logits) and logits.shape.ndims == 2, \\\n",
    "            \"please return 2d tf tensor of logits [you got %s]\" % repr(logits)\n",
    "        # hint: if you triggered state_values assert with your shape being [None, 1], \n",
    "        # just select [:, 0]-th element of state values as new state values\n",
    "        \n",
    "        return (logits, state_value)\n",
    "    \n",
    "    def step(self, state_t):\n",
    "        \"\"\"Same as symbolic step except it operates on numpy arrays\"\"\"\n",
    "        sess = tf.get_default_session()\n",
    "        return sess.run(self.agent_outputs, {self.state_t: state_t})\n",
    "    \n",
    "    def sample_actions(self, agent_outputs):\n",
    "        \"\"\"pick actions given numeric agent outputs (np arrays)\"\"\"\n",
    "        logits, state_values = agent_outputs\n",
    "        policy = np.exp(logits) / np.sum(np.exp(logits), axis=-1, keepdims=True)\n",
    "        return np.array([np.random.choice(len(p), p=p) for p in policy])"
   ]
  },
  {
   "cell_type": "code",
   "execution_count": 8,
   "metadata": {},
   "outputs": [],
   "source": [
    "agent = Agent(\"agent\", obs_shape, n_actions)\n",
    "sess.run(tf.global_variables_initializer())"
   ]
  },
  {
   "cell_type": "code",
   "execution_count": 9,
   "metadata": {},
   "outputs": [
    {
     "name": "stdout",
     "output_type": "stream",
     "text": [
      "action logits:\n",
      " [[ 0.01362658  0.04808709  0.03926282  0.02322767  0.03547197 -0.04618987\n",
      "   0.04331644  0.0266385  -0.02535825 -0.00992042 -0.00721225 -0.03009203\n",
      "  -0.05526296  0.05561771]]\n",
      "state values:\n",
      " [0.0089771]\n"
     ]
    }
   ],
   "source": [
    "state = [env.reset()]\n",
    "logits, value = agent.step(state)\n",
    "print(\"action logits:\\n\", logits)\n",
    "print(\"state values:\\n\", value)"
   ]
  },
  {
   "cell_type": "markdown",
   "metadata": {},
   "source": [
    "### Let's play!\n",
    "Let's build a function that measures agent's average reward."
   ]
  },
  {
   "cell_type": "code",
   "execution_count": 10,
   "metadata": {},
   "outputs": [],
   "source": [
    "def evaluate(agent, env, n_games=1):\n",
    "    \"\"\"Plays an a game from start till done, returns per-game rewards \"\"\"\n",
    "\n",
    "    game_rewards = []\n",
    "    for _ in range(n_games):\n",
    "        state = env.reset()\n",
    "        \n",
    "        total_reward = 0\n",
    "        while True:\n",
    "            action = agent.sample_actions(agent.step([state]))[0]\n",
    "            state, reward, done, info = env.step(action)\n",
    "            total_reward += reward\n",
    "            if done: break\n",
    "                \n",
    "        game_rewards.append(total_reward)\n",
    "    return game_rewards\n"
   ]
  },
  {
   "cell_type": "code",
   "execution_count": 11,
   "metadata": {},
   "outputs": [
    {
     "name": "stdout",
     "output_type": "stream",
     "text": [
      "[2.0, 2.0, 8.0]\n"
     ]
    }
   ],
   "source": [
    "env_monitor = gym.wrappers.Monitor(env, directory=\"kungfu_videos\", force=True)\n",
    "rw = evaluate(agent, env_monitor, n_games=3,)\n",
    "env_monitor.close()\n",
    "print (rw)"
   ]
  },
  {
   "cell_type": "code",
   "execution_count": 12,
   "metadata": {},
   "outputs": [
    {
     "data": {
      "text/html": [
       "\n",
       "<video width=\"640\" height=\"480\" controls>\n",
       "  <source src=\"./kungfu_videos/openaigym.video.0.2676.video000000.mp4\" type=\"video/mp4\">\n",
       "</video>\n"
      ],
      "text/plain": [
       "<IPython.core.display.HTML object>"
      ]
     },
     "execution_count": 12,
     "metadata": {},
     "output_type": "execute_result"
    }
   ],
   "source": [
    "#show video\n",
    "from IPython.display import HTML\n",
    "import os\n",
    "\n",
    "video_names = list(filter(lambda s:s.endswith(\".mp4\"),os.listdir(\"./kungfu_videos/\")))\n",
    "\n",
    "HTML(\"\"\"\n",
    "<video width=\"640\" height=\"480\" controls>\n",
    "  <source src=\"{}\" type=\"video/mp4\">\n",
    "</video>\n",
    "\"\"\".format(\"./kungfu_videos/\"+video_names[0])) #this may or may not be _last_ video. Try other indices\n",
    "\n"
   ]
  },
  {
   "cell_type": "markdown",
   "metadata": {},
   "source": [
    "### Training on parallel games\n",
    "![img](img/parallel.png)\n",
    "\n",
    "To make actor-critic training more stable, we shall play several games in parallel. This means ya'll have to initialize several parallel gym envs, send agent's actions there and .reset() each env if it becomes terminated. To minimize learner brain damage, we've taken care of them for ya - just make sure you read it before you use it.\n"
   ]
  },
  {
   "cell_type": "code",
   "execution_count": 13,
   "metadata": {},
   "outputs": [],
   "source": [
    "class EnvBatch:\n",
    "    def __init__(self, n_envs = 10):\n",
    "        \"\"\" Creates n_envs environments and babysits them for ya' \"\"\"\n",
    "        self.envs = [make_env() for _ in range(n_envs)]\n",
    "        \n",
    "    def reset(self):\n",
    "        \"\"\" Reset all games and return [n_envs, *obs_shape] observations \"\"\"\n",
    "        return np.array([env.reset() for env in self.envs])\n",
    "    \n",
    "    def step(self, actions):\n",
    "        \"\"\"\n",
    "        Send a vector[batch_size] of actions into respective environments\n",
    "        :returns: observations[n_envs, *obs_shape], rewards[n_envs], done[n_envs,], info[n_envs]\n",
    "        \"\"\"\n",
    "        results = [env.step(a) for env, a in zip(self.envs, actions)]\n",
    "        new_obs, rewards, done, infos = map(np.array, zip(*results))\n",
    "        \n",
    "        # reset environments automatically\n",
    "        for i in range(len(self.envs)):\n",
    "            if done[i]:\n",
    "                new_obs[i] = self.envs[i].reset()\n",
    "        \n",
    "        return new_obs, rewards, done, infos"
   ]
  },
  {
   "cell_type": "markdown",
   "metadata": {},
   "source": [
    "__Let's try it out:__"
   ]
  },
  {
   "cell_type": "code",
   "execution_count": 14,
   "metadata": {},
   "outputs": [
    {
     "name": "stdout",
     "output_type": "stream",
     "text": [
      "State shape: (10, 42, 42, 4)\n",
      "Actions: [2 3 8]\n",
      "Rewards: [0. 0. 0.]\n",
      "Done: [False False False]\n"
     ]
    }
   ],
   "source": [
    "env_batch = EnvBatch(10)\n",
    "\n",
    "batch_states = env_batch.reset()\n",
    "\n",
    "batch_actions = agent.sample_actions(agent.step(batch_states))\n",
    "\n",
    "batch_next_states, batch_rewards, batch_done, _ = env_batch.step(batch_actions)\n",
    "\n",
    "print(\"State shape:\", batch_states.shape)\n",
    "print(\"Actions:\", batch_actions[:3])\n",
    "print(\"Rewards:\", batch_rewards[:3])\n",
    "print(\"Done:\", batch_done[:3])\n"
   ]
  },
  {
   "cell_type": "markdown",
   "metadata": {},
   "source": [
    "# Actor-critic\n",
    "\n",
    "Here we define a loss functions and learning algorithms as usual."
   ]
  },
  {
   "cell_type": "code",
   "execution_count": 15,
   "metadata": {},
   "outputs": [],
   "source": [
    "# These placeholders mean exactly the same as in \"Let's try it out\" section above\n",
    "states_ph = tf.placeholder('float32', [None,] + list(obs_shape))    \n",
    "next_states_ph = tf.placeholder('float32', [None,] + list(obs_shape))\n",
    "actions_ph = tf.placeholder('int32', (None,))\n",
    "rewards_ph = tf.placeholder('float32', (None,))\n",
    "is_done_ph = tf.placeholder('float32', (None,))"
   ]
  },
  {
   "cell_type": "code",
   "execution_count": 16,
   "metadata": {},
   "outputs": [],
   "source": [
    "# logits[n_envs, n_actions] and state_values[n_envs, n_actions]\n",
    "logits, state_values = agent.symbolic_step(states_ph)\n",
    "next_logits, next_state_values = agent.symbolic_step(next_states_ph)\n",
    "next_state_values = next_state_values * (1 - is_done_ph)\n",
    "\n",
    "# probabilities and log-probabilities for all actions\n",
    "probs = tf.nn.softmax(logits)            # [n_envs, n_actions]\n",
    "logprobs = tf.nn.log_softmax(logits)     # [n_envs, n_actions]\n",
    "\n",
    "# log-probabilities only for agent's chosen actions\n",
    "logp_actions = tf.reduce_sum(logprobs * tf.one_hot(actions_ph, n_actions), axis=-1) # [n_envs,]"
   ]
  },
  {
   "cell_type": "code",
   "execution_count": 17,
   "metadata": {},
   "outputs": [],
   "source": [
    "\n",
    "\n",
    "# compute advantage using rewards_ph, state_values and next_state_values\n",
    "gamma = 0.99\n",
    "advantage = rewards_ph + gamma*next_state_values - state_values\n",
    "\n",
    "assert advantage.shape.ndims == 1, \"please compute advantage for each sample, vector of shape [n_envs,]\"\n",
    "\n",
    "# compute policy entropy given logits_seq. Mind the \"-\" sign!\n",
    "entropy =  -tf.reduce_sum(probs * logprobs, 1, name=\"entropy\")\n",
    "\n",
    "assert entropy.shape.ndims == 1, \"please compute pointwise entropy vector of shape [n_envs,] \"\n",
    "\n",
    "\n",
    "\n",
    "actor_loss =  - tf.reduce_mean(logp_actions * tf.stop_gradient(advantage)) - 0.001 * tf.reduce_mean(entropy)\n",
    "\n",
    "# compute target state values using temporal difference formula. Use rewards_ph and next_step_values\n",
    "target_state_values = rewards_ph+gamma*next_state_values\n",
    "\n",
    "critic_loss = tf.reduce_mean((state_values - tf.stop_gradient(target_state_values))**2 )\n",
    "\n",
    "train_step = tf.train.AdamOptimizer(1e-4).minimize(actor_loss + critic_loss)\n",
    "sess.run(tf.global_variables_initializer())"
   ]
  },
  {
   "cell_type": "code",
   "execution_count": 18,
   "metadata": {},
   "outputs": [
    {
     "name": "stdout",
     "output_type": "stream",
     "text": [
      "You just might be fine!\n"
     ]
    }
   ],
   "source": [
    "# Sanity checks to catch some errors. Specific to KungFuMaster in assignment's default setup.\n",
    "l_act, l_crit, adv, ent = sess.run([actor_loss, critic_loss, advantage, entropy], feed_dict = {\n",
    "        states_ph: batch_states,\n",
    "        actions_ph: batch_actions,\n",
    "        next_states_ph: batch_states,\n",
    "        rewards_ph: batch_rewards,\n",
    "        is_done_ph: batch_done,\n",
    "    })\n",
    "\n",
    "assert abs(l_act) < 100 and abs(l_crit) < 100, \"losses seem abnormally large\"\n",
    "assert 0 <= ent.mean() <= np.log(n_actions), \"impossible entropy value, double-check the formula pls\"\n",
    "if ent.mean() < np.log(n_actions) / 2: print(\"Entropy is too low for untrained agent\")\n",
    "print(\"You just might be fine!\")"
   ]
  },
  {
   "cell_type": "markdown",
   "metadata": {},
   "source": [
    "# Train \n",
    "\n",
    "Just the usual - play a bit, compute loss, follow the graidents, repeat a few million times.\n",
    "![img](img/train.gif)"
   ]
  },
  {
   "cell_type": "code",
   "execution_count": 21,
   "metadata": {},
   "outputs": [],
   "source": [
    "from IPython.display import clear_output\n",
    "from tqdm import trange\n",
    "import pandas as pd\n",
    "env_batch = EnvBatch(10)\n",
    "batch_states = env_batch.reset()\n",
    "\n",
    "rewards_history = []\n",
    "entropy_history = []"
   ]
  },
  {
   "cell_type": "code",
   "execution_count": null,
   "metadata": {},
   "outputs": [],
   "source": [
    "pd.Series.ewm"
   ]
  },
  {
   "cell_type": "code",
   "execution_count": 23,
   "metadata": {},
   "outputs": [
    {
     "data": {
      "image/png": "[encoded data removed]",
      "text/plain": [
       "<Figure size 576x288 with 2 Axes>"
      ]
     },
     "metadata": {
      "needs_background": "light"
     },
     "output_type": "display_data"
    },
    {
     "name": "stderr",
     "output_type": "stream",
     "text": [
      "\n",
      "100%|█████████▉| 99502/100000 [2:22:48<01:11,  6.98it/s]\u001b[A\n",
      "100%|█████████▉| 99504/100000 [2:22:49<00:58,  8.48it/s]\u001b[A\n",
      "100%|█████████▉| 99506/100000 [2:22:49<00:50,  9.70it/s]\u001b[A\n",
      "100%|█████████▉| 99508/100000 [2:22:49<00:46, 10.65it/s]\u001b[A\n",
      "100%|█████████▉| 99510/100000 [2:22:49<00:41, 11.72it/s]\u001b[A\n",
      "100%|█████████▉| 99512/100000 [2:22:49<00:38, 12.69it/s]\u001b[A\n",
      "100%|█████████▉| 99514/100000 [2:22:49<00:37, 13.12it/s]\u001b[A\n",
      "100%|█████████▉| 99516/100000 [2:22:49<00:41, 11.69it/s]\u001b[A\n",
      "100%|█████████▉| 99518/100000 [2:22:50<00:39, 12.29it/s]\u001b[A\n",
      "100%|█████████▉| 99520/100000 [2:22:50<00:38, 12.44it/s]\u001b[A\n",
      "100%|█████████▉| 99522/100000 [2:22:50<00:40, 11.67it/s]\u001b[A\n",
      "100%|█████████▉| 99524/100000 [2:22:50<00:41, 11.52it/s]\u001b[A\n",
      "100%|█████████▉| 99526/100000 [2:22:50<00:43, 11.01it/s]\u001b[A\n",
      "100%|█████████▉| 99528/100000 [2:22:51<00:43, 10.75it/s]\u001b[A\n",
      "100%|█████████▉| 99530/100000 [2:22:51<00:39, 11.95it/s]\u001b[A\n",
      "100%|█████████▉| 99532/100000 [2:22:51<00:41, 11.21it/s]\u001b[A\n",
      "100%|█████████▉| 99534/100000 [2:22:51<00:42, 10.96it/s]\u001b[A\n",
      "100%|█████████▉| 99536/100000 [2:22:51<00:40, 11.40it/s]\u001b[A\n",
      "100%|█████████▉| 99538/100000 [2:22:51<00:39, 11.83it/s]\u001b[A\n",
      "100%|█████████▉| 99540/100000 [2:22:52<00:36, 12.62it/s]\u001b[A\n",
      "100%|█████████▉| 99542/100000 [2:22:52<00:35, 13.08it/s]\u001b[A\n",
      "100%|█████████▉| 99544/100000 [2:22:52<00:32, 13.87it/s]\u001b[A\n",
      "100%|█████████▉| 99546/100000 [2:22:52<00:31, 14.62it/s]\u001b[A\n",
      "100%|█████████▉| 99548/100000 [2:22:52<00:29, 15.15it/s]\u001b[A\n",
      "100%|█████████▉| 99550/100000 [2:22:52<00:30, 14.63it/s]\u001b[A\n",
      "100%|█████████▉| 99552/100000 [2:22:52<00:28, 15.59it/s]\u001b[A\n",
      "100%|█████████▉| 99554/100000 [2:22:52<00:30, 14.68it/s]\u001b[A\n",
      "100%|█████████▉| 99556/100000 [2:22:53<00:31, 14.07it/s]\u001b[A\n",
      "100%|█████████▉| 99558/100000 [2:22:53<00:30, 14.40it/s]\u001b[A\n",
      "100%|█████████▉| 99560/100000 [2:22:53<00:32, 13.56it/s]\u001b[A\n",
      "100%|█████████▉| 99562/100000 [2:22:53<00:30, 14.40it/s]\u001b[A\n",
      "100%|█████████▉| 99564/100000 [2:22:53<00:31, 13.64it/s]\u001b[A\n",
      "100%|█████████▉| 99566/100000 [2:22:53<00:34, 12.43it/s]\u001b[A\n",
      "100%|█████████▉| 99568/100000 [2:22:53<00:32, 13.19it/s]\u001b[A\n",
      "100%|█████████▉| 99570/100000 [2:22:54<00:32, 13.33it/s]\u001b[A\n",
      "100%|█████████▉| 99572/100000 [2:22:54<00:33, 12.87it/s]\u001b[A\n",
      "100%|█████████▉| 99574/100000 [2:22:54<00:34, 12.34it/s]\u001b[A\n",
      "100%|█████████▉| 99576/100000 [2:22:54<00:35, 12.01it/s]\u001b[A\n",
      "100%|█████████▉| 99578/100000 [2:22:54<00:35, 12.05it/s]\u001b[A\n",
      "100%|█████████▉| 99580/100000 [2:22:55<00:36, 11.53it/s]\u001b[A\n",
      "100%|█████████▉| 99582/100000 [2:22:55<00:37, 11.29it/s]\u001b[A\n",
      "100%|█████████▉| 99584/100000 [2:22:55<00:39, 10.49it/s]\u001b[A\n",
      "100%|█████████▉| 99586/100000 [2:22:55<00:37, 11.01it/s]\u001b[A\n",
      "100%|█████████▉| 99588/100000 [2:22:55<00:36, 11.32it/s]\u001b[A\n",
      "100%|█████████▉| 99590/100000 [2:22:55<00:38, 10.77it/s]\u001b[A\n",
      "100%|█████████▉| 99592/100000 [2:22:56<00:36, 11.13it/s]\u001b[A\n",
      "100%|█████████▉| 99594/100000 [2:22:56<00:34, 11.90it/s]\u001b[A\n",
      "100%|█████████▉| 99596/100000 [2:22:56<00:35, 11.27it/s]\u001b[A\n",
      "100%|█████████▉| 99598/100000 [2:22:56<00:35, 11.47it/s]\u001b[A\n",
      "100%|█████████▉| 99600/100000 [2:22:56<00:30, 13.14it/s]\u001b[A\n",
      "100%|█████████▉| 99602/100000 [2:22:56<00:28, 14.06it/s]\u001b[A\n",
      "100%|█████████▉| 99604/100000 [2:22:56<00:28, 14.04it/s]\u001b[A\n",
      "100%|█████████▉| 99606/100000 [2:22:57<00:29, 13.56it/s]\u001b[A\n",
      "100%|█████████▉| 99608/100000 [2:22:57<00:29, 13.11it/s]\u001b[A\n",
      "100%|█████████▉| 99610/100000 [2:22:57<00:30, 12.95it/s]\u001b[A\n",
      "100%|█████████▉| 99612/100000 [2:22:57<00:29, 13.36it/s]\u001b[A\n",
      "100%|█████████▉| 99614/100000 [2:22:57<00:27, 13.83it/s]\u001b[A\n",
      "100%|█████████▉| 99616/100000 [2:22:57<00:27, 14.09it/s]\u001b[A\n",
      "100%|█████████▉| 99618/100000 [2:22:58<00:27, 13.68it/s]\u001b[A\n",
      "100%|█████████▉| 99620/100000 [2:22:58<00:27, 13.61it/s]\u001b[A\n",
      "100%|█████████▉| 99622/100000 [2:22:58<00:27, 13.59it/s]\u001b[A\n",
      "100%|█████████▉| 99624/100000 [2:22:58<00:27, 13.44it/s]\u001b[A\n",
      "100%|█████████▉| 99626/100000 [2:22:58<00:26, 13.95it/s]\u001b[A\n",
      "100%|█████████▉| 99628/100000 [2:22:58<00:26, 14.05it/s]\u001b[A\n",
      "100%|█████████▉| 99630/100000 [2:22:58<00:25, 14.34it/s]\u001b[A\n",
      "100%|█████████▉| 99632/100000 [2:22:59<00:26, 14.08it/s]\u001b[A\n",
      "100%|█████████▉| 99634/100000 [2:22:59<00:25, 14.15it/s]\u001b[A\n",
      "100%|█████████▉| 99636/100000 [2:22:59<00:27, 13.01it/s]\u001b[A\n",
      "100%|█████████▉| 99638/100000 [2:22:59<00:29, 12.09it/s]\u001b[A\n",
      "100%|█████████▉| 99640/100000 [2:22:59<00:30, 11.69it/s]\u001b[A\n",
      "100%|█████████▉| 99642/100000 [2:22:59<00:30, 11.77it/s]\u001b[A\n",
      "100%|█████████▉| 99644/100000 [2:23:00<00:29, 12.05it/s]\u001b[A\n",
      "100%|█████████▉| 99646/100000 [2:23:00<00:30, 11.58it/s]\u001b[A\n",
      "100%|█████████▉| 99648/100000 [2:23:00<00:29, 12.04it/s]\u001b[A\n",
      "100%|█████████▉| 99650/100000 [2:23:00<00:25, 13.66it/s]\u001b[A\n",
      "100%|█████████▉| 99652/100000 [2:23:00<00:27, 12.82it/s]\u001b[A\n",
      "100%|█████████▉| 99654/100000 [2:23:00<00:26, 13.20it/s]\u001b[A\n",
      "100%|█████████▉| 99656/100000 [2:23:00<00:25, 13.62it/s]\u001b[A\n",
      "100%|█████████▉| 99658/100000 [2:23:01<00:26, 13.03it/s]\u001b[A\n",
      "100%|█████████▉| 99660/100000 [2:23:01<00:25, 13.09it/s]\u001b[A\n",
      "100%|█████████▉| 99662/100000 [2:23:01<00:25, 13.29it/s]\u001b[A\n",
      "100%|█████████▉| 99664/100000 [2:23:01<00:25, 13.12it/s]\u001b[A\n",
      "100%|█████████▉| 99666/100000 [2:23:01<00:23, 14.06it/s]\u001b[A\n",
      "100%|█████████▉| 99668/100000 [2:23:01<00:22, 14.62it/s]\u001b[A\n",
      "100%|█████████▉| 99670/100000 [2:23:01<00:21, 15.37it/s]\u001b[A\n",
      "100%|█████████▉| 99672/100000 [2:23:02<00:21, 15.61it/s]\u001b[A\n",
      "100%|█████████▉| 99674/100000 [2:23:02<00:21, 15.43it/s]\u001b[A\n",
      "100%|█████████▉| 99676/100000 [2:23:02<00:21, 15.00it/s]\u001b[A\n",
      "100%|█████████▉| 99678/100000 [2:23:02<00:22, 14.16it/s]\u001b[A\n",
      "100%|█████████▉| 99680/100000 [2:23:02<00:24, 13.00it/s]\u001b[A\n",
      "100%|█████████▉| 99682/100000 [2:23:02<00:26, 11.86it/s]\u001b[A\n",
      "100%|█████████▉| 99684/100000 [2:23:03<00:25, 12.34it/s]\u001b[A\n",
      "100%|█████████▉| 99686/100000 [2:23:03<00:23, 13.54it/s]\u001b[A\n",
      "100%|█████████▉| 99688/100000 [2:23:03<00:21, 14.80it/s]\u001b[A\n",
      "100%|█████████▉| 99690/100000 [2:23:03<00:19, 15.83it/s]\u001b[A\n",
      "100%|█████████▉| 99692/100000 [2:23:03<00:19, 16.02it/s]\u001b[A\n",
      "100%|█████████▉| 99694/100000 [2:23:03<00:20, 15.16it/s]\u001b[A\n",
      "100%|█████████▉| 99696/100000 [2:23:03<00:20, 15.05it/s]\u001b[A\n",
      "100%|█████████▉| 99698/100000 [2:23:03<00:20, 14.47it/s]\u001b[A\n",
      "100%|█████████▉| 99700/100000 [2:23:04<00:21, 14.09it/s]\u001b[A\n",
      "100%|█████████▉| 99702/100000 [2:23:04<00:21, 13.88it/s]\u001b[A\n",
      "100%|█████████▉| 99704/100000 [2:23:04<00:21, 13.73it/s]\u001b[A\n",
      "100%|█████████▉| 99706/100000 [2:23:04<00:21, 13.97it/s]\u001b[A\n",
      "100%|█████████▉| 99708/100000 [2:23:04<00:20, 14.29it/s]\u001b[A\n",
      "100%|█████████▉| 99710/100000 [2:23:04<00:18, 15.36it/s]\u001b[A\n",
      "100%|█████████▉| 99712/100000 [2:23:04<00:21, 13.44it/s]\u001b[A\n",
      "100%|█████████▉| 99714/100000 [2:23:05<00:25, 11.21it/s]\u001b[A\n",
      "100%|█████████▉| 99716/100000 [2:23:05<00:24, 11.67it/s]\u001b[A\n",
      "100%|█████████▉| 99718/100000 [2:23:05<00:24, 11.45it/s]\u001b[A\n",
      "100%|█████████▉| 99720/100000 [2:23:05<00:22, 12.71it/s]\u001b[A\n",
      "100%|█████████▉| 99722/100000 [2:23:05<00:20, 13.76it/s]\u001b[A\n",
      "100%|█████████▉| 99724/100000 [2:23:05<00:18, 14.59it/s]\u001b[A\n",
      "100%|█████████▉| 99726/100000 [2:23:05<00:17, 15.23it/s]\u001b[A\n",
      "100%|█████████▉| 99728/100000 [2:23:06<00:17, 15.33it/s]\u001b[A\n",
      "100%|█████████▉| 99730/100000 [2:23:06<00:19, 13.60it/s]\u001b[A\n",
      "100%|█████████▉| 99732/100000 [2:23:06<00:19, 13.58it/s]\u001b[A\n",
      "100%|█████████▉| 99734/100000 [2:23:06<00:18, 14.26it/s]\u001b[A\n",
      "100%|█████████▉| 99736/100000 [2:23:06<00:17, 14.83it/s]\u001b[A\n",
      "100%|█████████▉| 99738/100000 [2:23:06<00:17, 14.75it/s]\u001b[A\n",
      "100%|█████████▉| 99740/100000 [2:23:06<00:17, 15.12it/s]\u001b[A\n",
      "100%|█████████▉| 99742/100000 [2:23:07<00:16, 15.43it/s]\u001b[A\n",
      "100%|█████████▉| 99744/100000 [2:23:07<00:17, 14.72it/s]\u001b[A\n",
      "100%|█████████▉| 99746/100000 [2:23:07<00:17, 14.23it/s]\u001b[A\n",
      "100%|█████████▉| 99748/100000 [2:23:07<00:19, 13.20it/s]\u001b[A\n",
      "100%|█████████▉| 99750/100000 [2:23:07<00:17, 14.34it/s]\u001b[A\n",
      "100%|█████████▉| 99752/100000 [2:23:07<00:20, 12.21it/s]\u001b[A\n",
      "100%|█████████▉| 99754/100000 [2:23:08<00:21, 11.26it/s]\u001b[A\n",
      "100%|█████████▉| 99756/100000 [2:23:08<00:21, 11.21it/s]\u001b[A\n",
      "100%|█████████▉| 99758/100000 [2:23:08<00:22, 10.95it/s]\u001b[A\n",
      "100%|█████████▉| 99760/100000 [2:23:08<00:19, 12.26it/s]\u001b[A\n",
      "100%|█████████▉| 99762/100000 [2:23:08<00:18, 13.15it/s]\u001b[A\n",
      "100%|█████████▉| 99764/100000 [2:23:08<00:17, 13.29it/s]\u001b[A\n",
      "100%|█████████▉| 99766/100000 [2:23:09<00:18, 12.67it/s]\u001b[A\n",
      "100%|█████████▉| 99768/100000 [2:23:09<00:20, 11.59it/s]\u001b[A\n",
      "100%|█████████▉| 99770/100000 [2:23:09<00:20, 11.08it/s]\u001b[A\n",
      "100%|█████████▉| 99772/100000 [2:23:09<00:21, 10.60it/s]\u001b[A\n"
     ]
    },
    {
     "name": "stderr",
     "output_type": "stream",
     "text": [
      "100%|█████████▉| 99774/100000 [2:23:09<00:20, 11.01it/s]\u001b[A\n",
      "100%|█████████▉| 99776/100000 [2:23:09<00:19, 11.51it/s]\u001b[A\n",
      "100%|█████████▉| 99778/100000 [2:23:10<00:18, 11.91it/s]\u001b[A\n",
      "100%|█████████▉| 99780/100000 [2:23:10<00:18, 11.95it/s]\u001b[A\n",
      "100%|█████████▉| 99782/100000 [2:23:10<00:18, 11.79it/s]\u001b[A\n",
      "100%|█████████▉| 99784/100000 [2:23:10<00:18, 11.55it/s]\u001b[A\n",
      "100%|█████████▉| 99786/100000 [2:23:10<00:20, 10.49it/s]\u001b[A\n",
      "100%|█████████▉| 99788/100000 [2:23:11<00:18, 11.17it/s]\u001b[A\n",
      "100%|█████████▉| 99790/100000 [2:23:11<00:16, 12.39it/s]\u001b[A\n",
      "100%|█████████▉| 99792/100000 [2:23:11<00:15, 13.34it/s]\u001b[A\n",
      "100%|█████████▉| 99794/100000 [2:23:11<00:15, 13.08it/s]\u001b[A\n",
      "100%|█████████▉| 99796/100000 [2:23:11<00:16, 12.01it/s]\u001b[A\n",
      "100%|█████████▉| 99798/100000 [2:23:11<00:17, 11.75it/s]\u001b[A\n",
      "100%|█████████▉| 99801/100000 [2:23:11<00:15, 13.23it/s]\u001b[A\n",
      "100%|█████████▉| 99803/100000 [2:23:12<00:15, 12.88it/s]\u001b[A\n",
      "100%|█████████▉| 99805/100000 [2:23:12<00:16, 12.18it/s]\u001b[A\n",
      "100%|█████████▉| 99807/100000 [2:23:12<00:18, 10.71it/s]\u001b[A\n",
      "100%|█████████▉| 99809/100000 [2:23:12<00:17, 10.93it/s]\u001b[A\n",
      "100%|█████████▉| 99811/100000 [2:23:12<00:17, 10.80it/s]\u001b[A\n",
      "100%|█████████▉| 99813/100000 [2:23:13<00:16, 11.02it/s]\u001b[A\n",
      "100%|█████████▉| 99815/100000 [2:23:13<00:15, 11.91it/s]\u001b[A\n",
      "100%|█████████▉| 99817/100000 [2:23:13<00:14, 12.64it/s]\u001b[A\n",
      "100%|█████████▉| 99819/100000 [2:23:13<00:15, 11.74it/s]\u001b[A\n",
      "100%|█████████▉| 99821/100000 [2:23:13<00:16, 11.15it/s]\u001b[A\n",
      "100%|█████████▉| 99823/100000 [2:23:13<00:16, 10.99it/s]\u001b[A\n",
      "100%|█████████▉| 99825/100000 [2:23:14<00:16, 10.73it/s]\u001b[A\n",
      "100%|█████████▉| 99827/100000 [2:23:14<00:17,  9.74it/s]\u001b[A\n",
      "100%|█████████▉| 99829/100000 [2:23:14<00:17,  9.56it/s]\u001b[A\n",
      "100%|█████████▉| 99830/100000 [2:23:14<00:17,  9.63it/s]\u001b[A\n",
      "100%|█████████▉| 99831/100000 [2:23:14<00:18,  9.07it/s]\u001b[A\n",
      "100%|█████████▉| 99833/100000 [2:23:15<00:17,  9.50it/s]\u001b[A\n",
      "100%|█████████▉| 99834/100000 [2:23:15<00:19,  8.55it/s]\u001b[A\n",
      "100%|█████████▉| 99835/100000 [2:23:15<00:20,  7.94it/s]\u001b[A\n",
      "100%|█████████▉| 99837/100000 [2:23:15<00:18,  8.70it/s]\u001b[A\n",
      "100%|█████████▉| 99839/100000 [2:23:15<00:17,  9.25it/s]\u001b[A\n",
      "100%|█████████▉| 99840/100000 [2:23:15<00:17,  9.29it/s]\u001b[A\n",
      "100%|█████████▉| 99842/100000 [2:23:15<00:15, 10.43it/s]\u001b[A\n",
      "100%|█████████▉| 99844/100000 [2:23:16<00:13, 11.38it/s]\u001b[A\n",
      "100%|█████████▉| 99846/100000 [2:23:16<00:13, 11.70it/s]\u001b[A\n",
      "100%|█████████▉| 99848/100000 [2:23:16<00:12, 11.74it/s]\u001b[A\n",
      "100%|█████████▉| 99850/100000 [2:23:16<00:12, 12.19it/s]\u001b[A\n",
      "100%|█████████▉| 99852/100000 [2:23:16<00:12, 12.26it/s]\u001b[A\n",
      "100%|█████████▉| 99854/100000 [2:23:16<00:10, 13.53it/s]\u001b[A\n",
      "100%|█████████▉| 99856/100000 [2:23:16<00:10, 14.23it/s]\u001b[A\n",
      "100%|█████████▉| 99858/100000 [2:23:17<00:09, 15.09it/s]\u001b[A\n",
      "100%|█████████▉| 99860/100000 [2:23:17<00:08, 15.64it/s]\u001b[A\n",
      "100%|█████████▉| 99862/100000 [2:23:17<00:08, 16.16it/s]\u001b[A\n",
      "100%|█████████▉| 99864/100000 [2:23:17<00:08, 16.28it/s]\u001b[A\n",
      "100%|█████████▉| 99866/100000 [2:23:17<00:08, 16.61it/s]\u001b[A\n",
      "100%|█████████▉| 99868/100000 [2:23:17<00:08, 16.25it/s]\u001b[A\n",
      "100%|█████████▉| 99870/100000 [2:23:17<00:07, 16.69it/s]\u001b[A\n",
      "100%|█████████▉| 99872/100000 [2:23:17<00:07, 16.94it/s]\u001b[A\n",
      "100%|█████████▉| 99874/100000 [2:23:17<00:07, 17.11it/s]\u001b[A\n",
      "100%|█████████▉| 99876/100000 [2:23:18<00:07, 17.22it/s]\u001b[A\n",
      "100%|█████████▉| 99878/100000 [2:23:18<00:07, 16.81it/s]\u001b[A\n",
      "100%|█████████▉| 99880/100000 [2:23:18<00:07, 16.58it/s]\u001b[A\n",
      "100%|█████████▉| 99882/100000 [2:23:18<00:08, 14.23it/s]\u001b[A\n",
      "100%|█████████▉| 99884/100000 [2:23:18<00:08, 14.19it/s]\u001b[A\n",
      "100%|█████████▉| 99886/100000 [2:23:18<00:08, 13.35it/s]\u001b[A\n",
      "100%|█████████▉| 99888/100000 [2:23:19<00:08, 12.69it/s]\u001b[A\n",
      "100%|█████████▉| 99890/100000 [2:23:19<00:08, 13.61it/s]\u001b[A\n",
      "100%|█████████▉| 99892/100000 [2:23:19<00:07, 15.00it/s]\u001b[A\n",
      "100%|█████████▉| 99894/100000 [2:23:19<00:07, 13.70it/s]\u001b[A\n",
      "100%|█████████▉| 99896/100000 [2:23:19<00:08, 12.75it/s]\u001b[A\n",
      "100%|█████████▉| 99898/100000 [2:23:19<00:08, 11.96it/s]\u001b[A\n",
      "100%|█████████▉| 99900/100000 [2:23:19<00:08, 12.24it/s]\u001b[A\n",
      "100%|█████████▉| 99902/100000 [2:23:20<00:07, 12.67it/s]\u001b[A\n",
      "100%|█████████▉| 99904/100000 [2:23:20<00:07, 13.14it/s]\u001b[A\n",
      "100%|█████████▉| 99906/100000 [2:23:20<00:06, 14.09it/s]\u001b[A\n",
      "100%|█████████▉| 99908/100000 [2:23:20<00:06, 15.17it/s]\u001b[A\n",
      "100%|█████████▉| 99910/100000 [2:23:20<00:05, 15.92it/s]\u001b[A\n",
      "100%|█████████▉| 99912/100000 [2:23:20<00:05, 16.52it/s]\u001b[A\n",
      "100%|█████████▉| 99914/100000 [2:23:20<00:05, 16.47it/s]\u001b[A\n",
      "100%|█████████▉| 99916/100000 [2:23:20<00:05, 14.52it/s]\u001b[A\n",
      "100%|█████████▉| 99918/100000 [2:23:21<00:05, 14.33it/s]\u001b[A\n",
      "100%|█████████▉| 99920/100000 [2:23:21<00:05, 14.86it/s]\u001b[A\n",
      "100%|█████████▉| 99922/100000 [2:23:21<00:05, 14.56it/s]\u001b[A\n",
      "100%|█████████▉| 99924/100000 [2:23:21<00:06, 12.25it/s]\u001b[A\n",
      "100%|█████████▉| 99926/100000 [2:23:21<00:06, 12.33it/s]\u001b[A\n",
      "100%|█████████▉| 99928/100000 [2:23:21<00:05, 13.60it/s]\u001b[A\n",
      "100%|█████████▉| 99930/100000 [2:23:21<00:04, 15.04it/s]\u001b[A\n",
      "100%|█████████▉| 99932/100000 [2:23:22<00:04, 16.20it/s]\u001b[A\n",
      "100%|█████████▉| 99934/100000 [2:23:22<00:04, 14.31it/s]\u001b[A\n",
      "100%|█████████▉| 99936/100000 [2:23:22<00:04, 14.05it/s]\u001b[A\n",
      "100%|█████████▉| 99938/100000 [2:23:22<00:04, 14.54it/s]\u001b[A\n",
      "100%|█████████▉| 99940/100000 [2:23:22<00:04, 14.57it/s]\u001b[A\n",
      "100%|█████████▉| 99942/100000 [2:23:22<00:03, 15.46it/s]\u001b[A\n",
      "100%|█████████▉| 99944/100000 [2:23:22<00:03, 16.28it/s]\u001b[A\n",
      "100%|█████████▉| 99946/100000 [2:23:23<00:03, 16.61it/s]\u001b[A\n",
      "100%|█████████▉| 99948/100000 [2:23:23<00:03, 15.26it/s]\u001b[A\n",
      "100%|█████████▉| 99950/100000 [2:23:23<00:03, 15.55it/s]\u001b[A\n",
      "100%|█████████▉| 99952/100000 [2:23:23<00:03, 15.95it/s]\u001b[A\n",
      "100%|█████████▉| 99954/100000 [2:23:23<00:02, 15.84it/s]\u001b[A\n",
      "100%|█████████▉| 99956/100000 [2:23:23<00:02, 15.94it/s]\u001b[A\n",
      "100%|█████████▉| 99958/100000 [2:23:23<00:02, 16.17it/s]\u001b[A\n",
      "100%|█████████▉| 99960/100000 [2:23:23<00:02, 16.93it/s]\u001b[A\n",
      "100%|█████████▉| 99962/100000 [2:23:23<00:02, 17.56it/s]\u001b[A\n",
      "100%|█████████▉| 99964/100000 [2:23:24<00:02, 17.44it/s]\u001b[A\n",
      "100%|█████████▉| 99966/100000 [2:23:24<00:01, 17.34it/s]\u001b[A\n",
      "100%|█████████▉| 99968/100000 [2:23:24<00:01, 16.84it/s]\u001b[A\n",
      "100%|█████████▉| 99970/100000 [2:23:24<00:02, 14.62it/s]\u001b[A\n",
      "100%|█████████▉| 99972/100000 [2:23:24<00:01, 14.91it/s]\u001b[A\n",
      "100%|█████████▉| 99974/100000 [2:23:24<00:01, 15.45it/s]\u001b[A\n",
      "100%|█████████▉| 99976/100000 [2:23:24<00:01, 15.47it/s]\u001b[A\n",
      "100%|█████████▉| 99978/100000 [2:23:25<00:01, 13.66it/s]\u001b[A\n",
      "100%|█████████▉| 99980/100000 [2:23:25<00:01, 13.00it/s]\u001b[A\n",
      "100%|█████████▉| 99982/100000 [2:23:25<00:01, 13.42it/s]\u001b[A\n",
      "100%|█████████▉| 99984/100000 [2:23:25<00:01, 13.76it/s]\u001b[A\n",
      "100%|█████████▉| 99986/100000 [2:23:25<00:01, 13.68it/s]\u001b[A\n",
      "100%|█████████▉| 99988/100000 [2:23:25<00:00, 12.39it/s]\u001b[A\n",
      "100%|█████████▉| 99990/100000 [2:23:26<00:00, 12.69it/s]\u001b[A\n",
      "100%|█████████▉| 99992/100000 [2:23:26<00:00, 12.32it/s]\u001b[A\n",
      "100%|█████████▉| 99994/100000 [2:23:26<00:00, 12.58it/s]\u001b[A\n",
      "100%|█████████▉| 99996/100000 [2:23:26<00:00, 12.36it/s]\u001b[A\n",
      "100%|█████████▉| 99998/100000 [2:23:26<00:00, 13.52it/s]\u001b[A\n",
      "100%|██████████| 100000/100000 [2:23:26<00:00, 11.62it/s]\u001b[A\n"
     ]
    }
   ],
   "source": [
    "for i in trange(100000): \n",
    "    \n",
    "    batch_actions = agent.sample_actions(agent.step(batch_states))\n",
    "    batch_next_states, batch_rewards, batch_done, _ = env_batch.step(batch_actions)\n",
    "    \n",
    "    feed_dict = {\n",
    "        states_ph: batch_states,\n",
    "        actions_ph: batch_actions,\n",
    "        next_states_ph: batch_next_states,\n",
    "        rewards_ph: batch_rewards,\n",
    "        is_done_ph: batch_done,\n",
    "    }\n",
    "    batch_states = batch_next_states\n",
    "    \n",
    "    _, ent_t = sess.run([train_step, entropy], feed_dict)\n",
    "    entropy_history.append(np.mean(ent_t))\n",
    "\n",
    "    if i % 500 == 0: \n",
    "        if i % 2500 == 0:\n",
    "            rewards_history.append(np.mean(evaluate(agent, env, n_games=3)))\n",
    "            if rewards_history[-1] >= 50:\n",
    "                print(\"Your agent has earned the yellow belt\")\n",
    "\n",
    "        clear_output(True)\n",
    "        plt.figure(figsize=[8,4])\n",
    "        plt.subplot(1,2,1)\n",
    "        plt.plot(rewards_history, label='rewards')\n",
    "        plt.plot(pd.DataFrame(np.array(rewards_history)).ewm(span=10).mean(), marker='.', label='rewards ewma@10')\n",
    "        plt.title(\"Session rewards\"); plt.grid(); plt.legend()\n",
    "        \n",
    "        plt.subplot(1,2,2)\n",
    "        plt.plot(entropy_history, label='entropy')\n",
    "        plt.plot(pd.DataFrame(np.array(entropy_history)).ewm(span=1000).mean(), label='entropy ewma@1000')\n",
    "        plt.title(\"Policy entropy\"); plt.grid(); plt.legend()        \n",
    "        plt.show()\n",
    "        \n",
    "        \n",
    "\n"
   ]
  },
  {
   "cell_type": "markdown",
   "metadata": {},
   "source": [
    "Relax and grab some refreshments while your agent is locked in an infinite loop of violence and death.\n",
    "\n",
    "__How to interpret plots:__\n",
    "\n",
    "The session reward is the easy thing: it should in general go up over time, but it's okay if it fluctuates ~~like crazy~~. It's also OK if it reward doesn't increase substantially before some 10k initial steps. However, if reward reaches zero and doesn't seem to get up over 2-3 evaluations, there's something wrong happening.\n",
    "\n",
    "\n",
    "Since we use a policy-based method, we also keep track of __policy entropy__ - the same one you used as a regularizer. The only important thing about it is that your entropy shouldn't drop too low (`< 0.1`) before your agent gets the yellow belt. Or at least it can drop there, but _it shouldn't stay there for long_.\n",
    "\n",
    "If it does, the culprit is likely:\n",
    "* Some bug in entropy computation. Remember that it is $ - \\sum p(a_i) \\cdot log p(a_i) $\n",
    "* Your agent architecture converges too fast. Increase entropy coefficient in actor loss. \n",
    "* Gradient explosion - just [clip gradients](https://stackoverflow.com/a/43486487) and maybe use a smaller network\n",
    "* Us. Or TF developers. Or aliens. Or lizardfolk. Contact us on forums before it's too late!\n",
    "\n",
    "If you're debugging, just run `logits, values = agent.step(batch_states)` and manually look into logits and values. This will reveal the problem 9 times out of 10: you'll likely see some NaNs or insanely large numbers or zeros. Try to catch the moment when this happens for the first time and investigate from there."
   ]
  },
  {
   "cell_type": "markdown",
   "metadata": {},
   "source": [
    "### \"Final\" evaluation"
   ]
  },
  {
   "cell_type": "code",
   "execution_count": 24,
   "metadata": {},
   "outputs": [
    {
     "name": "stdout",
     "output_type": "stream",
     "text": [
      "Final mean reward: 38.0\n"
     ]
    }
   ],
   "source": [
    "env_monitor = gym.wrappers.Monitor(env, directory=\"kungfu_videos\", force=True)\n",
    "final_rewards = evaluate(agent, env_monitor, n_games=1,)\n",
    "env_monitor.close()\n",
    "print(\"Final mean reward:\", np.mean(final_rewards))\n",
    "\n",
    "video_names = list(filter(lambda s:s.endswith(\".mp4\"),os.listdir(\"./kungfu_videos/\")))"
   ]
  },
  {
   "cell_type": "code",
   "execution_count": 25,
   "metadata": {},
   "outputs": [
    {
     "data": {
      "text/html": [
       "\n",
       "<video width=\"640\" height=\"480\" controls>\n",
       "  <source src=\"./kungfu_videos/openaigym.video.1.2676.video000000.mp4\" type=\"video/mp4\">\n",
       "</video>\n"
      ],
      "text/plain": [
       "<IPython.core.display.HTML object>"
      ]
     },
     "execution_count": 25,
     "metadata": {},
     "output_type": "execute_result"
    }
   ],
   "source": [
    "HTML(\"\"\"\n",
    "<video width=\"640\" height=\"480\" controls>\n",
    "  <source src=\"{}\" type=\"video/mp4\">\n",
    "</video>\n",
    "\"\"\".format(\"./kungfu_videos/\"+video_names[-1])) "
   ]
  },
  {
   "cell_type": "code",
   "execution_count": 29,
   "metadata": {},
   "outputs": [
    {
     "ename": "IndexError",
     "evalue": "list index out of range",
     "output_type": "error",
     "traceback": [
      "\u001b[0;31m---------------------------------------------------------------------------\u001b[0m",
      "\u001b[0;31mIndexError\u001b[0m                                Traceback (most recent call last)",
      "\u001b[0;32m<ipython-input-29-a833322b1ecb>\u001b[0m in \u001b[0;36m<module>\u001b[0;34m()\u001b[0m\n\u001b[1;32m      3\u001b[0m   \u001b[0;34m<\u001b[0m\u001b[0msource\u001b[0m \u001b[0msrc\u001b[0m\u001b[0;34m=\u001b[0m\u001b[0;34m\"{}\"\u001b[0m \u001b[0mtype\u001b[0m\u001b[0;34m=\u001b[0m\u001b[0;34m\"video/mp4\"\u001b[0m\u001b[0;34m>\u001b[0m\u001b[0;34m\u001b[0m\u001b[0m\n\u001b[1;32m      4\u001b[0m \u001b[0;34m<\u001b[0m\u001b[0;34m/\u001b[0m\u001b[0mvideo\u001b[0m\u001b[0;34m>\u001b[0m\u001b[0;34m\u001b[0m\u001b[0m\n\u001b[0;32m----> 5\u001b[0;31m \"\"\".format(\"./kungfu_videos/\"+video_names[-3])) #try other indices \n\u001b[0m",
      "\u001b[0;31mIndexError\u001b[0m: list index out of range"
     ]
    }
   ],
   "source": [
    "HTML(\"\"\"\n",
    "<video width=\"640\" height=\"480\" controls>\n",
    "  <source src=\"{}\" type=\"video/mp4\">\n",
    "</video>\n",
    "\"\"\".format(\"./kungfu_videos/\"+video_names[-3])) #try other indices "
   ]
  },
  {
   "cell_type": "code",
   "execution_count": null,
   "metadata": {},
   "outputs": [],
   "source": [
    "# if you don't see videos, just navigate to ./kungfu_videos and download .mp4 files from there."
   ]
  },
  {
   "cell_type": "code",
   "execution_count": null,
   "metadata": {},
   "outputs": [],
   "source": [
    "from submit import submit_kungfu\n",
    "env = make_env()\n",
    "submit_kungfu(agent, env, evaluate, '', '')"
   ]
  },
  {
   "cell_type": "markdown",
   "metadata": {},
   "source": [
    "```\n",
    "\n",
    "```\n",
    "```\n",
    "\n",
    "```\n",
    "```\n",
    "\n",
    "```\n",
    "```\n",
    "\n",
    "```\n",
    "```\n",
    "\n",
    "```\n",
    "```\n",
    "\n",
    "```\n",
    "```\n",
    "\n",
    "```\n",
    "```\n",
    "\n",
    "```\n"
   ]
  },
  {
   "cell_type": "markdown",
   "metadata": {},
   "source": [
    "### Now what?\n",
    "Well, 5k reward is [just the beginning](https://www.buzzfeed.com/mattjayyoung/what-the-color-of-your-karate-belt-actually-means-lg3g). Can you get past 200? With recurrent neural network memory, chances are you can even beat 400!\n",
    "\n",
    "* Try n-step advantage and \"lambda\"-advantage (aka GAE) - see [this article](https://arxiv.org/abs/1506.02438)\n",
    " * This change should improve early convergence a lot\n",
    "* Try recurrent neural network \n",
    " * RNN memory will slow things down initially, but in will reach better final reward at this game\n",
    "* Implement asynchronuous version\n",
    " * Remember [A3C](https://arxiv.org/abs/1602.01783)? The first \"A\" stands for asynchronuous. It means there are several parallel actor-learners out there.\n",
    " * You can write custom code for synchronization, but we recommend using [redis](https://redis.io/)\n",
    "   * You can store full parameter set in redis, along with any other metadate\n",
    "   * Here's a _quick_ way to (de)serialize parameters for redis\n",
    "   ```\n",
    "   import joblib\n",
    "   from six import BytesIO\n",
    "```\n",
    "```\n",
    "   def dumps(data):\n",
    "        \"converts whatever to string\"\n",
    "        s = BytesIO()\n",
    "        joblib.dump(data,s)\n",
    "        return s.getvalue()\n",
    "``` \n",
    "```\n",
    "    def loads(string):\n",
    "        \"converts string to whatever was dumps'ed in it\"\n",
    "        return joblib.load(BytesIO(string))\n",
    "```"
   ]
  }
 ],
 "metadata": {
  "anaconda-cloud": {},
  "kernelspec": {
   "display_name": "Python 3",
   "language": "python",
   "name": "python3"
  },
  "language_info": {
   "codemirror_mode": {
    "name": "ipython",
    "version": 3
   },
   "file_extension": ".py",
   "mimetype": "text/x-python",
   "name": "python",
   "nbconvert_exporter": "python",
   "pygments_lexer": "ipython3",
   "version": "3.5.6"
  }
 },
 "nbformat": 4,
 "nbformat_minor": 1
}
