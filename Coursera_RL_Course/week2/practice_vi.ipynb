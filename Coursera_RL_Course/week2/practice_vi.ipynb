{
 "cells": [
  {
   "cell_type": "markdown",
   "metadata": {},
   "source": [
    "### Markov decision process\n",
    "\n",
    "This week's methods are all built to solve __M__arkov __D__ecision __P__rocesses. In the broadest sense, an MDP is defined by how it changes states and how rewards are computed.\n",
    "\n",
    "State transition is defined by $P(s' |s,a)$ - how likely are you to end at state $s'$ if you take action $a$ from state $s$. Now there's more than one way to define rewards, but we'll use $r(s,a,s')$ function for convenience.\n",
    "\n",
    "_This notebook is inspired by the awesome_ [CS294](https://github.com/berkeleydeeprlcourse/homework/blob/36a0b58261acde756abd55306fbe63df226bf62b/hw2/HW2.ipynb) _by Berkeley_"
   ]
  },
  {
   "cell_type": "markdown",
   "metadata": {},
   "source": [
    "For starters, let's define a simple MDP from this picture:\n",
    "\n",
    "<img src=\"https://upload.wikimedia.org/wikipedia/commons/a/ad/Markov_Decision_Process.svg\" width=\"400px\" alt=\"Diagram by Waldoalvarez via Wikimedia Commons, CC BY-SA 4.0\"/>"
   ]
  },
  {
   "cell_type": "code",
   "execution_count": 1,
   "metadata": {},
   "outputs": [],
   "source": [
    "# If you Colab, uncomment this please\n",
    "#!wget -q https://raw.githubusercontent.com/yandexdataschool/Practical_RL/master/week02_value_based/mdp.py\n",
    "\n",
    "transition_probs = {\n",
    "    's0': {\n",
    "        'a0': {'s0': 0.5, 's2': 0.5},\n",
    "        'a1': {'s2': 1}\n",
    "    },\n",
    "    's1': {\n",
    "        'a0': {'s0': 0.7, 's1': 0.1, 's2': 0.2},\n",
    "        'a1': {'s1': 0.95, 's2': 0.05}\n",
    "    },\n",
    "    's2': {\n",
    "        'a0': {'s0': 0.4, 's2': 0.6},\n",
    "        'a1': {'s0': 0.3, 's1': 0.3, 's2': 0.4}\n",
    "    }\n",
    "}\n",
    "rewards = {\n",
    "    's1': {'a0': {'s0': +5}},\n",
    "    's2': {'a1': {'s0': -1}}\n",
    "}\n",
    "\n",
    "from mdp import MDP\n",
    "mdp = MDP(transition_probs, rewards, initial_state='s0')"
   ]
  },
  {
   "cell_type": "markdown",
   "metadata": {},
   "source": [
    "We can now use MDP just as any other gym environment:"
   ]
  },
  {
   "cell_type": "code",
   "execution_count": 2,
   "metadata": {},
   "outputs": [
    {
     "name": "stdout",
     "output_type": "stream",
     "text": [
      "initial state = s0\n",
      "next_state = s2, reward = 0.0, done = False\n"
     ]
    }
   ],
   "source": [
    "print('initial state =', mdp.reset())\n",
    "next_state, reward, done, info = mdp.step('a1')\n",
    "print('next_state = %s, reward = %s, done = %s' % (next_state, reward, done))"
   ]
  },
  {
   "cell_type": "markdown",
   "metadata": {},
   "source": [
    "but it also has other methods that you'll need for Value Iteration"
   ]
  },
  {
   "cell_type": "code",
   "execution_count": 3,
   "metadata": {},
   "outputs": [
    {
     "name": "stdout",
     "output_type": "stream",
     "text": [
      "mdp.get_all_states = ('s0', 's1', 's2')\n",
      "mdp.get_possible_actions('s1') =  ('a0', 'a1')\n",
      "mdp.get_next_states('s1', 'a0') =  {'s0': 0.7, 's1': 0.1, 's2': 0.2}\n",
      "mdp.get_reward('s1', 'a0', 's0') =  5\n",
      "mdp.get_transition_prob('s1', 'a0', 's0') =  0.7\n"
     ]
    }
   ],
   "source": [
    "print(\"mdp.get_all_states =\", mdp.get_all_states())\n",
    "print(\"mdp.get_possible_actions('s1') = \", mdp.get_possible_actions('s1'))\n",
    "print(\"mdp.get_next_states('s1', 'a0') = \", mdp.get_next_states('s1', 'a0'))\n",
    "print(\"mdp.get_reward('s1', 'a0', 's0') = \", mdp.get_reward('s1', 'a0', 's0'))\n",
    "print(\"mdp.get_transition_prob('s1', 'a0', 's0') = \",\n",
    "      mdp.get_transition_prob('s1', 'a0', 's0'))"
   ]
  },
  {
   "cell_type": "markdown",
   "metadata": {},
   "source": [
    "### Optional: Visualizing MDPs\n",
    "\n",
    "You can also visualize any MDP with the drawing fuction donated by [neer201](https://github.com/neer201).\n",
    "\n",
    "You have to install graphviz for system and for python. For ubuntu just run:\n",
    "\n",
    "1. `sudo apt-get install graphviz`\n",
    "2. `pip install graphviz`\n",
    "3. restart the notebook\n",
    "\n",
    "__Note:__ Installing graphviz on some OS (esp. Windows) may be tricky. However, you can ignore this part alltogether and use the standart vizualization."
   ]
  },
  {
   "cell_type": "code",
   "execution_count": 4,
   "metadata": {},
   "outputs": [
    {
     "name": "stdout",
     "output_type": "stream",
     "text": [
      "Graphviz available: True\n"
     ]
    }
   ],
   "source": [
    "from mdp import has_graphviz\n",
    "from IPython.display import display\n",
    "print(\"Graphviz available:\", has_graphviz)"
   ]
  },
  {
   "cell_type": "code",
   "execution_count": 5,
   "metadata": {},
   "outputs": [
    {
     "data": {
      "image/svg+xml": [
       "<?xml version=\"1.0\" encoding=\"UTF-8\" standalone=\"no\"?>\r\n",
       "<!DOCTYPE svg PUBLIC \"-//W3C//DTD SVG 1.1//EN\"\r\n",
       " \"http://www.w3.org/Graphics/SVG/1.1/DTD/svg11.dtd\">\r\n",
       "<!-- Generated by graphviz version 2.38.0 (20140413.2041)\r\n",
       " -->\r\n",
       "<!-- Title: MDP Pages: 1 -->\r\n",
       "<svg width=\"720pt\" height=\"227pt\"\r\n",
       " viewBox=\"0.00 0.00 720.00 226.97\" xmlns=\"http://www.w3.org/2000/svg\" xmlns:xlink=\"http://www.w3.org/1999/xlink\">\r\n",
       "<g id=\"graph0\" class=\"graph\" transform=\"scale(0.704871 0.704871) rotate(0) translate(4 318)\">\r\n",
       "<title>MDP</title>\r\n",
       "<polygon fill=\"white\" stroke=\"none\" points=\"-4,4 -4,-318 1017.46,-318 1017.46,4 -4,4\"/>\r\n",
       "<!-- s0 -->\r\n",
       "<g id=\"node1\" class=\"node\"><title>s0</title>\r\n",
       "<ellipse fill=\"#85ff75\" stroke=\"#85ff75\" cx=\"40\" cy=\"-116\" rx=\"36\" ry=\"36\"/>\r\n",
       "<ellipse fill=\"none\" stroke=\"#85ff75\" cx=\"40\" cy=\"-116\" rx=\"40\" ry=\"40\"/>\r\n",
       "<text text-anchor=\"middle\" x=\"40\" y=\"-109.8\" font-family=\"Arial\" font-size=\"24.00\">s0</text>\r\n",
       "</g>\r\n",
       "<!-- s0&#45;a0 -->\r\n",
       "<g id=\"node2\" class=\"node\"><title>s0&#45;a0</title>\r\n",
       "<ellipse fill=\"lightpink\" stroke=\"lightpink\" cx=\"192.577\" cy=\"-160\" rx=\"27.6545\" ry=\"27.6545\"/>\r\n",
       "<text text-anchor=\"middle\" x=\"192.577\" y=\"-155\" font-family=\"Arial\" font-size=\"20.00\">a0</text>\r\n",
       "</g>\r\n",
       "<!-- s0&#45;&gt;s0&#45;a0 -->\r\n",
       "<g id=\"edge1\" class=\"edge\"><title>s0&#45;&gt;s0&#45;a0</title>\r\n",
       "<path fill=\"none\" stroke=\"red\" stroke-width=\"2\" d=\"M79.0735,-124.577C99.3931,-129.435 124.733,-135.944 147,-143 150.338,-144.058 153.79,-145.23 157.227,-146.45\"/>\r\n",
       "<polygon fill=\"red\" stroke=\"red\" stroke-width=\"2\" points=\"156.171,-149.791 166.764,-149.959 158.588,-143.221 156.171,-149.791\"/>\r\n",
       "</g>\r\n",
       "<!-- s0&#45;a1 -->\r\n",
       "<g id=\"node4\" class=\"node\"><title>s0&#45;a1</title>\r\n",
       "<ellipse fill=\"lightpink\" stroke=\"lightpink\" cx=\"192.577\" cy=\"-233\" rx=\"27.6545\" ry=\"27.6545\"/>\r\n",
       "<text text-anchor=\"middle\" x=\"192.577\" y=\"-228\" font-family=\"Arial\" font-size=\"20.00\">a1</text>\r\n",
       "</g>\r\n",
       "<!-- s0&#45;&gt;s0&#45;a1 -->\r\n",
       "<g id=\"edge4\" class=\"edge\"><title>s0&#45;&gt;s0&#45;a1</title>\r\n",
       "<path fill=\"none\" stroke=\"red\" stroke-width=\"2\" d=\"M66.9211,-145.667C76.2366,-155.537 87.136,-166.237 98,-175 117.05,-190.365 140.454,-204.87 159.091,-215.532\"/>\r\n",
       "<polygon fill=\"red\" stroke=\"red\" stroke-width=\"2\" points=\"157.386,-218.588 167.817,-220.443 160.82,-212.488 157.386,-218.588\"/>\r\n",
       "</g>\r\n",
       "<!-- s0&#45;a0&#45;&gt;s0 -->\r\n",
       "<g id=\"edge2\" class=\"edge\"><title>s0&#45;a0&#45;&gt;s0</title>\r\n",
       "<path fill=\"none\" stroke=\"blue\" stroke-dasharray=\"5,2\" d=\"M165.016,-155.698C146.094,-152.302 120.188,-146.974 98,-140 94.1908,-138.803 90.2855,-137.447 86.3924,-136.004\"/>\r\n",
       "<polygon fill=\"blue\" stroke=\"blue\" points=\"87.3907,-132.637 76.802,-132.277 84.8555,-139.161 87.3907,-132.637\"/>\r\n",
       "<text text-anchor=\"middle\" x=\"122.5\" y=\"-158.2\" font-family=\"Arial\" font-size=\"16.00\">p = 0.5</text>\r\n",
       "</g>\r\n",
       "<!-- s2 -->\r\n",
       "<g id=\"node3\" class=\"node\"><title>s2</title>\r\n",
       "<ellipse fill=\"#85ff75\" stroke=\"#85ff75\" cx=\"430.154\" cy=\"-183\" rx=\"36\" ry=\"36\"/>\r\n",
       "<ellipse fill=\"none\" stroke=\"#85ff75\" cx=\"430.154\" cy=\"-183\" rx=\"40\" ry=\"40\"/>\r\n",
       "<text text-anchor=\"middle\" x=\"430.154\" y=\"-176.8\" font-family=\"Arial\" font-size=\"24.00\">s2</text>\r\n",
       "</g>\r\n",
       "<!-- s0&#45;a0&#45;&gt;s2 -->\r\n",
       "<g id=\"edge3\" class=\"edge\"><title>s0&#45;a0&#45;&gt;s2</title>\r\n",
       "<path fill=\"none\" stroke=\"blue\" stroke-dasharray=\"5,2\" d=\"M220.143,-162.594C258.9,-166.378 331.61,-173.476 380.216,-178.222\"/>\r\n",
       "<polygon fill=\"blue\" stroke=\"blue\" points=\"379.908,-181.709 390.201,-179.197 380.588,-174.742 379.908,-181.709\"/>\r\n",
       "<text text-anchor=\"middle\" x=\"305.154\" y=\"-183.2\" font-family=\"Arial\" font-size=\"16.00\">p = 0.5</text>\r\n",
       "</g>\r\n",
       "<!-- s2&#45;a0 -->\r\n",
       "<g id=\"node8\" class=\"node\"><title>s2&#45;a0</title>\r\n",
       "<ellipse fill=\"lightpink\" stroke=\"lightpink\" cx=\"662.731\" cy=\"-162\" rx=\"27.6545\" ry=\"27.6545\"/>\r\n",
       "<text text-anchor=\"middle\" x=\"662.731\" y=\"-157\" font-family=\"Arial\" font-size=\"20.00\">a0</text>\r\n",
       "</g>\r\n",
       "<!-- s2&#45;&gt;s2&#45;a0 -->\r\n",
       "<g id=\"edge13\" class=\"edge\"><title>s2&#45;&gt;s2&#45;a0</title>\r\n",
       "<path fill=\"none\" stroke=\"red\" stroke-width=\"2\" d=\"M470.104,-186.952C508.071,-189.784 567.218,-191.478 617.154,-181 620.829,-180.229 624.576,-179.15 628.26,-177.892\"/>\r\n",
       "<polygon fill=\"red\" stroke=\"red\" stroke-width=\"2\" points=\"629.689,-181.093 637.769,-174.24 627.179,-174.559 629.689,-181.093\"/>\r\n",
       "</g>\r\n",
       "<!-- s2&#45;a1 -->\r\n",
       "<g id=\"node9\" class=\"node\"><title>s2&#45;a1</title>\r\n",
       "<ellipse fill=\"lightpink\" stroke=\"lightpink\" cx=\"662.731\" cy=\"-80\" rx=\"27.6545\" ry=\"27.6545\"/>\r\n",
       "<text text-anchor=\"middle\" x=\"662.731\" y=\"-75\" font-family=\"Arial\" font-size=\"20.00\">a1</text>\r\n",
       "</g>\r\n",
       "<!-- s2&#45;&gt;s2&#45;a1 -->\r\n",
       "<g id=\"edge16\" class=\"edge\"><title>s2&#45;&gt;s2&#45;a1</title>\r\n",
       "<path fill=\"none\" stroke=\"red\" stroke-width=\"2\" d=\"M464.417,-161.955C472.086,-157.443 480.3,-152.873 488.154,-149 534.945,-125.928 591.475,-104.605 627.025,-91.9442\"/>\r\n",
       "<polygon fill=\"red\" stroke=\"red\" stroke-width=\"2\" points=\"628.206,-95.2389 636.47,-88.6086 625.875,-88.6384 628.206,-95.2389\"/>\r\n",
       "</g>\r\n",
       "<!-- s0&#45;a1&#45;&gt;s2 -->\r\n",
       "<g id=\"edge5\" class=\"edge\"><title>s0&#45;a1&#45;&gt;s2</title>\r\n",
       "<path fill=\"none\" stroke=\"blue\" stroke-dasharray=\"5,2\" d=\"M220.088,-229.012C255.125,-223.533 318.667,-212.879 372.154,-200 375.367,-199.226 378.667,-198.381 381.983,-197.493\"/>\r\n",
       "<polygon fill=\"blue\" stroke=\"blue\" points=\"383.207,-200.785 391.903,-194.733 381.331,-194.041 383.207,-200.785\"/>\r\n",
       "<text text-anchor=\"middle\" x=\"305.154\" y=\"-231.2\" font-family=\"Arial\" font-size=\"16.00\">p = 1</text>\r\n",
       "</g>\r\n",
       "<!-- s1 -->\r\n",
       "<g id=\"node5\" class=\"node\"><title>s1</title>\r\n",
       "<ellipse fill=\"#85ff75\" stroke=\"#85ff75\" cx=\"824.309\" cy=\"-116\" rx=\"36\" ry=\"36\"/>\r\n",
       "<ellipse fill=\"none\" stroke=\"#85ff75\" cx=\"824.309\" cy=\"-116\" rx=\"40\" ry=\"40\"/>\r\n",
       "<text text-anchor=\"middle\" x=\"824.309\" y=\"-109.8\" font-family=\"Arial\" font-size=\"24.00\">s1</text>\r\n",
       "</g>\r\n",
       "<!-- s1&#45;a0 -->\r\n",
       "<g id=\"node6\" class=\"node\"><title>s1&#45;a0</title>\r\n",
       "<ellipse fill=\"lightpink\" stroke=\"lightpink\" cx=\"985.886\" cy=\"-92\" rx=\"27.6545\" ry=\"27.6545\"/>\r\n",
       "<text text-anchor=\"middle\" x=\"985.886\" y=\"-87\" font-family=\"Arial\" font-size=\"20.00\">a0</text>\r\n",
       "</g>\r\n",
       "<!-- s1&#45;&gt;s1&#45;a0 -->\r\n",
       "<g id=\"edge6\" class=\"edge\"><title>s1&#45;&gt;s1&#45;a0</title>\r\n",
       "<path fill=\"none\" stroke=\"red\" stroke-width=\"2\" d=\"M864.308,-112.227C886.639,-109.824 915.138,-106.344 940.309,-102 943,-101.535 945.774,-101.015 948.56,-100.462\"/>\r\n",
       "<polygon fill=\"red\" stroke=\"red\" stroke-width=\"2\" points=\"949.505,-103.84 958.572,-98.3587 948.066,-96.9893 949.505,-103.84\"/>\r\n",
       "</g>\r\n",
       "<!-- s1&#45;a1 -->\r\n",
       "<g id=\"node7\" class=\"node\"><title>s1&#45;a1</title>\r\n",
       "<ellipse fill=\"lightpink\" stroke=\"lightpink\" cx=\"985.886\" cy=\"-174\" rx=\"27.6545\" ry=\"27.6545\"/>\r\n",
       "<text text-anchor=\"middle\" x=\"985.886\" y=\"-169\" font-family=\"Arial\" font-size=\"20.00\">a1</text>\r\n",
       "</g>\r\n",
       "<!-- s1&#45;&gt;s1&#45;a1 -->\r\n",
       "<g id=\"edge10\" class=\"edge\"><title>s1&#45;&gt;s1&#45;a1</title>\r\n",
       "<path fill=\"none\" stroke=\"red\" stroke-width=\"2\" d=\"M862.595,-127.85C885.226,-135.238 914.608,-145.181 940.309,-155 943.816,-156.34 947.454,-157.79 951.073,-159.271\"/>\r\n",
       "<polygon fill=\"red\" stroke=\"red\" stroke-width=\"2\" points=\"949.921,-162.583 960.497,-163.21 952.62,-156.124 949.921,-162.583\"/>\r\n",
       "</g>\r\n",
       "<!-- s1&#45;a0&#45;&gt;s0 -->\r\n",
       "<g id=\"edge7\" class=\"edge\"><title>s1&#45;a0&#45;&gt;s0</title>\r\n",
       "<path fill=\"none\" stroke=\"blue\" stroke-dasharray=\"5,2\" d=\"M966.263,-72.4892C938.379,-45.4834 882.871,-0 825.309,-0 191.577,-0 191.577,-0 191.577,-0 140.711,-0 96.5082,-42.0555 69.3862,-75.5217\"/>\r\n",
       "<polygon fill=\"blue\" stroke=\"blue\" points=\"66.6357,-73.3573 63.1979,-83.3788 72.1349,-77.6885 66.6357,-73.3573\"/>\r\n",
       "<text text-anchor=\"middle\" x=\"552.654\" y=\"-5.2\" font-family=\"Arial\" font-size=\"16.00\">p = 0.7 &#160;reward =5</text>\r\n",
       "</g>\r\n",
       "<!-- s1&#45;a0&#45;&gt;s2 -->\r\n",
       "<g id=\"edge9\" class=\"edge\"><title>s1&#45;a0&#45;&gt;s2</title>\r\n",
       "<path fill=\"none\" stroke=\"blue\" stroke-dasharray=\"5,2\" d=\"M970.152,-114.864C966.013,-121.814 961.716,-129.579 958.309,-137 947.928,-159.608 960.267,-175.15 940.309,-190 779.045,-309.99 687.054,-229.029 488.154,-200 484.884,-199.523 481.541,-198.899 478.195,-198.173\"/>\r\n",
       "<polygon fill=\"blue\" stroke=\"blue\" points=\"478.757,-194.708 468.212,-195.733 477.095,-201.508 478.757,-194.708\"/>\r\n",
       "<text text-anchor=\"middle\" x=\"737.309\" y=\"-259.2\" font-family=\"Arial\" font-size=\"16.00\">p = 0.2</text>\r\n",
       "</g>\r\n",
       "<!-- s1&#45;a0&#45;&gt;s1 -->\r\n",
       "<g id=\"edge8\" class=\"edge\"><title>s1&#45;a0&#45;&gt;s1</title>\r\n",
       "<path fill=\"none\" stroke=\"blue\" stroke-dasharray=\"5,2\" d=\"M959.556,-83.5716C938.51,-77.8578 907.972,-72.5744 882.309,-80 876.619,-81.6464 870.951,-84.0488 865.518,-86.844\"/>\r\n",
       "<polygon fill=\"blue\" stroke=\"blue\" points=\"863.626,-83.8927 856.637,-91.8547 867.066,-89.9895 863.626,-83.8927\"/>\r\n",
       "<text text-anchor=\"middle\" x=\"911.309\" y=\"-85.2\" font-family=\"Arial\" font-size=\"16.00\">p = 0.1</text>\r\n",
       "</g>\r\n",
       "<!-- s1&#45;a1&#45;&gt;s2 -->\r\n",
       "<g id=\"edge12\" class=\"edge\"><title>s1&#45;a1&#45;&gt;s2</title>\r\n",
       "<path fill=\"none\" stroke=\"blue\" stroke-dasharray=\"5,2\" d=\"M973.293,-198.859C965.835,-211.793 954.81,-226.446 940.309,-234 762.086,-326.847 675.051,-307.849 488.154,-234 479.811,-230.703 471.901,-225.594 464.777,-219.859\"/>\r\n",
       "<polygon fill=\"blue\" stroke=\"blue\" points=\"466.637,-216.838 456.797,-212.911 462.04,-222.117 466.637,-216.838\"/>\r\n",
       "<text text-anchor=\"middle\" x=\"737.309\" y=\"-301.2\" font-family=\"Arial\" font-size=\"16.00\">p = 0.05</text>\r\n",
       "</g>\r\n",
       "<!-- s1&#45;a1&#45;&gt;s1 -->\r\n",
       "<g id=\"edge11\" class=\"edge\"><title>s1&#45;a1&#45;&gt;s1</title>\r\n",
       "<path fill=\"none\" stroke=\"blue\" stroke-dasharray=\"5,2\" d=\"M958.416,-170.931C937.242,-167.865 907.1,-162.112 882.309,-152 876.893,-149.791 871.42,-147.073 866.119,-144.129\"/>\r\n",
       "<polygon fill=\"blue\" stroke=\"blue\" points=\"867.794,-141.054 857.398,-139.01 864.25,-147.09 867.794,-141.054\"/>\r\n",
       "<text text-anchor=\"middle\" x=\"911.309\" y=\"-173.2\" font-family=\"Arial\" font-size=\"16.00\">p = 0.95</text>\r\n",
       "</g>\r\n",
       "<!-- s2&#45;a0&#45;&gt;s0 -->\r\n",
       "<g id=\"edge14\" class=\"edge\"><title>s2&#45;a0&#45;&gt;s0</title>\r\n",
       "<path fill=\"none\" stroke=\"blue\" stroke-dasharray=\"5,2\" d=\"M635.999,-153.632C629.875,-151.882 623.326,-150.204 617.154,-149 443.606,-115.133 396.824,-130.338 220.154,-123 176.28,-121.178 126.356,-119.238 90.3736,-117.864\"/>\r\n",
       "<polygon fill=\"blue\" stroke=\"blue\" points=\"90.2707,-114.357 80.1447,-117.474 90.0041,-121.352 90.2707,-114.357\"/>\r\n",
       "<text text-anchor=\"middle\" x=\"305.154\" y=\"-131.2\" font-family=\"Arial\" font-size=\"16.00\">p = 0.4</text>\r\n",
       "</g>\r\n",
       "<!-- s2&#45;a0&#45;&gt;s2 -->\r\n",
       "<g id=\"edge15\" class=\"edge\"><title>s2&#45;a0&#45;&gt;s2</title>\r\n",
       "<path fill=\"none\" stroke=\"blue\" stroke-dasharray=\"5,2\" d=\"M635.24,-158.041C600.919,-153.706 539.412,-148.649 488.154,-159 484.069,-159.825 479.913,-160.951 475.8,-162.269\"/>\r\n",
       "<polygon fill=\"blue\" stroke=\"blue\" points=\"474.585,-158.986 466.339,-165.638 476.934,-165.581 474.585,-158.986\"/>\r\n",
       "<text text-anchor=\"middle\" x=\"552.654\" y=\"-164.2\" font-family=\"Arial\" font-size=\"16.00\">p = 0.6</text>\r\n",
       "</g>\r\n",
       "<!-- s2&#45;a1&#45;&gt;s0 -->\r\n",
       "<g id=\"edge17\" class=\"edge\"><title>s2&#45;a1&#45;&gt;s0</title>\r\n",
       "<path fill=\"none\" stroke=\"blue\" stroke-dasharray=\"5,2\" d=\"M639.555,-64.6435C632.684,-60.7079 624.881,-57.0187 617.154,-55 454.135,-12.4077 405.633,-45.5527 238.154,-64 175.182,-70.9362 158.417,-70.9339 98,-90 93.9158,-91.2889 89.7396,-92.7963 85.5962,-94.4247\"/>\r\n",
       "<polygon fill=\"blue\" stroke=\"blue\" points=\"83.9351,-91.3249 76.0467,-98.3975 86.6239,-97.7879 83.9351,-91.3249\"/>\r\n",
       "<text text-anchor=\"middle\" x=\"305.154\" y=\"-69.2\" font-family=\"Arial\" font-size=\"16.00\">p = 0.3 &#160;reward =&#45;1</text>\r\n",
       "</g>\r\n",
       "<!-- s2&#45;a1&#45;&gt;s2 -->\r\n",
       "<g id=\"edge19\" class=\"edge\"><title>s2&#45;a1&#45;&gt;s2</title>\r\n",
       "<path fill=\"none\" stroke=\"blue\" stroke-dasharray=\"5,2\" d=\"M636.31,-71.263C600.447,-60.607 534.239,-47.2134 488.154,-75 466.566,-88.0168 452.735,-112.241 444.113,-134.453\"/>\r\n",
       "<polygon fill=\"blue\" stroke=\"blue\" points=\"440.72,-133.545 440.619,-144.139 447.304,-135.92 440.72,-133.545\"/>\r\n",
       "<text text-anchor=\"middle\" x=\"552.654\" y=\"-80.2\" font-family=\"Arial\" font-size=\"16.00\">p = 0.4</text>\r\n",
       "</g>\r\n",
       "<!-- s2&#45;a1&#45;&gt;s1 -->\r\n",
       "<g id=\"edge18\" class=\"edge\"><title>s2&#45;a1&#45;&gt;s1</title>\r\n",
       "<path fill=\"none\" stroke=\"blue\" stroke-dasharray=\"5,2\" d=\"M689.725,-85.8641C712.772,-91.0633 747.027,-98.7911 775.078,-105.119\"/>\r\n",
       "<polygon fill=\"blue\" stroke=\"blue\" points=\"774.574,-108.594 785.099,-107.38 776.115,-101.765 774.574,-108.594\"/>\r\n",
       "<text text-anchor=\"middle\" x=\"737.309\" y=\"-108.2\" font-family=\"Arial\" font-size=\"16.00\">p = 0.3</text>\r\n",
       "</g>\r\n",
       "</g>\r\n",
       "</svg>\r\n"
      ],
      "text/plain": [
       "<graphviz.dot.Digraph at 0x2b2d0ffa470>"
      ]
     },
     "metadata": {},
     "output_type": "display_data"
    }
   ],
   "source": [
    "if has_graphviz:\n",
    "    from mdp import plot_graph, plot_graph_with_state_values, \\\n",
    "        plot_graph_optimal_strategy_and_state_values\n",
    "\n",
    "    display(plot_graph(mdp))"
   ]
  },
  {
   "cell_type": "markdown",
   "metadata": {},
   "source": [
    "### Value Iteration\n",
    "\n",
    "Now let's build something to solve this MDP. The simplest algorithm so far is __V__alue __I__teration\n",
    "\n",
    "Here's the pseudo-code for VI:\n",
    "\n",
    "---\n",
    "\n",
    "`1.` Initialize $V^{(0)}(s)=0$, for all $s$\n",
    "\n",
    "`2.` For $i=0, 1, 2, \\dots$\n",
    " \n",
    "`3.` $ \\quad V_{(i+1)}(s) = \\max_a \\sum_{s'} P(s' | s,a) \\cdot [ r(s,a,s') + \\gamma V_{i}(s')]$, for all $s$\n",
    "\n",
    "---"
   ]
  },
  {
   "cell_type": "markdown",
   "metadata": {},
   "source": [
    "First, let's write a function to compute the state-action value function $Q^{\\pi}$, defined as follows\n",
    "\n",
    "$$Q_i(s, a) = \\sum_{s'} P(s' | s,a) \\cdot [ r(s,a,s') + \\gamma V_{i}(s')]$$\n"
   ]
  },
  {
   "cell_type": "code",
   "execution_count": 6,
   "metadata": {},
   "outputs": [
    {
     "name": "stdout",
     "output_type": "stream",
     "text": [
      "Overwriting mdp_get_action_value.py\n"
     ]
    }
   ],
   "source": [
    "%%writefile mdp_get_action_value.py\n",
    "\n",
    "def get_action_value(mdp, state_values, state, action, gamma):\n",
    "    \"\"\" Computes Q(s,a) as in formula above \"\"\"\n",
    "    Q = 0\n",
    "    inter_states = mdp.get_next_states(state, action)\n",
    "    for state_i, prob in inter_states.items():\n",
    "        reward = mdp.get_reward(state, action, state_i)\n",
    "        Q += prob*(reward+gamma*state_values[state_i])\n",
    "    return Q"
   ]
  },
  {
   "cell_type": "code",
   "execution_count": 7,
   "metadata": {},
   "outputs": [],
   "source": [
    "from mdp_get_action_value import get_action_value"
   ]
  },
  {
   "cell_type": "code",
   "execution_count": 8,
   "metadata": {},
   "outputs": [
    {
     "name": "stdout",
     "output_type": "stream",
     "text": [
      "{'s0': 0, 's1': 1, 's2': 2}\n",
      "0.6900000000000002\n",
      "3.9499999999999997\n"
     ]
    }
   ],
   "source": [
    "import numpy as np\n",
    "test_Vs = {s: i for i, s in enumerate(sorted(mdp.get_all_states()))}\n",
    "\n",
    "print(test_Vs)\n",
    "print(get_action_value(mdp, test_Vs, 's2', 'a1', 0.9))\n",
    "print(get_action_value(mdp, test_Vs, 's1', 'a0', 0.9))\n",
    "\n",
    "assert np.isclose(get_action_value(mdp, test_Vs, 's2', 'a1', 0.9), 0.69)\n",
    "assert np.isclose(get_action_value(mdp, test_Vs, 's1', 'a0', 0.9), 3.95)"
   ]
  },
  {
   "cell_type": "markdown",
   "metadata": {},
   "source": [
    "Using $Q(s,a)$ we can now define the \"next\" V(s) for value iteration.\n",
    " $$V_{(i+1)}(s) = \\max_a \\sum_{s'} P(s' | s,a) \\cdot [ r(s,a,s') + \\gamma V_{i}(s')] = \\max_a Q_i(s,a)$$"
   ]
  },
  {
   "cell_type": "code",
   "execution_count": 9,
   "metadata": {},
   "outputs": [],
   "source": [
    "def get_new_state_value(mdp, state_values, state, gamma):\n",
    "    \"\"\" Computes next V(s) as in formula above. Please do not change state_values in process. \"\"\"\n",
    "    if mdp.is_terminal(state):\n",
    "        return 0\n",
    "    \n",
    "    actions = mdp.get_possible_actions(state)\n",
    "    new_state_value = max([get_action_value(mdp, state_values, state, action, gamma) for action in actions])\n",
    "    \n",
    "    return  new_state_value"
   ]
  },
  {
   "cell_type": "code",
   "execution_count": 10,
   "metadata": {},
   "outputs": [
    {
     "name": "stdout",
     "output_type": "stream",
     "text": [
      "{'s0': 0, 's1': 1, 's2': 2}\n",
      "1.8\n",
      "1.08\n"
     ]
    }
   ],
   "source": [
    "test_Vs_copy = dict(test_Vs)\n",
    "print(test_Vs_copy)\n",
    "print(get_new_state_value(mdp, test_Vs, 's0', 0.9))\n",
    "print(get_new_state_value(mdp, test_Vs, 's2', 0.9))\n",
    "assert np.isclose(get_new_state_value(mdp, test_Vs, 's0', 0.9), 1.8)\n",
    "assert np.isclose(get_new_state_value(mdp, test_Vs, 's2', 0.9), 1.08)\n",
    "assert test_Vs == test_Vs_copy, \"please do not change state_values in get_new_state_value\""
   ]
  },
  {
   "cell_type": "markdown",
   "metadata": {},
   "source": [
    "Finally, let's combine everything we wrote into a working value iteration algo."
   ]
  },
  {
   "cell_type": "code",
   "execution_count": 11,
   "metadata": {},
   "outputs": [
    {
     "data": {
      "image/svg+xml": [
       "<?xml version=\"1.0\" encoding=\"UTF-8\" standalone=\"no\"?>\r\n",
       "<!DOCTYPE svg PUBLIC \"-//W3C//DTD SVG 1.1//EN\"\r\n",
       " \"http://www.w3.org/Graphics/SVG/1.1/DTD/svg11.dtd\">\r\n",
       "<!-- Generated by graphviz version 2.38.0 (20140413.2041)\r\n",
       " -->\r\n",
       "<!-- Title: MDP Pages: 1 -->\r\n",
       "<svg width=\"720pt\" height=\"216pt\"\r\n",
       " viewBox=\"0.00 0.00 720.00 216.06\" xmlns=\"http://www.w3.org/2000/svg\" xmlns:xlink=\"http://www.w3.org/1999/xlink\">\r\n",
       "<g id=\"graph0\" class=\"graph\" transform=\"scale(0.66072 0.66072) rotate(0) translate(4 323)\">\r\n",
       "<title>MDP</title>\r\n",
       "<polygon fill=\"white\" stroke=\"none\" points=\"-4,4 -4,-323 1085.72,-323 1085.72,4 -4,4\"/>\r\n",
       "<!-- s0 -->\r\n",
       "<g id=\"node1\" class=\"node\"><title>s0</title>\r\n",
       "<ellipse fill=\"#85ff75\" stroke=\"#85ff75\" cx=\"51.3762\" cy=\"-116\" rx=\"47.2622\" ry=\"47.2622\"/>\r\n",
       "<ellipse fill=\"none\" stroke=\"#85ff75\" cx=\"51.3762\" cy=\"-116\" rx=\"51.2526\" ry=\"51.2526\"/>\r\n",
       "<text text-anchor=\"middle\" x=\"51.3762\" y=\"-122.8\" font-family=\"Arial\" font-size=\"24.00\">s0</text>\r\n",
       "<text text-anchor=\"middle\" x=\"51.3762\" y=\"-96.8\" font-family=\"Arial\" font-size=\"24.00\">V =0</text>\r\n",
       "</g>\r\n",
       "<!-- s0&#45;a0 -->\r\n",
       "<g id=\"node2\" class=\"node\"><title>s0&#45;a0</title>\r\n",
       "<ellipse fill=\"lightpink\" stroke=\"lightpink\" cx=\"215.329\" cy=\"-160\" rx=\"27.6545\" ry=\"27.6545\"/>\r\n",
       "<text text-anchor=\"middle\" x=\"215.329\" y=\"-155\" font-family=\"Arial\" font-size=\"20.00\">a0</text>\r\n",
       "</g>\r\n",
       "<!-- s0&#45;&gt;s0&#45;a0 -->\r\n",
       "<g id=\"edge1\" class=\"edge\"><title>s0&#45;&gt;s0&#45;a0</title>\r\n",
       "<path fill=\"none\" stroke=\"red\" stroke-width=\"2\" d=\"M101.889,-125.799C122.98,-130.382 147.746,-136.308 169.752,-143 173.103,-144.019 176.563,-145.165 180.004,-146.368\"/>\r\n",
       "<polygon fill=\"red\" stroke=\"red\" stroke-width=\"2\" points=\"178.955,-149.711 189.549,-149.854 181.356,-143.136 178.955,-149.711\"/>\r\n",
       "</g>\r\n",
       "<!-- s0&#45;a1 -->\r\n",
       "<g id=\"node4\" class=\"node\"><title>s0&#45;a1</title>\r\n",
       "<ellipse fill=\"lightpink\" stroke=\"lightpink\" cx=\"215.329\" cy=\"-233\" rx=\"27.6545\" ry=\"27.6545\"/>\r\n",
       "<text text-anchor=\"middle\" x=\"215.329\" y=\"-228\" font-family=\"Arial\" font-size=\"20.00\">a1</text>\r\n",
       "</g>\r\n",
       "<!-- s0&#45;&gt;s0&#45;a1 -->\r\n",
       "<g id=\"edge4\" class=\"edge\"><title>s0&#45;&gt;s0&#45;a1</title>\r\n",
       "<path fill=\"none\" stroke=\"red\" stroke-width=\"2\" d=\"M90.2967,-149.798C100.008,-157.996 110.587,-166.541 120.752,-174 140.58,-188.548 163.984,-203.304 182.426,-214.419\"/>\r\n",
       "<polygon fill=\"red\" stroke=\"red\" stroke-width=\"2\" points=\"180.664,-217.443 191.044,-219.567 184.254,-211.434 180.664,-217.443\"/>\r\n",
       "</g>\r\n",
       "<!-- s0&#45;a0&#45;&gt;s0 -->\r\n",
       "<g id=\"edge2\" class=\"edge\"><title>s0&#45;a0&#45;&gt;s0</title>\r\n",
       "<path fill=\"none\" stroke=\"blue\" stroke-dasharray=\"5,2\" d=\"M187.893,-155.279C169.03,-151.686 143.142,-146.295 120.752,-140 117.149,-138.987 113.46,-137.885 109.754,-136.729\"/>\r\n",
       "<polygon fill=\"blue\" stroke=\"blue\" points=\"110.541,-133.306 99.9492,-133.566 108.391,-139.967 110.541,-133.306\"/>\r\n",
       "<text text-anchor=\"middle\" x=\"145.252\" y=\"-157.2\" font-family=\"Arial\" font-size=\"16.00\">p = 0.5</text>\r\n",
       "</g>\r\n",
       "<!-- s2 -->\r\n",
       "<g id=\"node3\" class=\"node\"><title>s2</title>\r\n",
       "<ellipse fill=\"#85ff75\" stroke=\"#85ff75\" cx=\"464.283\" cy=\"-189\" rx=\"47.2622\" ry=\"47.2622\"/>\r\n",
       "<ellipse fill=\"none\" stroke=\"#85ff75\" cx=\"464.283\" cy=\"-189\" rx=\"51.2526\" ry=\"51.2526\"/>\r\n",
       "<text text-anchor=\"middle\" x=\"464.283\" y=\"-195.8\" font-family=\"Arial\" font-size=\"24.00\">s2</text>\r\n",
       "<text text-anchor=\"middle\" x=\"464.283\" y=\"-169.8\" font-family=\"Arial\" font-size=\"24.00\">V =0</text>\r\n",
       "</g>\r\n",
       "<!-- s0&#45;a0&#45;&gt;s2 -->\r\n",
       "<g id=\"edge3\" class=\"edge\"><title>s0&#45;a0&#45;&gt;s2</title>\r\n",
       "<path fill=\"none\" stroke=\"blue\" stroke-dasharray=\"5,2\" d=\"M242.758,-163.104C280.786,-167.569 351.991,-175.931 403.215,-181.946\"/>\r\n",
       "<polygon fill=\"blue\" stroke=\"blue\" points=\"402.838,-185.426 413.178,-183.116 403.654,-178.474 402.838,-185.426\"/>\r\n",
       "<text text-anchor=\"middle\" x=\"327.907\" y=\"-186.2\" font-family=\"Arial\" font-size=\"16.00\">p = 0.5</text>\r\n",
       "</g>\r\n",
       "<!-- s2&#45;a0 -->\r\n",
       "<g id=\"node8\" class=\"node\"><title>s2&#45;a0</title>\r\n",
       "<ellipse fill=\"lightpink\" stroke=\"lightpink\" cx=\"708.236\" cy=\"-162\" rx=\"27.6545\" ry=\"27.6545\"/>\r\n",
       "<text text-anchor=\"middle\" x=\"708.236\" y=\"-157\" font-family=\"Arial\" font-size=\"20.00\">a0</text>\r\n",
       "</g>\r\n",
       "<!-- s2&#45;&gt;s2&#45;a0 -->\r\n",
       "<g id=\"edge13\" class=\"edge\"><title>s2&#45;&gt;s2&#45;a0</title>\r\n",
       "<path fill=\"none\" stroke=\"red\" stroke-width=\"2\" d=\"M515.823,-191.925C556.092,-193.071 613.647,-192.048 662.659,-181 666.321,-180.174 670.061,-179.059 673.741,-177.781\"/>\r\n",
       "<polygon fill=\"red\" stroke=\"red\" stroke-width=\"2\" points=\"675.182,-180.976 683.243,-174.101 672.654,-174.448 675.182,-180.976\"/>\r\n",
       "</g>\r\n",
       "<!-- s2&#45;a1 -->\r\n",
       "<g id=\"node9\" class=\"node\"><title>s2&#45;a1</title>\r\n",
       "<ellipse fill=\"lightpink\" stroke=\"lightpink\" cx=\"708.236\" cy=\"-81\" rx=\"27.6545\" ry=\"27.6545\"/>\r\n",
       "<text text-anchor=\"middle\" x=\"708.236\" y=\"-76\" font-family=\"Arial\" font-size=\"20.00\">a1</text>\r\n",
       "</g>\r\n",
       "<!-- s2&#45;&gt;s2&#45;a1 -->\r\n",
       "<g id=\"edge16\" class=\"edge\"><title>s2&#45;&gt;s2&#45;a1</title>\r\n",
       "<path fill=\"none\" stroke=\"red\" stroke-width=\"2\" d=\"M508.501,-162.357C516.732,-157.674 525.367,-153.019 533.659,-149 580.312,-126.387 636.543,-105.448 672.099,-92.9428\"/>\r\n",
       "<polygon fill=\"red\" stroke=\"red\" stroke-width=\"2\" points=\"673.704,-96.0896 681.995,-89.4925 671.4,-89.4799 673.704,-96.0896\"/>\r\n",
       "</g>\r\n",
       "<!-- s0&#45;a1&#45;&gt;s2 -->\r\n",
       "<g id=\"edge5\" class=\"edge\"><title>s0&#45;a1&#45;&gt;s2</title>\r\n",
       "<path fill=\"none\" stroke=\"blue\" stroke-dasharray=\"5,2\" d=\"M242.705,-228.869C277.595,-223.337 340.976,-213.048 394.907,-203 397.754,-202.469 400.667,-201.916 403.606,-201.348\"/>\r\n",
       "<polygon fill=\"blue\" stroke=\"blue\" points=\"404.515,-204.737 413.654,-199.377 403.167,-197.868 404.515,-204.737\"/>\r\n",
       "<text text-anchor=\"middle\" x=\"327.907\" y=\"-231.2\" font-family=\"Arial\" font-size=\"16.00\">p = 1</text>\r\n",
       "</g>\r\n",
       "<!-- s1 -->\r\n",
       "<g id=\"node5\" class=\"node\"><title>s1</title>\r\n",
       "<ellipse fill=\"#85ff75\" stroke=\"#85ff75\" cx=\"881.189\" cy=\"-87\" rx=\"47.2622\" ry=\"47.2622\"/>\r\n",
       "<ellipse fill=\"none\" stroke=\"#85ff75\" cx=\"881.189\" cy=\"-87\" rx=\"51.2526\" ry=\"51.2526\"/>\r\n",
       "<text text-anchor=\"middle\" x=\"881.189\" y=\"-93.8\" font-family=\"Arial\" font-size=\"24.00\">s1</text>\r\n",
       "<text text-anchor=\"middle\" x=\"881.189\" y=\"-67.8\" font-family=\"Arial\" font-size=\"24.00\">V =0</text>\r\n",
       "</g>\r\n",
       "<!-- s1&#45;a0 -->\r\n",
       "<g id=\"node6\" class=\"node\"><title>s1&#45;a0</title>\r\n",
       "<ellipse fill=\"lightpink\" stroke=\"lightpink\" cx=\"1054.14\" cy=\"-63\" rx=\"27.6545\" ry=\"27.6545\"/>\r\n",
       "<text text-anchor=\"middle\" x=\"1054.14\" y=\"-58\" font-family=\"Arial\" font-size=\"20.00\">a0</text>\r\n",
       "</g>\r\n",
       "<!-- s1&#45;&gt;s1&#45;a0 -->\r\n",
       "<g id=\"edge6\" class=\"edge\"><title>s1&#45;&gt;s1&#45;a0</title>\r\n",
       "<path fill=\"none\" stroke=\"red\" stroke-width=\"2\" d=\"M932.488,-82.7133C955.725,-80.4039 983.636,-77.1641 1008.57,-73 1011.26,-72.55 1014.04,-72.0401 1016.82,-71.4946\"/>\r\n",
       "<polygon fill=\"red\" stroke=\"red\" stroke-width=\"2\" points=\"1017.76,-74.874 1026.84,-69.4064 1016.33,-68.0214 1017.76,-74.874\"/>\r\n",
       "</g>\r\n",
       "<!-- s1&#45;a1 -->\r\n",
       "<g id=\"node7\" class=\"node\"><title>s1&#45;a1</title>\r\n",
       "<ellipse fill=\"lightpink\" stroke=\"lightpink\" cx=\"1054.14\" cy=\"-145\" rx=\"27.6545\" ry=\"27.6545\"/>\r\n",
       "<text text-anchor=\"middle\" x=\"1054.14\" y=\"-140\" font-family=\"Arial\" font-size=\"20.00\">a1</text>\r\n",
       "</g>\r\n",
       "<!-- s1&#45;&gt;s1&#45;a1 -->\r\n",
       "<g id=\"edge10\" class=\"edge\"><title>s1&#45;&gt;s1&#45;a1</title>\r\n",
       "<path fill=\"none\" stroke=\"red\" stroke-width=\"2\" d=\"M930.89,-100.746C954.531,-107.743 983.232,-116.72 1008.57,-126 1012.09,-127.291 1015.74,-128.71 1019.37,-130.172\"/>\r\n",
       "<polygon fill=\"red\" stroke=\"red\" stroke-width=\"2\" points=\"1018.22,-133.486 1028.8,-134.086 1020.91,-127.021 1018.22,-133.486\"/>\r\n",
       "</g>\r\n",
       "<!-- s1&#45;a0&#45;&gt;s0 -->\r\n",
       "<g id=\"edge7\" class=\"edge\"><title>s1&#45;a0&#45;&gt;s0</title>\r\n",
       "<path fill=\"none\" stroke=\"blue\" stroke-dasharray=\"5,2\" d=\"M1030.35,-48.7043C998.466,-30.1167 938.176,-0 882.189,-0 214.329,-0 214.329,-0 214.329,-0 164.861,-0 120.114,-36.2119 90.2546,-68.1709\"/>\r\n",
       "<polygon fill=\"blue\" stroke=\"blue\" points=\"87.499,-65.9991 83.3655,-75.7544 92.6803,-70.7059 87.499,-65.9991\"/>\r\n",
       "<text text-anchor=\"middle\" x=\"598.159\" y=\"-5.2\" font-family=\"Arial\" font-size=\"16.00\">p = 0.7 &#160;reward =5</text>\r\n",
       "</g>\r\n",
       "<!-- s1&#45;a0&#45;&gt;s2 -->\r\n",
       "<g id=\"edge9\" class=\"edge\"><title>s1&#45;a0&#45;&gt;s2</title>\r\n",
       "<path fill=\"none\" stroke=\"blue\" stroke-dasharray=\"5,2\" d=\"M1038.41,-85.8641C1034.27,-92.8139 1029.97,-100.579 1026.57,-108 1016.19,-130.608 1027.74,-145.147 1008.57,-161 868.637,-276.703 632.485,-234.418 523.545,-206.182\"/>\r\n",
       "<polygon fill=\"blue\" stroke=\"blue\" points=\"524.284,-202.757 513.721,-203.584 522.494,-209.524 524.284,-202.757\"/>\r\n",
       "<text text-anchor=\"middle\" x=\"782.813\" y=\"-243.2\" font-family=\"Arial\" font-size=\"16.00\">p = 0.2</text>\r\n",
       "</g>\r\n",
       "<!-- s1&#45;a0&#45;&gt;s1 -->\r\n",
       "<g id=\"edge8\" class=\"edge\"><title>s1&#45;a0&#45;&gt;s1</title>\r\n",
       "<path fill=\"none\" stroke=\"blue\" stroke-dasharray=\"5,2\" d=\"M1027.53,-54.9951C1006.59,-49.6383 976.327,-44.6327 950.566,-51 945.275,-52.3077 939.941,-54.107 934.712,-56.2089\"/>\r\n",
       "<polygon fill=\"blue\" stroke=\"blue\" points=\"933.192,-53.0534 925.443,-60.2782 936.006,-59.4629 933.192,-53.0534\"/>\r\n",
       "<text text-anchor=\"middle\" x=\"979.566\" y=\"-56.2\" font-family=\"Arial\" font-size=\"16.00\">p = 0.1</text>\r\n",
       "</g>\r\n",
       "<!-- s1&#45;a1&#45;&gt;s2 -->\r\n",
       "<g id=\"edge12\" class=\"edge\"><title>s1&#45;a1&#45;&gt;s2</title>\r\n",
       "<path fill=\"none\" stroke=\"blue\" stroke-dasharray=\"5,2\" d=\"M1047.56,-171.833C1041.68,-192.682 1030.15,-220.286 1008.57,-234 830.404,-347.176 735.152,-296.856 533.659,-234 527.005,-231.924 520.391,-228.992 514.046,-225.608\"/>\r\n",
       "<polygon fill=\"blue\" stroke=\"blue\" points=\"515.379,-222.337 504.968,-220.373 511.883,-228.401 515.379,-222.337\"/>\r\n",
       "<text text-anchor=\"middle\" x=\"782.813\" y=\"-306.2\" font-family=\"Arial\" font-size=\"16.00\">p = 0.05</text>\r\n",
       "</g>\r\n",
       "<!-- s1&#45;a1&#45;&gt;s1 -->\r\n",
       "<g id=\"edge11\" class=\"edge\"><title>s1&#45;a1&#45;&gt;s1</title>\r\n",
       "<path fill=\"none\" stroke=\"blue\" stroke-dasharray=\"5,2\" d=\"M1026.45,-141.327C1005.41,-137.948 975.564,-132.067 950.566,-123 945.521,-121.17 940.383,-119.033 935.305,-116.73\"/>\r\n",
       "<polygon fill=\"blue\" stroke=\"blue\" points=\"936.796,-113.563 926.261,-112.435 933.793,-119.887 936.796,-113.563\"/>\r\n",
       "<text text-anchor=\"middle\" x=\"979.566\" y=\"-144.2\" font-family=\"Arial\" font-size=\"16.00\">p = 0.95</text>\r\n",
       "</g>\r\n",
       "<!-- s2&#45;a0&#45;&gt;s0 -->\r\n",
       "<g id=\"edge14\" class=\"edge\"><title>s2&#45;a0&#45;&gt;s0</title>\r\n",
       "<path fill=\"none\" stroke=\"blue\" stroke-dasharray=\"5,2\" d=\"M681.473,-153.782C675.35,-152.025 668.809,-150.308 662.659,-149 598.165,-135.288 581.375,-134.377 515.659,-129 371.599,-117.213 201.597,-115.567 112.995,-115.634\"/>\r\n",
       "<polygon fill=\"blue\" stroke=\"blue\" points=\"112.855,-112.134 102.86,-115.649 112.866,-119.134 112.855,-112.134\"/>\r\n",
       "<text text-anchor=\"middle\" x=\"327.907\" y=\"-127.2\" font-family=\"Arial\" font-size=\"16.00\">p = 0.4</text>\r\n",
       "</g>\r\n",
       "<!-- s2&#45;a0&#45;&gt;s2 -->\r\n",
       "<g id=\"edge15\" class=\"edge\"><title>s2&#45;a0&#45;&gt;s2</title>\r\n",
       "<path fill=\"none\" stroke=\"blue\" stroke-dasharray=\"5,2\" d=\"M680.72,-157.922C646.373,-153.46 584.837,-148.267 533.659,-159 529.185,-159.938 524.646,-161.187 520.145,-162.644\"/>\r\n",
       "<polygon fill=\"blue\" stroke=\"blue\" points=\"518.634,-159.467 510.391,-166.124 520.986,-166.06 518.634,-159.467\"/>\r\n",
       "<text text-anchor=\"middle\" x=\"598.159\" y=\"-164.2\" font-family=\"Arial\" font-size=\"16.00\">p = 0.6</text>\r\n",
       "</g>\r\n",
       "<!-- s2&#45;a1&#45;&gt;s0 -->\r\n",
       "<g id=\"edge17\" class=\"edge\"><title>s2&#45;a1&#45;&gt;s0</title>\r\n",
       "<path fill=\"none\" stroke=\"blue\" stroke-dasharray=\"5,2\" d=\"M684.53,-66.0009C677.77,-62.3175 670.159,-58.8907 662.659,-57 489.493,-13.3467 438.515,-45.3646 260.907,-64 197.899,-70.611 181.753,-72.8944 120.752,-90 116.94,-91.0689 113.043,-92.263 109.138,-93.5359\"/>\r\n",
       "<polygon fill=\"blue\" stroke=\"blue\" points=\"107.793,-90.2966 99.4569,-96.8361 110.051,-96.9222 107.793,-90.2966\"/>\r\n",
       "<text text-anchor=\"middle\" x=\"327.907\" y=\"-69.2\" font-family=\"Arial\" font-size=\"16.00\">p = 0.3 &#160;reward =&#45;1</text>\r\n",
       "</g>\r\n",
       "<!-- s2&#45;a1&#45;&gt;s2 -->\r\n",
       "<g id=\"edge19\" class=\"edge\"><title>s2&#45;a1&#45;&gt;s2</title>\r\n",
       "<path fill=\"none\" stroke=\"blue\" stroke-dasharray=\"5,2\" d=\"M681.733,-72.5512C646.063,-62.359 580.405,-49.648 533.659,-76 512.161,-88.1188 496.654,-110.02 485.9,-131.337\"/>\r\n",
       "<polygon fill=\"blue\" stroke=\"blue\" points=\"482.72,-129.873 481.579,-140.406 489.04,-132.884 482.72,-129.873\"/>\r\n",
       "<text text-anchor=\"middle\" x=\"598.159\" y=\"-81.2\" font-family=\"Arial\" font-size=\"16.00\">p = 0.4</text>\r\n",
       "</g>\r\n",
       "<!-- s2&#45;a1&#45;&gt;s1 -->\r\n",
       "<g id=\"edge18\" class=\"edge\"><title>s2&#45;a1&#45;&gt;s1</title>\r\n",
       "<path fill=\"none\" stroke=\"blue\" stroke-dasharray=\"5,2\" d=\"M735.948,-81.9375C758.195,-82.7183 790.736,-83.8604 819.282,-84.8623\"/>\r\n",
       "<polygon fill=\"blue\" stroke=\"blue\" points=\"819.475,-88.3712 829.592,-85.2242 819.721,-81.3755 819.475,-88.3712\"/>\r\n",
       "<text text-anchor=\"middle\" x=\"782.813\" y=\"-90.2\" font-family=\"Arial\" font-size=\"16.00\">p = 0.3</text>\r\n",
       "</g>\r\n",
       "</g>\r\n",
       "</svg>\r\n"
      ],
      "text/plain": [
       "<graphviz.dot.Digraph at 0x2b2d24d7c88>"
      ]
     },
     "metadata": {},
     "output_type": "display_data"
    },
    {
     "name": "stdout",
     "output_type": "stream",
     "text": [
      "iter    0   |   diff: 3.50000   |   V(s0) = 0.000   V(s1) = 0.000   V(s2) = 0.000\n",
      "iter    1   |   diff: 0.64500   |   V(s0) = 0.000   V(s1) = 3.500   V(s2) = 0.000\n",
      "iter    2   |   diff: 0.58050   |   V(s0) = 0.000   V(s1) = 3.815   V(s2) = 0.645\n",
      "iter    3   |   diff: 0.43582   |   V(s0) = 0.581   V(s1) = 3.959   V(s2) = 0.962\n",
      "iter    4   |   diff: 0.30634   |   V(s0) = 0.866   V(s1) = 4.395   V(s2) = 1.272\n",
      "iter    5   |   diff: 0.27571   |   V(s0) = 1.145   V(s1) = 4.670   V(s2) = 1.579\n",
      "iter    6   |   diff: 0.24347   |   V(s0) = 1.421   V(s1) = 4.926   V(s2) = 1.838\n",
      "iter    7   |   diff: 0.21419   |   V(s0) = 1.655   V(s1) = 5.169   V(s2) = 2.075\n",
      "iter    8   |   diff: 0.19277   |   V(s0) = 1.868   V(s1) = 5.381   V(s2) = 2.290\n",
      "iter    9   |   diff: 0.17327   |   V(s0) = 2.061   V(s1) = 5.573   V(s2) = 2.481\n",
      "iter   10   |   diff: 0.15569   |   V(s0) = 2.233   V(s1) = 5.746   V(s2) = 2.654\n",
      "iter   11   |   diff: 0.14012   |   V(s0) = 2.389   V(s1) = 5.902   V(s2) = 2.810\n",
      "iter   12   |   diff: 0.12610   |   V(s0) = 2.529   V(s1) = 6.042   V(s2) = 2.950\n",
      "iter   13   |   diff: 0.11348   |   V(s0) = 2.655   V(s1) = 6.168   V(s2) = 3.076\n",
      "iter   14   |   diff: 0.10213   |   V(s0) = 2.769   V(s1) = 6.282   V(s2) = 3.190\n",
      "iter   15   |   diff: 0.09192   |   V(s0) = 2.871   V(s1) = 6.384   V(s2) = 3.292\n",
      "iter   16   |   diff: 0.08272   |   V(s0) = 2.963   V(s1) = 6.476   V(s2) = 3.384\n",
      "iter   17   |   diff: 0.07445   |   V(s0) = 3.045   V(s1) = 6.558   V(s2) = 3.467\n",
      "iter   18   |   diff: 0.06701   |   V(s0) = 3.120   V(s1) = 6.633   V(s2) = 3.541\n",
      "iter   19   |   diff: 0.06031   |   V(s0) = 3.187   V(s1) = 6.700   V(s2) = 3.608\n",
      "iter   20   |   diff: 0.05428   |   V(s0) = 3.247   V(s1) = 6.760   V(s2) = 3.668\n",
      "iter   21   |   diff: 0.04885   |   V(s0) = 3.301   V(s1) = 6.814   V(s2) = 3.723\n",
      "iter   22   |   diff: 0.04396   |   V(s0) = 3.350   V(s1) = 6.863   V(s2) = 3.771\n",
      "iter   23   |   diff: 0.03957   |   V(s0) = 3.394   V(s1) = 6.907   V(s2) = 3.815\n",
      "iter   24   |   diff: 0.03561   |   V(s0) = 3.434   V(s1) = 6.947   V(s2) = 3.855\n",
      "iter   25   |   diff: 0.03205   |   V(s0) = 3.469   V(s1) = 6.982   V(s2) = 3.891\n",
      "iter   26   |   diff: 0.02884   |   V(s0) = 3.502   V(s1) = 7.014   V(s2) = 3.923\n",
      "iter   27   |   diff: 0.02596   |   V(s0) = 3.530   V(s1) = 7.043   V(s2) = 3.951\n",
      "iter   28   |   diff: 0.02336   |   V(s0) = 3.556   V(s1) = 7.069   V(s2) = 3.977\n",
      "iter   29   |   diff: 0.02103   |   V(s0) = 3.580   V(s1) = 7.093   V(s2) = 4.001\n",
      "iter   30   |   diff: 0.01892   |   V(s0) = 3.601   V(s1) = 7.114   V(s2) = 4.022\n",
      "iter   31   |   diff: 0.01703   |   V(s0) = 3.620   V(s1) = 7.133   V(s2) = 4.041\n",
      "iter   32   |   diff: 0.01533   |   V(s0) = 3.637   V(s1) = 7.150   V(s2) = 4.058\n",
      "iter   33   |   diff: 0.01380   |   V(s0) = 3.652   V(s1) = 7.165   V(s2) = 4.073\n",
      "iter   34   |   diff: 0.01242   |   V(s0) = 3.666   V(s1) = 7.179   V(s2) = 4.087\n",
      "iter   35   |   diff: 0.01117   |   V(s0) = 3.678   V(s1) = 7.191   V(s2) = 4.099\n",
      "iter   36   |   diff: 0.01006   |   V(s0) = 3.689   V(s1) = 7.202   V(s2) = 4.110\n",
      "iter   37   |   diff: 0.00905   |   V(s0) = 3.699   V(s1) = 7.212   V(s2) = 4.121\n",
      "iter   38   |   diff: 0.00815   |   V(s0) = 3.708   V(s1) = 7.221   V(s2) = 4.130\n",
      "iter   39   |   diff: 0.00733   |   V(s0) = 3.717   V(s1) = 7.230   V(s2) = 4.138\n",
      "iter   40   |   diff: 0.00660   |   V(s0) = 3.724   V(s1) = 7.237   V(s2) = 4.145\n",
      "iter   41   |   diff: 0.00594   |   V(s0) = 3.731   V(s1) = 7.244   V(s2) = 4.152\n",
      "iter   42   |   diff: 0.00534   |   V(s0) = 3.736   V(s1) = 7.249   V(s2) = 4.158\n",
      "iter   43   |   diff: 0.00481   |   V(s0) = 3.742   V(s1) = 7.255   V(s2) = 4.163\n",
      "iter   44   |   diff: 0.00433   |   V(s0) = 3.747   V(s1) = 7.260   V(s2) = 4.168\n",
      "iter   45   |   diff: 0.00390   |   V(s0) = 3.751   V(s1) = 7.264   V(s2) = 4.172\n",
      "iter   46   |   diff: 0.00351   |   V(s0) = 3.755   V(s1) = 7.268   V(s2) = 4.176\n",
      "iter   47   |   diff: 0.00316   |   V(s0) = 3.758   V(s1) = 7.271   V(s2) = 4.179\n",
      "iter   48   |   diff: 0.00284   |   V(s0) = 3.762   V(s1) = 7.275   V(s2) = 4.183\n",
      "iter   49   |   diff: 0.00256   |   V(s0) = 3.764   V(s1) = 7.277   V(s2) = 4.185\n",
      "iter   50   |   diff: 0.00230   |   V(s0) = 3.767   V(s1) = 7.280   V(s2) = 4.188\n",
      "iter   51   |   diff: 0.00207   |   V(s0) = 3.769   V(s1) = 7.282   V(s2) = 4.190\n",
      "iter   52   |   diff: 0.00186   |   V(s0) = 3.771   V(s1) = 7.284   V(s2) = 4.192\n",
      "iter   53   |   diff: 0.00168   |   V(s0) = 3.773   V(s1) = 7.286   V(s2) = 4.194\n",
      "iter   54   |   diff: 0.00151   |   V(s0) = 3.775   V(s1) = 7.288   V(s2) = 4.196\n",
      "iter   55   |   diff: 0.00136   |   V(s0) = 3.776   V(s1) = 7.289   V(s2) = 4.197\n",
      "iter   56   |   diff: 0.00122   |   V(s0) = 3.778   V(s1) = 7.291   V(s2) = 4.199\n",
      "iter   57   |   diff: 0.00110   |   V(s0) = 3.779   V(s1) = 7.292   V(s2) = 4.200\n",
      "iter   58   |   diff: 0.00099   |   V(s0) = 3.780   V(s1) = 7.293   V(s2) = 4.201\n",
      "Terminated\n"
     ]
    }
   ],
   "source": [
    "# parameters\n",
    "gamma = 0.9            # discount for MDP\n",
    "num_iter = 100         # maximum iterations, excluding initialization\n",
    "# stop VI if new values are this close to old values (or closer)\n",
    "min_difference = 0.001\n",
    "\n",
    "# initialize V(s)\n",
    "state_values = {s: 0 for s in mdp.get_all_states()}\n",
    "\n",
    "if has_graphviz:\n",
    "    display(plot_graph_with_state_values(mdp, state_values))\n",
    "\n",
    "for i in range(num_iter):\n",
    "\n",
    "    # Compute new state values using the functions you defined above.\n",
    "    # It must be a dict {state : float V_new(state)}\n",
    "    new_state_values = {state:get_new_state_value(mdp, state_values, state, gamma) for state, values in state_values.items()}\n",
    "\n",
    "    assert isinstance(new_state_values, dict)\n",
    "\n",
    "    # Compute difference\n",
    "    diff = max(abs(new_state_values[s] - state_values[s])\n",
    "               for s in mdp.get_all_states())\n",
    "    print(\"iter %4i   |   diff: %6.5f   |   \" % (i, diff), end=\"\")\n",
    "    print('   '.join(\"V(%s) = %.3f\" % (s, v) for s, v in state_values.items()))\n",
    "    state_values = new_state_values\n",
    "\n",
    "    if diff < min_difference:\n",
    "        print(\"Terminated\")\n",
    "        break"
   ]
  },
  {
   "cell_type": "code",
   "execution_count": 12,
   "metadata": {},
   "outputs": [
    {
     "data": {
      "image/svg+xml": [
       "<?xml version=\"1.0\" encoding=\"UTF-8\" standalone=\"no\"?>\r\n",
       "<!DOCTYPE svg PUBLIC \"-//W3C//DTD SVG 1.1//EN\"\r\n",
       " \"http://www.w3.org/Graphics/SVG/1.1/DTD/svg11.dtd\">\r\n",
       "<!-- Generated by graphviz version 2.38.0 (20140413.2041)\r\n",
       " -->\r\n",
       "<!-- Title: MDP Pages: 1 -->\r\n",
       "<svg width=\"720pt\" height=\"181pt\"\r\n",
       " viewBox=\"0.00 0.00 720.00 180.88\" xmlns=\"http://www.w3.org/2000/svg\" xmlns:xlink=\"http://www.w3.org/1999/xlink\">\r\n",
       "<g id=\"graph0\" class=\"graph\" transform=\"scale(0.583483 0.583483) rotate(0) translate(4 306)\">\r\n",
       "<title>MDP</title>\r\n",
       "<polygon fill=\"white\" stroke=\"none\" points=\"-4,4 -4,-306 1229.97,-306 1229.97,4 -4,4\"/>\r\n",
       "<!-- s0 -->\r\n",
       "<g id=\"node1\" class=\"node\"><title>s0</title>\r\n",
       "<ellipse fill=\"#85ff75\" stroke=\"#85ff75\" cx=\"75.4178\" cy=\"-110\" rx=\"71.34\" ry=\"71.34\"/>\r\n",
       "<ellipse fill=\"none\" stroke=\"#85ff75\" cx=\"75.4178\" cy=\"-110\" rx=\"75.3357\" ry=\"75.3357\"/>\r\n",
       "<text text-anchor=\"middle\" x=\"75.4178\" y=\"-116.8\" font-family=\"Arial\" font-size=\"24.00\">s0</text>\r\n",
       "<text text-anchor=\"middle\" x=\"75.4178\" y=\"-90.8\" font-family=\"Arial\" font-size=\"24.00\">V =3.78</text>\r\n",
       "</g>\r\n",
       "<!-- s0&#45;a0 -->\r\n",
       "<g id=\"node2\" class=\"node\"><title>s0&#45;a0</title>\r\n",
       "<ellipse fill=\"lightpink\" stroke=\"lightpink\" cx=\"263.413\" cy=\"-154\" rx=\"27.6545\" ry=\"27.6545\"/>\r\n",
       "<text text-anchor=\"middle\" x=\"263.413\" y=\"-149\" font-family=\"Arial\" font-size=\"20.00\">a0</text>\r\n",
       "</g>\r\n",
       "<!-- s0&#45;&gt;s0&#45;a0 -->\r\n",
       "<g id=\"edge1\" class=\"edge\"><title>s0&#45;&gt;s0&#45;a0</title>\r\n",
       "<path fill=\"none\" stroke=\"red\" stroke-width=\"2\" d=\"M150.026,-121.52C172.025,-125.642 196.074,-130.825 217.836,-137 221.205,-137.956 224.677,-139.06 228.126,-140.237\"/>\r\n",
       "<polygon fill=\"red\" stroke=\"red\" stroke-width=\"2\" points=\"227.088,-143.583 237.682,-143.685 229.463,-136.999 227.088,-143.583\"/>\r\n",
       "</g>\r\n",
       "<!-- s0&#45;a1 -->\r\n",
       "<g id=\"node4\" class=\"node\"><title>s0&#45;a1</title>\r\n",
       "<ellipse fill=\"lightpink\" stroke=\"lightpink\" cx=\"263.413\" cy=\"-227\" rx=\"27.6545\" ry=\"27.6545\"/>\r\n",
       "<text text-anchor=\"middle\" x=\"263.413\" y=\"-222\" font-family=\"Arial\" font-size=\"20.00\">a1</text>\r\n",
       "</g>\r\n",
       "<!-- s0&#45;&gt;s0&#45;a1 -->\r\n",
       "<g id=\"edge4\" class=\"edge\"><title>s0&#45;&gt;s0&#45;a1</title>\r\n",
       "<path fill=\"none\" stroke=\"red\" stroke-width=\"2\" d=\"M139.647,-149.774C170.411,-169.127 206.035,-191.535 230.957,-207.213\"/>\r\n",
       "<polygon fill=\"red\" stroke=\"red\" stroke-width=\"2\" points=\"229.298,-210.304 239.626,-212.666 233.026,-204.379 229.298,-210.304\"/>\r\n",
       "</g>\r\n",
       "<!-- s0&#45;a0&#45;&gt;s0 -->\r\n",
       "<g id=\"edge2\" class=\"edge\"><title>s0&#45;a0&#45;&gt;s0</title>\r\n",
       "<path fill=\"none\" stroke=\"blue\" stroke-dasharray=\"5,2\" d=\"M236.126,-148.701C217.333,-144.834 191.469,-139.355 168.836,-134 165.425,-133.193 161.948,-132.356 158.438,-131.499\"/>\r\n",
       "<polygon fill=\"blue\" stroke=\"blue\" points=\"159.036,-128.041 148.488,-129.039 157.356,-134.837 159.036,-128.041\"/>\r\n",
       "<text text-anchor=\"middle\" x=\"193.336\" y=\"-150.2\" font-family=\"Arial\" font-size=\"16.00\">p = 0.5</text>\r\n",
       "</g>\r\n",
       "<!-- s2 -->\r\n",
       "<g id=\"node3\" class=\"node\"><title>s2</title>\r\n",
       "<ellipse fill=\"#85ff75\" stroke=\"#85ff75\" cx=\"536.408\" cy=\"-201\" rx=\"71.34\" ry=\"71.34\"/>\r\n",
       "<ellipse fill=\"none\" stroke=\"#85ff75\" cx=\"536.408\" cy=\"-201\" rx=\"75.3357\" ry=\"75.3357\"/>\r\n",
       "<text text-anchor=\"middle\" x=\"536.408\" y=\"-207.8\" font-family=\"Arial\" font-size=\"24.00\">s2</text>\r\n",
       "<text text-anchor=\"middle\" x=\"536.408\" y=\"-181.8\" font-family=\"Arial\" font-size=\"24.00\">V =4.20</text>\r\n",
       "</g>\r\n",
       "<!-- s0&#45;a0&#45;&gt;s2 -->\r\n",
       "<g id=\"edge3\" class=\"edge\"><title>s0&#45;a0&#45;&gt;s2</title>\r\n",
       "<path fill=\"none\" stroke=\"blue\" stroke-dasharray=\"5,2\" d=\"M290.89,-158.592C327.877,-165.007 396.679,-176.94 451.901,-186.517\"/>\r\n",
       "<polygon fill=\"blue\" stroke=\"blue\" points=\"451.592,-190.016 462.043,-188.276 452.788,-183.119 451.592,-190.016\"/>\r\n",
       "<text text-anchor=\"middle\" x=\"375.99\" y=\"-190.2\" font-family=\"Arial\" font-size=\"16.00\">p = 0.5</text>\r\n",
       "</g>\r\n",
       "<!-- s2&#45;a0 -->\r\n",
       "<g id=\"node8\" class=\"node\"><title>s2&#45;a0</title>\r\n",
       "<ellipse fill=\"lightpink\" stroke=\"lightpink\" cx=\"804.403\" cy=\"-162\" rx=\"27.6545\" ry=\"27.6545\"/>\r\n",
       "<text text-anchor=\"middle\" x=\"804.403\" y=\"-157\" font-family=\"Arial\" font-size=\"20.00\">a0</text>\r\n",
       "</g>\r\n",
       "<!-- s2&#45;&gt;s2&#45;a0 -->\r\n",
       "<g id=\"edge13\" class=\"edge\"><title>s2&#45;&gt;s2&#45;a0</title>\r\n",
       "<path fill=\"none\" stroke=\"red\" stroke-width=\"2\" d=\"M611.929,-200.053C655.344,-198.075 710.821,-193.079 758.825,-181 762.466,-180.084 766.192,-178.91 769.863,-177.596\"/>\r\n",
       "<polygon fill=\"red\" stroke=\"red\" stroke-width=\"2\" points=\"771.325,-180.782 779.355,-173.87 768.768,-174.266 771.325,-180.782\"/>\r\n",
       "</g>\r\n",
       "<!-- s2&#45;a1 -->\r\n",
       "<g id=\"node9\" class=\"node\"><title>s2&#45;a1</title>\r\n",
       "<ellipse fill=\"lightpink\" stroke=\"lightpink\" cx=\"804.403\" cy=\"-80\" rx=\"27.6545\" ry=\"27.6545\"/>\r\n",
       "<text text-anchor=\"middle\" x=\"804.403\" y=\"-75\" font-family=\"Arial\" font-size=\"20.00\">a1</text>\r\n",
       "</g>\r\n",
       "<!-- s2&#45;&gt;s2&#45;a1 -->\r\n",
       "<g id=\"edge16\" class=\"edge\"><title>s2&#45;&gt;s2&#45;a1</title>\r\n",
       "<path fill=\"none\" stroke=\"red\" stroke-width=\"2\" d=\"M601.962,-163.238C611.211,-158.251 620.688,-153.363 629.825,-149 676.904,-126.523 733.36,-105.047 768.816,-92.1904\"/>\r\n",
       "<polygon fill=\"red\" stroke=\"red\" stroke-width=\"2\" points=\"770.011,-95.4801 778.234,-88.7991 767.639,-88.894 770.011,-95.4801\"/>\r\n",
       "</g>\r\n",
       "<!-- s0&#45;a1&#45;&gt;s2 -->\r\n",
       "<g id=\"edge5\" class=\"edge\"><title>s0&#45;a1&#45;&gt;s2</title>\r\n",
       "<path fill=\"none\" stroke=\"blue\" stroke-dasharray=\"5,2\" d=\"M290.89,-224.46C327.689,-220.929 395.98,-214.377 451.058,-209.093\"/>\r\n",
       "<polygon fill=\"blue\" stroke=\"blue\" points=\"451.557,-212.561 461.177,-208.122 450.889,-205.593 451.557,-212.561\"/>\r\n",
       "<text text-anchor=\"middle\" x=\"375.99\" y=\"-228.2\" font-family=\"Arial\" font-size=\"16.00\">p = 1</text>\r\n",
       "</g>\r\n",
       "<!-- s1 -->\r\n",
       "<g id=\"node5\" class=\"node\"><title>s1</title>\r\n",
       "<ellipse fill=\"#85ff75\" stroke=\"#85ff75\" cx=\"1001.4\" cy=\"-110\" rx=\"71.34\" ry=\"71.34\"/>\r\n",
       "<ellipse fill=\"none\" stroke=\"#85ff75\" cx=\"1001.4\" cy=\"-110\" rx=\"75.3357\" ry=\"75.3357\"/>\r\n",
       "<text text-anchor=\"middle\" x=\"1001.4\" y=\"-116.8\" font-family=\"Arial\" font-size=\"24.00\">s1</text>\r\n",
       "<text text-anchor=\"middle\" x=\"1001.4\" y=\"-90.8\" font-family=\"Arial\" font-size=\"24.00\">V =7.29</text>\r\n",
       "</g>\r\n",
       "<!-- s1&#45;a0 -->\r\n",
       "<g id=\"node6\" class=\"node\"><title>s1&#45;a0</title>\r\n",
       "<ellipse fill=\"lightpink\" stroke=\"lightpink\" cx=\"1198.39\" cy=\"-86\" rx=\"27.6545\" ry=\"27.6545\"/>\r\n",
       "<text text-anchor=\"middle\" x=\"1198.39\" y=\"-81\" font-family=\"Arial\" font-size=\"20.00\">a0</text>\r\n",
       "</g>\r\n",
       "<!-- s1&#45;&gt;s1&#45;a0 -->\r\n",
       "<g id=\"edge6\" class=\"edge\"><title>s1&#45;&gt;s1&#45;a0</title>\r\n",
       "<path fill=\"none\" stroke=\"red\" stroke-width=\"2\" d=\"M1076.84,-104.968C1101.15,-102.82 1128.21,-99.8894 1152.82,-96 1155.51,-95.5736 1158.29,-95.081 1161.08,-94.5477\"/>\r\n",
       "<polygon fill=\"red\" stroke=\"red\" stroke-width=\"2\" points=\"1162.01,-97.9295 1171.1,-92.4837 1160.6,-91.0735 1162.01,-97.9295\"/>\r\n",
       "</g>\r\n",
       "<!-- s1&#45;a1 -->\r\n",
       "<g id=\"node7\" class=\"node\"><title>s1&#45;a1</title>\r\n",
       "<ellipse fill=\"lightpink\" stroke=\"lightpink\" cx=\"1198.39\" cy=\"-168\" rx=\"27.6545\" ry=\"27.6545\"/>\r\n",
       "<text text-anchor=\"middle\" x=\"1198.39\" y=\"-163\" font-family=\"Arial\" font-size=\"20.00\">a1</text>\r\n",
       "</g>\r\n",
       "<!-- s1&#45;&gt;s1&#45;a1 -->\r\n",
       "<g id=\"edge10\" class=\"edge\"><title>s1&#45;&gt;s1&#45;a1</title>\r\n",
       "<path fill=\"none\" stroke=\"red\" stroke-width=\"2\" d=\"M1075.35,-126.585C1100.17,-132.841 1127.92,-140.519 1152.82,-149 1156.37,-150.21 1160.04,-151.576 1163.67,-153.006\"/>\r\n",
       "<polygon fill=\"red\" stroke=\"red\" stroke-width=\"2\" points=\"1162.54,-156.325 1173.12,-156.88 1165.2,-149.848 1162.54,-156.325\"/>\r\n",
       "</g>\r\n",
       "<!-- s1&#45;a0&#45;&gt;s0 -->\r\n",
       "<g id=\"edge7\" class=\"edge\"><title>s1&#45;a0&#45;&gt;s0</title>\r\n",
       "<path fill=\"none\" stroke=\"blue\" stroke-dasharray=\"5,2\" d=\"M1175.95,-69.4183C1141.43,-44.4277 1070.48,-0 1002.4,-0 262.413,-0 262.413,-0 262.413,-0 216.568,-0 172.109,-25.0656 138.16,-51.2663\"/>\r\n",
       "<polygon fill=\"blue\" stroke=\"blue\" points=\"135.863,-48.6212 130.202,-57.5773 140.212,-54.1058 135.863,-48.6212\"/>\r\n",
       "<text text-anchor=\"middle\" x=\"694.325\" y=\"-5.2\" font-family=\"Arial\" font-size=\"16.00\">p = 0.7 &#160;reward =5</text>\r\n",
       "</g>\r\n",
       "<!-- s1&#45;a0&#45;&gt;s2 -->\r\n",
       "<g id=\"edge9\" class=\"edge\"><title>s1&#45;a0&#45;&gt;s2</title>\r\n",
       "<path fill=\"none\" stroke=\"blue\" stroke-dasharray=\"5,2\" d=\"M1182.69,-108.877C1178.55,-115.827 1174.24,-123.589 1170.82,-131 1160.55,-153.196 1171.67,-167.42 1152.82,-183 1126.51,-204.742 1110.81,-191.014 1076.82,-194 878.865,-211.383 828.511,-207.224 629.825,-204 627.262,-203.958 624.659,-203.91 622.031,-203.857\"/>\r\n",
       "<polygon fill=\"blue\" stroke=\"blue\" points=\"621.881,-200.353 611.804,-203.625 621.722,-207.351 621.881,-200.353\"/>\r\n",
       "<text text-anchor=\"middle\" x=\"878.98\" y=\"-212.2\" font-family=\"Arial\" font-size=\"16.00\">p = 0.2</text>\r\n",
       "</g>\r\n",
       "<!-- s1&#45;a0&#45;&gt;s1 -->\r\n",
       "<g id=\"edge8\" class=\"edge\"><title>s1&#45;a0&#45;&gt;s1</title>\r\n",
       "<path fill=\"none\" stroke=\"blue\" stroke-dasharray=\"5,2\" d=\"M1171.7,-77.8519C1165.57,-76.2537 1159.01,-74.8196 1152.82,-74 1127.26,-70.6205 1120.15,-69.2399 1094.82,-74 1090.09,-74.8873 1085.3,-76.009 1080.51,-77.3034\"/>\r\n",
       "<polygon fill=\"blue\" stroke=\"blue\" points=\"1079.32,-74.0064 1070.71,-80.183 1081.29,-80.7226 1079.32,-74.0064\"/>\r\n",
       "<text text-anchor=\"middle\" x=\"1123.82\" y=\"-79.2\" font-family=\"Arial\" font-size=\"16.00\">p = 0.1</text>\r\n",
       "</g>\r\n",
       "<!-- s1&#45;a1&#45;&gt;s2 -->\r\n",
       "<g id=\"edge12\" class=\"edge\"><title>s1&#45;a1&#45;&gt;s2</title>\r\n",
       "<path fill=\"none\" stroke=\"blue\" stroke-dasharray=\"5,2\" d=\"M1187.43,-193.311C1180.2,-207.998 1168.85,-225.272 1152.82,-234 980.811,-327.652 740.155,-270.508 616.956,-230.332\"/>\r\n",
       "<polygon fill=\"blue\" stroke=\"blue\" points=\"617.803,-226.925 607.209,-227.108 615.605,-233.571 617.803,-226.925\"/>\r\n",
       "<text text-anchor=\"middle\" x=\"878.98\" y=\"-289.2\" font-family=\"Arial\" font-size=\"16.00\">p = 0.05</text>\r\n",
       "</g>\r\n",
       "<!-- s1&#45;a1&#45;&gt;s1 -->\r\n",
       "<g id=\"edge11\" class=\"edge\"><title>s1&#45;a1&#45;&gt;s1</title>\r\n",
       "<path fill=\"none\" stroke=\"blue\" stroke-dasharray=\"5,2\" d=\"M1170.96,-163.536C1150.07,-159.72 1120.29,-153.639 1094.82,-146 1090.26,-144.634 1085.62,-143.145 1080.95,-141.573\"/>\r\n",
       "<polygon fill=\"blue\" stroke=\"blue\" points=\"1081.96,-138.22 1071.37,-138.247 1079.67,-144.833 1081.96,-138.22\"/>\r\n",
       "<text text-anchor=\"middle\" x=\"1123.82\" y=\"-166.2\" font-family=\"Arial\" font-size=\"16.00\">p = 0.95</text>\r\n",
       "</g>\r\n",
       "<!-- s2&#45;a0&#45;&gt;s0 -->\r\n",
       "<g id=\"edge14\" class=\"edge\"><title>s2&#45;a0&#45;&gt;s0</title>\r\n",
       "<path fill=\"none\" stroke=\"blue\" stroke-dasharray=\"5,2\" d=\"M777.713,-153.935C741.264,-142.96 672.247,-123.9 611.825,-117 453.393,-98.9068 266.887,-101.918 161.066,-105.875\"/>\r\n",
       "<polygon fill=\"blue\" stroke=\"blue\" points=\"160.624,-102.389 150.767,-106.272 160.894,-109.384 160.624,-102.389\"/>\r\n",
       "<text text-anchor=\"middle\" x=\"375.99\" y=\"-110.2\" font-family=\"Arial\" font-size=\"16.00\">p = 0.4</text>\r\n",
       "</g>\r\n",
       "<!-- s2&#45;a0&#45;&gt;s2 -->\r\n",
       "<g id=\"edge15\" class=\"edge\"><title>s2&#45;a0&#45;&gt;s2</title>\r\n",
       "<path fill=\"none\" stroke=\"blue\" stroke-dasharray=\"5,2\" d=\"M776.864,-157.818C742.494,-153.244 680.933,-147.932 629.825,-159 624.443,-160.166 618.997,-161.673 613.584,-163.42\"/>\r\n",
       "<polygon fill=\"blue\" stroke=\"blue\" points=\"612.183,-160.202 603.896,-166.804 614.491,-166.811 612.183,-160.202\"/>\r\n",
       "<text text-anchor=\"middle\" x=\"694.325\" y=\"-164.2\" font-family=\"Arial\" font-size=\"16.00\">p = 0.6</text>\r\n",
       "</g>\r\n",
       "<!-- s2&#45;a1&#45;&gt;s0 -->\r\n",
       "<g id=\"edge17\" class=\"edge\"><title>s2&#45;a1&#45;&gt;s0</title>\r\n",
       "<path fill=\"none\" stroke=\"blue\" stroke-dasharray=\"5,2\" d=\"M780.628,-65.6207C773.867,-62.0907 766.273,-58.808 758.825,-57 703.111,-43.4738 687.159,-56.9107 629.825,-57 487.231,-57.2222 450.964,-44.7194 308.99,-58 245.912,-63.9005 230.538,-69.6288 168.836,-84 165.257,-84.8336 161.609,-85.7164 157.93,-86.6338\"/>\r\n",
       "<polygon fill=\"blue\" stroke=\"blue\" points=\"156.971,-83.2665 148.148,-89.133 158.703,-90.0487 156.971,-83.2665\"/>\r\n",
       "<text text-anchor=\"middle\" x=\"375.99\" y=\"-63.2\" font-family=\"Arial\" font-size=\"16.00\">p = 0.3 &#160;reward =&#45;1</text>\r\n",
       "</g>\r\n",
       "<!-- s2&#45;a1&#45;&gt;s2 -->\r\n",
       "<g id=\"edge19\" class=\"edge\"><title>s2&#45;a1&#45;&gt;s2</title>\r\n",
       "<path fill=\"none\" stroke=\"blue\" stroke-dasharray=\"5,2\" d=\"M777.914,-72.0554C742.547,-62.571 677.56,-50.8141 629.825,-75 608.016,-86.0505 590.108,-104.937 576.058,-124.772\"/>\r\n",
       "<polygon fill=\"blue\" stroke=\"blue\" points=\"572.984,-123.069 570.273,-133.311 578.779,-126.995 572.984,-123.069\"/>\r\n",
       "<text text-anchor=\"middle\" x=\"694.325\" y=\"-80.2\" font-family=\"Arial\" font-size=\"16.00\">p = 0.4</text>\r\n",
       "</g>\r\n",
       "<!-- s2&#45;a1&#45;&gt;s1 -->\r\n",
       "<g id=\"edge18\" class=\"edge\"><title>s2&#45;a1&#45;&gt;s1</title>\r\n",
       "<path fill=\"none\" stroke=\"blue\" stroke-dasharray=\"5,2\" d=\"M831.701,-84.0459C853.556,-87.4083 885.906,-92.3854 916.447,-97.0842\"/>\r\n",
       "<polygon fill=\"blue\" stroke=\"blue\" points=\"916.301,-100.603 926.717,-98.6643 917.366,-93.6843 916.301,-100.603\"/>\r\n",
       "<text text-anchor=\"middle\" x=\"878.98\" y=\"-101.2\" font-family=\"Arial\" font-size=\"16.00\">p = 0.3</text>\r\n",
       "</g>\r\n",
       "</g>\r\n",
       "</svg>\r\n"
      ],
      "text/plain": [
       "<graphviz.dot.Digraph at 0x2b2d10009e8>"
      ]
     },
     "metadata": {},
     "output_type": "display_data"
    }
   ],
   "source": [
    "if has_graphviz:\n",
    "    display(plot_graph_with_state_values(mdp, state_values))"
   ]
  },
  {
   "cell_type": "code",
   "execution_count": 13,
   "metadata": {},
   "outputs": [
    {
     "name": "stdout",
     "output_type": "stream",
     "text": [
      "Final state values: {'s0': 3.7810348735476405, 's1': 7.294006423867229, 's2': 4.202140275227048}\n"
     ]
    }
   ],
   "source": [
    "print(\"Final state values:\", state_values)\n",
    "\n",
    "assert abs(state_values['s0'] - 3.781) < 0.01\n",
    "assert abs(state_values['s1'] - 7.294) < 0.01\n",
    "assert abs(state_values['s2'] - 4.202) < 0.01"
   ]
  },
  {
   "cell_type": "markdown",
   "metadata": {},
   "source": [
    "Now let's use those $V^{*}(s)$ to find optimal actions in each state\n",
    "\n",
    " $$\\pi^*(s) = argmax_a \\sum_{s'} P(s' | s,a) \\cdot [ r(s,a,s') + \\gamma V_{i}(s')] = argmax_a Q_i(s,a)$$\n",
    " \n",
    "The only difference vs V(s) is that here we take not max but argmax: find action such with maximum Q(s,a)."
   ]
  },
  {
   "cell_type": "code",
   "execution_count": 14,
   "metadata": {},
   "outputs": [],
   "source": [
    "def get_optimal_action(mdp, state_values, state, gamma=0.9):\n",
    "    \"\"\" Finds optimal action using formula above. \"\"\"\n",
    "    if mdp.is_terminal(state):\n",
    "        return None\n",
    "\n",
    "    actions = mdp.get_possible_actions(state)\n",
    "    final_action_value = {action:get_action_value(mdp, state_values, state, action, gamma) for action in actions}\n",
    "    optimal_action = sorted(final_action_value, key=lambda x:final_action_value[x], reverse=True)[0]\n",
    "\n",
    "    return optimal_action"
   ]
  },
  {
   "cell_type": "code",
   "execution_count": 15,
   "metadata": {},
   "outputs": [
    {
     "name": "stdout",
     "output_type": "stream",
     "text": [
      "a1\n",
      "a0\n",
      "a1\n"
     ]
    }
   ],
   "source": [
    "print(get_optimal_action(mdp, state_values, 's0', gamma))\n",
    "print(get_optimal_action(mdp, state_values, 's1', gamma))\n",
    "print(get_optimal_action(mdp, state_values, 's2', gamma))"
   ]
  },
  {
   "cell_type": "code",
   "execution_count": 16,
   "metadata": {},
   "outputs": [],
   "source": [
    "assert get_optimal_action(mdp, state_values, 's0', gamma) == 'a1'\n",
    "assert get_optimal_action(mdp, state_values, 's1', gamma) == 'a0'\n",
    "assert get_optimal_action(mdp, state_values, 's2', gamma) == 'a1'"
   ]
  },
  {
   "cell_type": "code",
   "execution_count": 17,
   "metadata": {},
   "outputs": [
    {
     "data": {
      "image/svg+xml": [
       "<?xml version=\"1.0\" encoding=\"UTF-8\" standalone=\"no\"?>\r\n",
       "<!DOCTYPE svg PUBLIC \"-//W3C//DTD SVG 1.1//EN\"\r\n",
       " \"http://www.w3.org/Graphics/SVG/1.1/DTD/svg11.dtd\">\r\n",
       "<!-- Generated by graphviz version 2.38.0 (20140413.2041)\r\n",
       " -->\r\n",
       "<!-- Title: MDP Pages: 1 -->\r\n",
       "<svg width=\"720pt\" height=\"196pt\"\r\n",
       " viewBox=\"0.00 0.00 720.00 196.05\" xmlns=\"http://www.w3.org/2000/svg\" xmlns:xlink=\"http://www.w3.org/1999/xlink\">\r\n",
       "<g id=\"graph0\" class=\"graph\" transform=\"scale(0.583483 0.583483) rotate(0) translate(4 332)\">\r\n",
       "<title>MDP</title>\r\n",
       "<polygon fill=\"white\" stroke=\"none\" points=\"-4,4 -4,-332 1229.97,-332 1229.97,4 -4,4\"/>\r\n",
       "<!-- s0 -->\r\n",
       "<g id=\"node1\" class=\"node\"><title>s0</title>\r\n",
       "<ellipse fill=\"#85ff75\" stroke=\"#85ff75\" cx=\"75.4178\" cy=\"-129\" rx=\"71.34\" ry=\"71.34\"/>\r\n",
       "<ellipse fill=\"none\" stroke=\"#85ff75\" cx=\"75.4178\" cy=\"-129\" rx=\"75.3357\" ry=\"75.3357\"/>\r\n",
       "<text text-anchor=\"middle\" x=\"75.4178\" y=\"-135.8\" font-family=\"Arial\" font-size=\"24.00\">s0</text>\r\n",
       "<text text-anchor=\"middle\" x=\"75.4178\" y=\"-109.8\" font-family=\"Arial\" font-size=\"24.00\">V =3.78</text>\r\n",
       "</g>\r\n",
       "<!-- s0&#45;a0 -->\r\n",
       "<g id=\"node2\" class=\"node\"><title>s0&#45;a0</title>\r\n",
       "<ellipse fill=\"lightpink\" stroke=\"lightpink\" cx=\"263.413\" cy=\"-160\" rx=\"27.6545\" ry=\"27.6545\"/>\r\n",
       "<text text-anchor=\"middle\" x=\"263.413\" y=\"-155\" font-family=\"Arial\" font-size=\"20.00\">a0</text>\r\n",
       "</g>\r\n",
       "<!-- s0&#45;&gt;s0&#45;a0 -->\r\n",
       "<g id=\"edge1\" class=\"edge\"><title>s0&#45;&gt;s0&#45;a0</title>\r\n",
       "<path fill=\"none\" stroke=\"red\" stroke-width=\"2\" d=\"M150.793,-132.634C172.594,-134.699 196.343,-137.934 217.836,-143 221.244,-143.804 224.743,-144.805 228.209,-145.918\"/>\r\n",
       "<polygon fill=\"red\" stroke=\"red\" stroke-width=\"2\" points=\"227.194,-149.271 237.788,-149.275 229.509,-142.665 227.194,-149.271\"/>\r\n",
       "</g>\r\n",
       "<!-- s0&#45;a1 -->\r\n",
       "<g id=\"node4\" class=\"node\"><title>s0&#45;a1</title>\r\n",
       "<ellipse fill=\"lightpink\" stroke=\"lightpink\" cx=\"263.413\" cy=\"-233\" rx=\"27.6545\" ry=\"27.6545\"/>\r\n",
       "<text text-anchor=\"middle\" x=\"263.413\" y=\"-228\" font-family=\"Arial\" font-size=\"20.00\">a1</text>\r\n",
       "</g>\r\n",
       "<!-- s0&#45;&gt;s0&#45;a1 -->\r\n",
       "<g id=\"edge4\" class=\"edge\"><title>s0&#45;&gt;s0&#45;a1</title>\r\n",
       "<path fill=\"none\" stroke=\"red\" stroke-width=\"2\" d=\"M144.092,-160.318C174.486,-176.754 208.786,-196.404 232.6,-211.219\"/>\r\n",
       "<polygon fill=\"red\" stroke=\"red\" stroke-width=\"2\" points=\"230.86,-214.26 241.183,-216.644 234.6,-208.343 230.86,-214.26\"/>\r\n",
       "</g>\r\n",
       "<!-- s0&#45;&gt;s0&#45;a1 -->\r\n",
       "<g id=\"edge20\" class=\"edge\"><title>s0&#45;&gt;s0&#45;a1</title>\r\n",
       "<path fill=\"none\" stroke=\"green\" stroke-width=\"6\" d=\"M138.61,-170.185C168.388,-187.517 202.917,-206.482 227.932,-219.104\"/>\r\n",
       "<polygon fill=\"green\" stroke=\"green\" stroke-width=\"6\" points=\"225.732,-223.873 237.024,-223.614 230.399,-214.467 225.732,-223.873\"/>\r\n",
       "</g>\r\n",
       "<!-- s0&#45;a0&#45;&gt;s0 -->\r\n",
       "<g id=\"edge2\" class=\"edge\"><title>s0&#45;a0&#45;&gt;s0</title>\r\n",
       "<path fill=\"none\" stroke=\"blue\" stroke-dasharray=\"5,2\" d=\"M235.746,-155.555C215.78,-152.228 187.308,-147.482 159.942,-142.921\"/>\r\n",
       "<polygon fill=\"blue\" stroke=\"blue\" points=\"160.367,-139.444 149.928,-141.252 159.216,-146.349 160.367,-139.444\"/>\r\n",
       "<text text-anchor=\"middle\" x=\"193.336\" y=\"-158.2\" font-family=\"Arial\" font-size=\"16.00\">p = 0.5</text>\r\n",
       "</g>\r\n",
       "<!-- s2 -->\r\n",
       "<g id=\"node3\" class=\"node\"><title>s2</title>\r\n",
       "<ellipse fill=\"#85ff75\" stroke=\"#85ff75\" cx=\"536.408\" cy=\"-207\" rx=\"71.34\" ry=\"71.34\"/>\r\n",
       "<ellipse fill=\"none\" stroke=\"#85ff75\" cx=\"536.408\" cy=\"-207\" rx=\"75.3357\" ry=\"75.3357\"/>\r\n",
       "<text text-anchor=\"middle\" x=\"536.408\" y=\"-213.8\" font-family=\"Arial\" font-size=\"24.00\">s2</text>\r\n",
       "<text text-anchor=\"middle\" x=\"536.408\" y=\"-187.8\" font-family=\"Arial\" font-size=\"24.00\">V =4.20</text>\r\n",
       "</g>\r\n",
       "<!-- s0&#45;a0&#45;&gt;s2 -->\r\n",
       "<g id=\"edge3\" class=\"edge\"><title>s0&#45;a0&#45;&gt;s2</title>\r\n",
       "<path fill=\"none\" stroke=\"blue\" stroke-dasharray=\"5,2\" d=\"M290.89,-164.592C327.877,-171.007 396.679,-182.94 451.901,-192.517\"/>\r\n",
       "<polygon fill=\"blue\" stroke=\"blue\" points=\"451.592,-196.016 462.043,-194.276 452.788,-189.119 451.592,-196.016\"/>\r\n",
       "<text text-anchor=\"middle\" x=\"375.99\" y=\"-196.2\" font-family=\"Arial\" font-size=\"16.00\">p = 0.5</text>\r\n",
       "</g>\r\n",
       "<!-- s2&#45;a0 -->\r\n",
       "<g id=\"node8\" class=\"node\"><title>s2&#45;a0</title>\r\n",
       "<ellipse fill=\"lightpink\" stroke=\"lightpink\" cx=\"804.403\" cy=\"-181\" rx=\"27.6545\" ry=\"27.6545\"/>\r\n",
       "<text text-anchor=\"middle\" x=\"804.403\" y=\"-176\" font-family=\"Arial\" font-size=\"20.00\">a0</text>\r\n",
       "</g>\r\n",
       "<!-- s2&#45;&gt;s2&#45;a0 -->\r\n",
       "<g id=\"edge13\" class=\"edge\"><title>s2&#45;&gt;s2&#45;a0</title>\r\n",
       "<path fill=\"none\" stroke=\"red\" stroke-width=\"2\" d=\"M611.747,-210.692C655.1,-211.269 710.576,-209.281 758.825,-199 762.277,-198.265 765.804,-197.281 769.288,-196.151\"/>\r\n",
       "<polygon fill=\"red\" stroke=\"red\" stroke-width=\"2\" points=\"770.687,-199.367 778.893,-192.666 768.299,-192.787 770.687,-199.367\"/>\r\n",
       "</g>\r\n",
       "<!-- s2&#45;a1 -->\r\n",
       "<g id=\"node9\" class=\"node\"><title>s2&#45;a1</title>\r\n",
       "<ellipse fill=\"lightpink\" stroke=\"lightpink\" cx=\"804.403\" cy=\"-108\" rx=\"27.6545\" ry=\"27.6545\"/>\r\n",
       "<text text-anchor=\"middle\" x=\"804.403\" y=\"-103\" font-family=\"Arial\" font-size=\"20.00\">a1</text>\r\n",
       "</g>\r\n",
       "<!-- s2&#45;&gt;s2&#45;a1 -->\r\n",
       "<g id=\"edge16\" class=\"edge\"><title>s2&#45;&gt;s2&#45;a1</title>\r\n",
       "<path fill=\"none\" stroke=\"red\" stroke-width=\"2\" d=\"M602.622,-170.777C611.728,-167.021 620.99,-163.366 629.825,-160 676.824,-142.093 731.674,-123.137 766.936,-113.292\"/>\r\n",
       "<polygon fill=\"red\" stroke=\"red\" stroke-width=\"2\" points=\"768.028,-116.623 776.78,-110.652 766.215,-109.861 768.028,-116.623\"/>\r\n",
       "</g>\r\n",
       "<!-- s2&#45;&gt;s2&#45;a1 -->\r\n",
       "<g id=\"edge22\" class=\"edge\"><title>s2&#45;&gt;s2&#45;a1</title>\r\n",
       "<path fill=\"none\" stroke=\"green\" stroke-width=\"6\" d=\"M608.905,-186.131C615.955,-183.36 623.017,-180.594 629.825,-178 678.663,-159.393 735.977,-139.653 770.984,-125.479\"/>\r\n",
       "<polygon fill=\"green\" stroke=\"green\" stroke-width=\"6\" points=\"773.019,-130.319 780.24,-121.634 768.991,-120.622 773.019,-130.319\"/>\r\n",
       "</g>\r\n",
       "<!-- s0&#45;a1&#45;&gt;s2 -->\r\n",
       "<g id=\"edge5\" class=\"edge\"><title>s0&#45;a1&#45;&gt;s2</title>\r\n",
       "<path fill=\"none\" stroke=\"blue\" stroke-dasharray=\"5,2\" d=\"M290.89,-230.46C327.689,-226.929 395.98,-220.377 451.058,-215.093\"/>\r\n",
       "<polygon fill=\"blue\" stroke=\"blue\" points=\"451.557,-218.561 461.177,-214.122 450.889,-211.593 451.557,-218.561\"/>\r\n",
       "<text text-anchor=\"middle\" x=\"375.99\" y=\"-234.2\" font-family=\"Arial\" font-size=\"16.00\">p = 1</text>\r\n",
       "</g>\r\n",
       "<!-- s1 -->\r\n",
       "<g id=\"node5\" class=\"node\"><title>s1</title>\r\n",
       "<ellipse fill=\"#85ff75\" stroke=\"#85ff75\" cx=\"1001.4\" cy=\"-128\" rx=\"71.34\" ry=\"71.34\"/>\r\n",
       "<ellipse fill=\"none\" stroke=\"#85ff75\" cx=\"1001.4\" cy=\"-128\" rx=\"75.3357\" ry=\"75.3357\"/>\r\n",
       "<text text-anchor=\"middle\" x=\"1001.4\" y=\"-134.8\" font-family=\"Arial\" font-size=\"24.00\">s1</text>\r\n",
       "<text text-anchor=\"middle\" x=\"1001.4\" y=\"-108.8\" font-family=\"Arial\" font-size=\"24.00\">V =7.29</text>\r\n",
       "</g>\r\n",
       "<!-- s1&#45;a0 -->\r\n",
       "<g id=\"node6\" class=\"node\"><title>s1&#45;a0</title>\r\n",
       "<ellipse fill=\"lightpink\" stroke=\"lightpink\" cx=\"1198.39\" cy=\"-127\" rx=\"27.6545\" ry=\"27.6545\"/>\r\n",
       "<text text-anchor=\"middle\" x=\"1198.39\" y=\"-122\" font-family=\"Arial\" font-size=\"20.00\">a0</text>\r\n",
       "</g>\r\n",
       "<!-- s1&#45;&gt;s1&#45;a0 -->\r\n",
       "<g id=\"edge6\" class=\"edge\"><title>s1&#45;&gt;s1&#45;a0</title>\r\n",
       "<path fill=\"none\" stroke=\"red\" stroke-width=\"2\" d=\"M1076.67,-121.042C1105.42,-120.459 1137.03,-120.684 1160.69,-121.775\"/>\r\n",
       "<polygon fill=\"red\" stroke=\"red\" stroke-width=\"2\" points=\"1160.78,-125.286 1170.96,-122.337 1161.16,-118.296 1160.78,-125.286\"/>\r\n",
       "</g>\r\n",
       "<!-- s1&#45;&gt;s1&#45;a0 -->\r\n",
       "<g id=\"edge21\" class=\"edge\"><title>s1&#45;&gt;s1&#45;a0</title>\r\n",
       "<path fill=\"none\" stroke=\"green\" stroke-width=\"6\" d=\"M1076.67,-134.196C1105.42,-134.485 1137.03,-133.935 1160.69,-132.601\"/>\r\n",
       "<polygon fill=\"green\" stroke=\"green\" stroke-width=\"6\" points=\"1161.32,-137.821 1170.96,-131.934 1160.64,-127.343 1161.32,-137.821\"/>\r\n",
       "</g>\r\n",
       "<!-- s1&#45;a1 -->\r\n",
       "<g id=\"node7\" class=\"node\"><title>s1&#45;a1</title>\r\n",
       "<ellipse fill=\"lightpink\" stroke=\"lightpink\" cx=\"1198.39\" cy=\"-200\" rx=\"27.6545\" ry=\"27.6545\"/>\r\n",
       "<text text-anchor=\"middle\" x=\"1198.39\" y=\"-195\" font-family=\"Arial\" font-size=\"20.00\">a1</text>\r\n",
       "</g>\r\n",
       "<!-- s1&#45;&gt;s1&#45;a1 -->\r\n",
       "<g id=\"edge10\" class=\"edge\"><title>s1&#45;&gt;s1&#45;a1</title>\r\n",
       "<path fill=\"none\" stroke=\"red\" stroke-width=\"2\" d=\"M1073.78,-150.364C1098.98,-158.742 1127.37,-168.732 1152.82,-179 1156.46,-180.471 1160.23,-182.09 1163.97,-183.757\"/>\r\n",
       "<polygon fill=\"red\" stroke=\"red\" stroke-width=\"2\" points=\"1162.54,-186.952 1173.09,-187.941 1165.46,-180.59 1162.54,-186.952\"/>\r\n",
       "</g>\r\n",
       "<!-- s1&#45;a0&#45;&gt;s0 -->\r\n",
       "<g id=\"edge7\" class=\"edge\"><title>s1&#45;a0&#45;&gt;s0</title>\r\n",
       "<path fill=\"none\" stroke=\"blue\" stroke-dasharray=\"5,2\" d=\"M1180.25,-105.743C1149.02,-69.5893 1078.96,-0 1002.4,-0 262.413,-0 262.413,-0 262.413,-0 212.361,-0 166.073,-31.9319 132.194,-64.0217\"/>\r\n",
       "<polygon fill=\"blue\" stroke=\"blue\" points=\"129.449,-61.8089 124.724,-71.2915 134.331,-66.8255 129.449,-61.8089\"/>\r\n",
       "<text text-anchor=\"middle\" x=\"694.325\" y=\"-5.2\" font-family=\"Arial\" font-size=\"16.00\">p = 0.7 &#160;reward =5</text>\r\n",
       "</g>\r\n",
       "<!-- s1&#45;a0&#45;&gt;s2 -->\r\n",
       "<g id=\"edge9\" class=\"edge\"><title>s1&#45;a0&#45;&gt;s2</title>\r\n",
       "<path fill=\"none\" stroke=\"blue\" stroke-dasharray=\"5,2\" d=\"M1180.25,-148.002C1176.84,-152.759 1173.49,-157.913 1170.82,-163 1159.42,-184.641 1172.67,-200.713 1152.82,-215 1070.16,-274.491 769.387,-240.951 621.15,-219.94\"/>\r\n",
       "<polygon fill=\"blue\" stroke=\"blue\" points=\"621.573,-216.465 611.178,-218.512 620.581,-223.394 621.573,-216.465\"/>\r\n",
       "<text text-anchor=\"middle\" x=\"878.98\" y=\"-253.2\" font-family=\"Arial\" font-size=\"16.00\">p = 0.2</text>\r\n",
       "</g>\r\n",
       "<!-- s1&#45;a0&#45;&gt;s1 -->\r\n",
       "<g id=\"edge8\" class=\"edge\"><title>s1&#45;a0&#45;&gt;s1</title>\r\n",
       "<path fill=\"none\" stroke=\"blue\" stroke-dasharray=\"5,2\" d=\"M1174.03,-113.643C1167.38,-110.504 1160,-107.606 1152.82,-106 1130.7,-101.053 1106.51,-101.898 1084.11,-105.207\"/>\r\n",
       "<polygon fill=\"blue\" stroke=\"blue\" points=\"1083.25,-101.801 1073.96,-106.888 1084.4,-108.707 1083.25,-101.801\"/>\r\n",
       "<text text-anchor=\"middle\" x=\"1123.82\" y=\"-111.2\" font-family=\"Arial\" font-size=\"16.00\">p = 0.1</text>\r\n",
       "</g>\r\n",
       "<!-- s1&#45;a1&#45;&gt;s2 -->\r\n",
       "<g id=\"edge12\" class=\"edge\"><title>s1&#45;a1&#45;&gt;s2</title>\r\n",
       "<path fill=\"none\" stroke=\"blue\" stroke-dasharray=\"5,2\" d=\"M1183.75,-223.545C1176.14,-234.296 1165.61,-245.957 1152.82,-252 942.64,-351.271 855.718,-306.781 629.825,-252 624.048,-250.599 618.209,-248.8 612.423,-246.732\"/>\r\n",
       "<polygon fill=\"blue\" stroke=\"blue\" points=\"613.345,-243.337 602.755,-243.018 610.835,-249.871 613.345,-243.337\"/>\r\n",
       "<text text-anchor=\"middle\" x=\"878.98\" y=\"-315.2\" font-family=\"Arial\" font-size=\"16.00\">p = 0.05</text>\r\n",
       "</g>\r\n",
       "<!-- s1&#45;a1&#45;&gt;s1 -->\r\n",
       "<g id=\"edge11\" class=\"edge\"><title>s1&#45;a1&#45;&gt;s1</title>\r\n",
       "<path fill=\"none\" stroke=\"blue\" stroke-dasharray=\"5,2\" d=\"M1170.7,-196.027C1149.66,-192.42 1119.81,-186.238 1094.82,-177 1088.83,-174.789 1082.76,-172.264 1076.72,-169.551\"/>\r\n",
       "<polygon fill=\"blue\" stroke=\"blue\" points=\"1077.83,-166.206 1067.29,-165.151 1074.87,-172.55 1077.83,-166.206\"/>\r\n",
       "<text text-anchor=\"middle\" x=\"1123.82\" y=\"-198.2\" font-family=\"Arial\" font-size=\"16.00\">p = 0.95</text>\r\n",
       "</g>\r\n",
       "<!-- s2&#45;a0&#45;&gt;s0 -->\r\n",
       "<g id=\"edge14\" class=\"edge\"><title>s2&#45;a0&#45;&gt;s0</title>\r\n",
       "<path fill=\"none\" stroke=\"blue\" stroke-dasharray=\"5,2\" d=\"M778.534,-170.887C742.505,-156.837 673.359,-132.11 611.825,-123 453.704,-99.589 266.44,-110.335 160.524,-119.914\"/>\r\n",
       "<polygon fill=\"blue\" stroke=\"blue\" points=\"160.167,-116.432 150.531,-120.837 160.81,-123.403 160.167,-116.432\"/>\r\n",
       "<text text-anchor=\"middle\" x=\"375.99\" y=\"-116.2\" font-family=\"Arial\" font-size=\"16.00\">p = 0.4</text>\r\n",
       "</g>\r\n",
       "<!-- s2&#45;a0&#45;&gt;s2 -->\r\n",
       "<g id=\"edge15\" class=\"edge\"><title>s2&#45;a0&#45;&gt;s2</title>\r\n",
       "<path fill=\"none\" stroke=\"blue\" stroke-dasharray=\"5,2\" d=\"M777.035,-177.475C742.847,-173.569 681.481,-168.826 629.825,-177 625.702,-177.653 621.512,-178.459 617.306,-179.384\"/>\r\n",
       "<polygon fill=\"blue\" stroke=\"blue\" points=\"616.397,-176.003 607.491,-181.741 618.032,-182.81 616.397,-176.003\"/>\r\n",
       "<text text-anchor=\"middle\" x=\"694.325\" y=\"-182.2\" font-family=\"Arial\" font-size=\"16.00\">p = 0.6</text>\r\n",
       "</g>\r\n",
       "<!-- s2&#45;a1&#45;&gt;s0 -->\r\n",
       "<g id=\"edge17\" class=\"edge\"><title>s2&#45;a1&#45;&gt;s0</title>\r\n",
       "<path fill=\"none\" stroke=\"blue\" stroke-dasharray=\"5,2\" d=\"M780.016,-94.3424C773.372,-91.055 765.99,-87.9367 758.825,-86 565.595,-33.768 508.315,-45.668 308.99,-64 245.903,-69.8022 229.519,-71.8005 168.836,-90 163.956,-91.4633 158.986,-93.1014 154.008,-94.8551\"/>\r\n",
       "<polygon fill=\"blue\" stroke=\"blue\" points=\"152.637,-91.63 144.45,-98.3549 155.043,-98.2033 152.637,-91.63\"/>\r\n",
       "<text text-anchor=\"middle\" x=\"375.99\" y=\"-69.2\" font-family=\"Arial\" font-size=\"16.00\">p = 0.3 &#160;reward =&#45;1</text>\r\n",
       "</g>\r\n",
       "<!-- s2&#45;a1&#45;&gt;s2 -->\r\n",
       "<g id=\"edge19\" class=\"edge\"><title>s2&#45;a1&#45;&gt;s2</title>\r\n",
       "<path fill=\"none\" stroke=\"blue\" stroke-dasharray=\"5,2\" d=\"M777.611,-100.281C742.455,-91.2374 678.321,-80.0795 629.825,-102 612.835,-109.68 597.722,-122.199 584.89,-135.962\"/>\r\n",
       "<polygon fill=\"blue\" stroke=\"blue\" points=\"582.027,-133.915 577.998,-143.714 587.258,-138.566 582.027,-133.915\"/>\r\n",
       "<text text-anchor=\"middle\" x=\"694.325\" y=\"-107.2\" font-family=\"Arial\" font-size=\"16.00\">p = 0.4</text>\r\n",
       "</g>\r\n",
       "<!-- s2&#45;a1&#45;&gt;s1 -->\r\n",
       "<g id=\"edge18\" class=\"edge\"><title>s2&#45;a1&#45;&gt;s1</title>\r\n",
       "<path fill=\"none\" stroke=\"blue\" stroke-dasharray=\"5,2\" d=\"M832.107,-110.739C853.848,-112.969 885.779,-116.244 916,-119.344\"/>\r\n",
       "<polygon fill=\"blue\" stroke=\"blue\" points=\"915.861,-122.848 926.166,-120.386 916.575,-115.884 915.861,-122.848\"/>\r\n",
       "<text text-anchor=\"middle\" x=\"878.98\" y=\"-124.2\" font-family=\"Arial\" font-size=\"16.00\">p = 0.3</text>\r\n",
       "</g>\r\n",
       "</g>\r\n",
       "</svg>\r\n"
      ],
      "text/plain": [
       "<graphviz.dot.Digraph at 0x2b2d10004e0>"
      ]
     },
     "metadata": {},
     "output_type": "display_data"
    }
   ],
   "source": [
    "if has_graphviz:\n",
    "    try:\n",
    "        display(plot_graph_optimal_strategy_and_state_values(mdp, state_values))\n",
    "    except ImportError:\n",
    "        raise ImportError(\"Run the cell that starts with \\\"%%writefile mdp_get_action_value.py\\\"\")"
   ]
  },
  {
   "cell_type": "code",
   "execution_count": 18,
   "metadata": {},
   "outputs": [
    {
     "name": "stdout",
     "output_type": "stream",
     "text": [
      "average reward:  0.4917\n"
     ]
    }
   ],
   "source": [
    "# Measure agent's average reward\n",
    "\n",
    "s = mdp.reset()\n",
    "rewards = []\n",
    "for _ in range(10000):\n",
    "    s, r, done, _ = mdp.step(get_optimal_action(mdp, state_values, s, gamma))\n",
    "    rewards.append(r)\n",
    "\n",
    "print(\"average reward: \", np.mean(rewards))\n",
    "\n",
    "assert(0.40 < np.mean(rewards) < 0.55)"
   ]
  },
  {
   "cell_type": "markdown",
   "metadata": {},
   "source": [
    "### Frozen lake"
   ]
  },
  {
   "cell_type": "code",
   "execution_count": 20,
   "metadata": {},
   "outputs": [
    {
     "name": "stdout",
     "output_type": "stream",
     "text": [
      "*FFF\n",
      "FHFH\n",
      "FFFH\n",
      "HFFG\n",
      "\n"
     ]
    }
   ],
   "source": [
    "from mdp import FrozenLakeEnv\n",
    "mdp = FrozenLakeEnv(slip_chance=0)\n",
    "\n",
    "mdp.render()"
   ]
  },
  {
   "cell_type": "code",
   "execution_count": 21,
   "metadata": {},
   "outputs": [],
   "source": [
    "def value_iteration(mdp, state_values=None, gamma=0.9, num_iter=1000, min_difference=1e-5):\n",
    "    \"\"\" performs num_iter value iteration steps starting from state_values. Same as before but in a function \"\"\"\n",
    "    state_values = state_values or {s: 0 for s in mdp.get_all_states()}\n",
    "    for i in range(num_iter):\n",
    "\n",
    "        # Compute new state values using the functions you defined above. It must be a dict {state : new_V(state)}\n",
    "        new_state_values = {state:get_new_state_value(mdp, state_values, state, gamma) for state, values in state_values.items()}\n",
    "\n",
    "        assert isinstance(new_state_values, dict)\n",
    "\n",
    "        # Compute difference\n",
    "        diff = max(abs(new_state_values[s] - state_values[s])\n",
    "                   for s in mdp.get_all_states())\n",
    "\n",
    "        print(\"iter %4i   |   diff: %6.5f   |   V(start): %.3f \" %\n",
    "              (i, diff, new_state_values[mdp._initial_state]))\n",
    "\n",
    "        state_values = new_state_values\n",
    "        if diff < min_difference:\n",
    "            break\n",
    "\n",
    "    return state_values"
   ]
  },
  {
   "cell_type": "code",
   "execution_count": 22,
   "metadata": {},
   "outputs": [
    {
     "name": "stdout",
     "output_type": "stream",
     "text": [
      "iter    0   |   diff: 1.00000   |   V(start): 0.000 \n",
      "iter    1   |   diff: 0.90000   |   V(start): 0.000 \n",
      "iter    2   |   diff: 0.81000   |   V(start): 0.000 \n",
      "iter    3   |   diff: 0.72900   |   V(start): 0.000 \n",
      "iter    4   |   diff: 0.65610   |   V(start): 0.000 \n",
      "iter    5   |   diff: 0.59049   |   V(start): 0.590 \n",
      "iter    6   |   diff: 0.00000   |   V(start): 0.590 \n"
     ]
    }
   ],
   "source": [
    "state_values = value_iteration(mdp)"
   ]
  },
  {
   "cell_type": "code",
   "execution_count": 23,
   "metadata": {},
   "outputs": [
    {
     "name": "stdout",
     "output_type": "stream",
     "text": [
      "*FFF\n",
      "FHFH\n",
      "FFFH\n",
      "HFFG\n",
      "\n",
      "down\n",
      "\n",
      "SFFF\n",
      "*HFH\n",
      "FFFH\n",
      "HFFG\n",
      "\n",
      "down\n",
      "\n",
      "SFFF\n",
      "FHFH\n",
      "*FFH\n",
      "HFFG\n",
      "\n",
      "right\n",
      "\n",
      "SFFF\n",
      "FHFH\n",
      "F*FH\n",
      "HFFG\n",
      "\n",
      "down\n",
      "\n",
      "SFFF\n",
      "FHFH\n",
      "FFFH\n",
      "H*FG\n",
      "\n",
      "right\n",
      "\n",
      "SFFF\n",
      "FHFH\n",
      "FFFH\n",
      "HF*G\n",
      "\n",
      "right\n",
      "\n",
      "SFFF\n",
      "FHFH\n",
      "FFFH\n",
      "HFF*\n",
      "\n"
     ]
    }
   ],
   "source": [
    "s = mdp.reset()\n",
    "mdp.render()\n",
    "for t in range(100):\n",
    "    a = get_optimal_action(mdp, state_values, s, gamma)\n",
    "    print(a, end='\\n\\n')\n",
    "    s, r, done, _ = mdp.step(a)\n",
    "    mdp.render()\n",
    "    if done:\n",
    "        break"
   ]
  },
  {
   "cell_type": "markdown",
   "metadata": {},
   "source": [
    "### Let's visualize!\n",
    "\n",
    "It's usually interesting to see what your algorithm actually learned under the hood. To do so, we'll plot state value functions and optimal actions at each VI step."
   ]
  },
  {
   "cell_type": "code",
   "execution_count": 24,
   "metadata": {},
   "outputs": [],
   "source": [
    "import matplotlib.pyplot as plt\n",
    "%matplotlib inline\n",
    "\n",
    "\n",
    "def draw_policy(mdp, state_values):\n",
    "    plt.figure(figsize=(3, 3))\n",
    "    h, w = mdp.desc.shape\n",
    "    states = sorted(mdp.get_all_states())\n",
    "    V = np.array([state_values[s] for s in states])\n",
    "    Pi = {s: get_optimal_action(mdp, state_values, s, gamma) for s in states}\n",
    "    plt.imshow(V.reshape(w, h), cmap='gray', interpolation='none', clim=(0, 1))\n",
    "    ax = plt.gca()\n",
    "    ax.set_xticks(np.arange(h)-.5)\n",
    "    ax.set_yticks(np.arange(w)-.5)\n",
    "    ax.set_xticklabels([])\n",
    "    ax.set_yticklabels([])\n",
    "    Y, X = np.mgrid[0:4, 0:4]\n",
    "    a2uv = {'left': (-1, 0), 'down': (0, -1), 'right': (1, 0), 'up': (-1, 0)}\n",
    "    for y in range(h):\n",
    "        for x in range(w):\n",
    "            plt.text(x, y, str(mdp.desc[y, x].item()),\n",
    "                     color='g', size=12,  verticalalignment='center',\n",
    "                     horizontalalignment='center', fontweight='bold')\n",
    "            a = Pi[y, x]\n",
    "            if a is None:\n",
    "                continue\n",
    "            u, v = a2uv[a]\n",
    "            plt.arrow(x, y, u*.3, -v*.3, color='m',\n",
    "                      head_width=0.1, head_length=0.1)\n",
    "    plt.grid(color='b', lw=2, ls='-')\n",
    "    plt.show()"
   ]
  },
  {
   "cell_type": "code",
   "execution_count": 25,
   "metadata": {},
   "outputs": [
    {
     "name": "stdout",
     "output_type": "stream",
     "text": [
      "after iteration 0\n",
      "iter    0   |   diff: 1.00000   |   V(start): 0.000 \n"
     ]
    },
    {
     "data": {
      "image/png": "[encoded data removed]",
      "text/plain": [
       "<Figure size 216x216 with 1 Axes>"
      ]
     },
     "metadata": {
      "needs_background": "light"
     },
     "output_type": "display_data"
    },
    {
     "name": "stdout",
     "output_type": "stream",
     "text": [
      "after iteration 1\n",
      "iter    0   |   diff: 0.90000   |   V(start): 0.000 \n"
     ]
    },
    {
     "data": {
      "image/png": "[encoded data removed]",
      "text/plain": [
       "<Figure size 216x216 with 1 Axes>"
      ]
     },
     "metadata": {
      "needs_background": "light"
     },
     "output_type": "display_data"
    },
    {
     "name": "stdout",
     "output_type": "stream",
     "text": [
      "after iteration 2\n",
      "iter    0   |   diff: 0.81000   |   V(start): 0.000 \n"
     ]
    },
    {
     "data": {
      "image/png": "[encoded data removed]",
      "text/plain": [
       "<Figure size 216x216 with 1 Axes>"
      ]
     },
     "metadata": {
      "needs_background": "light"
     },
     "output_type": "display_data"
    },
    {
     "name": "stdout",
     "output_type": "stream",
     "text": [
      "after iteration 3\n",
      "iter    0   |   diff: 0.72900   |   V(start): 0.000 \n"
     ]
    },
    {
     "data": {
      "image/png": "[encoded data removed]",
      "text/plain": [
       "<Figure size 216x216 with 1 Axes>"
      ]
     },
     "metadata": {
      "needs_background": "light"
     },
     "output_type": "display_data"
    },
    {
     "name": "stdout",
     "output_type": "stream",
     "text": [
      "after iteration 4\n",
      "iter    0   |   diff: 0.65610   |   V(start): 0.000 \n"
     ]
    },
    {
     "data": {
      "image/png": "[encoded data removed]",
      "text/plain": [
       "<Figure size 216x216 with 1 Axes>"
      ]
     },
     "metadata": {
      "needs_background": "light"
     },
     "output_type": "display_data"
    },
    {
     "name": "stdout",
     "output_type": "stream",
     "text": [
      "after iteration 5\n",
      "iter    0   |   diff: 0.59049   |   V(start): 0.590 \n"
     ]
    },
    {
     "data": {
      "image/png": "[encoded data removed]",
      "text/plain": [
       "<Figure size 216x216 with 1 Axes>"
      ]
     },
     "metadata": {
      "needs_background": "light"
     },
     "output_type": "display_data"
    },
    {
     "name": "stdout",
     "output_type": "stream",
     "text": [
      "after iteration 6\n",
      "iter    0   |   diff: 0.00000   |   V(start): 0.590 \n"
     ]
    },
    {
     "data": {
      "image/png": "[encoded data removed]",
      "text/plain": [
       "<Figure size 216x216 with 1 Axes>"
      ]
     },
     "metadata": {
      "needs_background": "light"
     },
     "output_type": "display_data"
    },
    {
     "name": "stdout",
     "output_type": "stream",
     "text": [
      "after iteration 7\n",
      "iter    0   |   diff: 0.00000   |   V(start): 0.590 \n"
     ]
    },
    {
     "data": {
      "image/png": "[encoded data removed]",
      "text/plain": [
       "<Figure size 216x216 with 1 Axes>"
      ]
     },
     "metadata": {
      "needs_background": "light"
     },
     "output_type": "display_data"
    },
    {
     "name": "stdout",
     "output_type": "stream",
     "text": [
      "after iteration 8\n",
      "iter    0   |   diff: 0.00000   |   V(start): 0.590 \n"
     ]
    },
    {
     "data": {
      "image/png": "[encoded data removed]",
      "text/plain": [
       "<Figure size 216x216 with 1 Axes>"
      ]
     },
     "metadata": {
      "needs_background": "light"
     },
     "output_type": "display_data"
    },
    {
     "name": "stdout",
     "output_type": "stream",
     "text": [
      "after iteration 9\n",
      "iter    0   |   diff: 0.00000   |   V(start): 0.590 \n"
     ]
    },
    {
     "data": {
      "image/png": "[encoded data removed]",
      "text/plain": [
       "<Figure size 216x216 with 1 Axes>"
      ]
     },
     "metadata": {
      "needs_background": "light"
     },
     "output_type": "display_data"
    }
   ],
   "source": [
    "state_values = {s: 0 for s in mdp.get_all_states()}\n",
    "\n",
    "for i in range(10):\n",
    "    print(\"after iteration %i\" % i)\n",
    "    state_values = value_iteration(mdp, state_values, num_iter=1)\n",
    "    draw_policy(mdp, state_values)\n",
    "# please ignore iter 0 at each step"
   ]
  },
  {
   "cell_type": "code",
   "execution_count": 26,
   "metadata": {},
   "outputs": [
    {
     "name": "stdout",
     "output_type": "stream",
     "text": [
      "after iteration 29\n",
      "iter    0   |   diff: 0.00000   |   V(start): 0.198 \n"
     ]
    },
    {
     "data": {
      "image/png": "[encoded data removed]",
      "text/plain": [
       "<Figure size 216x216 with 1 Axes>"
      ]
     },
     "metadata": {
      "needs_background": "light"
     },
     "output_type": "display_data"
    }
   ],
   "source": [
    "from IPython.display import clear_output\n",
    "from time import sleep\n",
    "mdp = FrozenLakeEnv(map_name='8x8', slip_chance=0.1)\n",
    "state_values = {s: 0 for s in mdp.get_all_states()}\n",
    "\n",
    "for i in range(30):\n",
    "    clear_output(True)\n",
    "    print(\"after iteration %i\" % i)\n",
    "    state_values = value_iteration(mdp, state_values, num_iter=1)\n",
    "    draw_policy(mdp, state_values)\n",
    "    sleep(0.5)\n",
    "# please ignore iter 0 at each step"
   ]
  },
  {
   "cell_type": "markdown",
   "metadata": {},
   "source": [
    "Massive tests"
   ]
  },
  {
   "cell_type": "code",
   "execution_count": 27,
   "metadata": {},
   "outputs": [
    {
     "name": "stdout",
     "output_type": "stream",
     "text": [
      "iter    0   |   diff: 1.00000   |   V(start): 0.000 \n",
      "iter    1   |   diff: 0.90000   |   V(start): 0.000 \n",
      "iter    2   |   diff: 0.81000   |   V(start): 0.000 \n",
      "iter    3   |   diff: 0.72900   |   V(start): 0.000 \n",
      "iter    4   |   diff: 0.65610   |   V(start): 0.000 \n",
      "iter    5   |   diff: 0.59049   |   V(start): 0.590 \n",
      "iter    6   |   diff: 0.00000   |   V(start): 0.590 \n",
      "average reward:  1.0\n",
      "Well done!\n"
     ]
    }
   ],
   "source": [
    "mdp = FrozenLakeEnv(slip_chance=0)\n",
    "state_values = value_iteration(mdp)\n",
    "\n",
    "total_rewards = []\n",
    "for game_i in range(1000):\n",
    "    s = mdp.reset()\n",
    "    rewards = []\n",
    "    for t in range(100):\n",
    "        s, r, done, _ = mdp.step(\n",
    "            get_optimal_action(mdp, state_values, s, gamma))\n",
    "        rewards.append(r)\n",
    "        if done:\n",
    "            break\n",
    "    total_rewards.append(np.sum(rewards))\n",
    "\n",
    "print(\"average reward: \", np.mean(total_rewards))\n",
    "assert(1.0 <= np.mean(total_rewards) <= 1.0)\n",
    "print(\"Well done!\")"
   ]
  },
  {
   "cell_type": "code",
   "execution_count": 28,
   "metadata": {},
   "outputs": [
    {
     "name": "stdout",
     "output_type": "stream",
     "text": [
      "iter    0   |   diff: 0.90000   |   V(start): 0.000 \n",
      "iter    1   |   diff: 0.72900   |   V(start): 0.000 \n",
      "iter    2   |   diff: 0.62330   |   V(start): 0.000 \n",
      "iter    3   |   diff: 0.50487   |   V(start): 0.000 \n",
      "iter    4   |   diff: 0.40894   |   V(start): 0.000 \n",
      "iter    5   |   diff: 0.34868   |   V(start): 0.349 \n",
      "iter    6   |   diff: 0.06529   |   V(start): 0.410 \n",
      "iter    7   |   diff: 0.05832   |   V(start): 0.468 \n",
      "iter    8   |   diff: 0.01139   |   V(start): 0.480 \n",
      "iter    9   |   diff: 0.00764   |   V(start): 0.487 \n",
      "iter   10   |   diff: 0.00164   |   V(start): 0.489 \n",
      "iter   11   |   diff: 0.00094   |   V(start): 0.490 \n",
      "iter   12   |   diff: 0.00022   |   V(start): 0.490 \n",
      "iter   13   |   diff: 0.00011   |   V(start): 0.490 \n",
      "iter   14   |   diff: 0.00003   |   V(start): 0.490 \n",
      "iter   15   |   diff: 0.00001   |   V(start): 0.490 \n",
      "iter   16   |   diff: 0.00000   |   V(start): 0.490 \n",
      "average reward:  0.89\n",
      "Well done!\n"
     ]
    }
   ],
   "source": [
    "# Measure agent's average reward\n",
    "mdp = FrozenLakeEnv(slip_chance=0.1)\n",
    "state_values = value_iteration(mdp)\n",
    "\n",
    "total_rewards = []\n",
    "for game_i in range(1000):\n",
    "    s = mdp.reset()\n",
    "    rewards = []\n",
    "    for t in range(100):\n",
    "        s, r, done, _ = mdp.step(\n",
    "            get_optimal_action(mdp, state_values, s, gamma))\n",
    "        rewards.append(r)\n",
    "        if done:\n",
    "            break\n",
    "    total_rewards.append(np.sum(rewards))\n",
    "\n",
    "print(\"average reward: \", np.mean(total_rewards))\n",
    "assert(0.8 <= np.mean(total_rewards) <= 0.95)\n",
    "print(\"Well done!\")"
   ]
  },
  {
   "cell_type": "code",
   "execution_count": 29,
   "metadata": {},
   "outputs": [
    {
     "name": "stdout",
     "output_type": "stream",
     "text": [
      "iter    0   |   diff: 0.75000   |   V(start): 0.000 \n",
      "iter    1   |   diff: 0.50625   |   V(start): 0.000 \n",
      "iter    2   |   diff: 0.39867   |   V(start): 0.000 \n",
      "iter    3   |   diff: 0.26910   |   V(start): 0.000 \n",
      "iter    4   |   diff: 0.18164   |   V(start): 0.000 \n",
      "iter    5   |   diff: 0.14013   |   V(start): 0.140 \n",
      "iter    6   |   diff: 0.07028   |   V(start): 0.199 \n",
      "iter    7   |   diff: 0.06030   |   V(start): 0.260 \n",
      "iter    8   |   diff: 0.02594   |   V(start): 0.285 \n",
      "iter    9   |   diff: 0.01918   |   V(start): 0.305 \n",
      "iter   10   |   diff: 0.00858   |   V(start): 0.313 \n",
      "iter   11   |   diff: 0.00560   |   V(start): 0.319 \n",
      "iter   12   |   diff: 0.00260   |   V(start): 0.321 \n",
      "iter   13   |   diff: 0.00159   |   V(start): 0.323 \n",
      "iter   14   |   diff: 0.00076   |   V(start): 0.324 \n",
      "iter   15   |   diff: 0.00045   |   V(start): 0.324 \n",
      "iter   16   |   diff: 0.00022   |   V(start): 0.324 \n",
      "iter   17   |   diff: 0.00012   |   V(start): 0.325 \n",
      "iter   18   |   diff: 0.00006   |   V(start): 0.325 \n",
      "iter   19   |   diff: 0.00003   |   V(start): 0.325 \n",
      "iter   20   |   diff: 0.00002   |   V(start): 0.325 \n",
      "iter   21   |   diff: 0.00001   |   V(start): 0.325 \n",
      "average reward:  0.632\n",
      "Well done!\n"
     ]
    }
   ],
   "source": [
    "# Measure agent's average reward\n",
    "mdp = FrozenLakeEnv(slip_chance=0.25)\n",
    "state_values = value_iteration(mdp)\n",
    "\n",
    "total_rewards = []\n",
    "for game_i in range(1000):\n",
    "    s = mdp.reset()\n",
    "    rewards = []\n",
    "    for t in range(100):\n",
    "        s, r, done, _ = mdp.step(\n",
    "            get_optimal_action(mdp, state_values, s, gamma))\n",
    "        rewards.append(r)\n",
    "        if done:\n",
    "            break\n",
    "    total_rewards.append(np.sum(rewards))\n",
    "\n",
    "print(\"average reward: \", np.mean(total_rewards))\n",
    "assert(0.6 <= np.mean(total_rewards) <= 0.7)\n",
    "print(\"Well done!\")"
   ]
  },
  {
   "cell_type": "code",
   "execution_count": 30,
   "metadata": {},
   "outputs": [
    {
     "name": "stdout",
     "output_type": "stream",
     "text": [
      "iter    0   |   diff: 0.80000   |   V(start): 0.000 \n",
      "iter    1   |   diff: 0.57600   |   V(start): 0.000 \n",
      "iter    2   |   diff: 0.41472   |   V(start): 0.000 \n",
      "iter    3   |   diff: 0.29860   |   V(start): 0.000 \n",
      "iter    4   |   diff: 0.24186   |   V(start): 0.000 \n",
      "iter    5   |   diff: 0.19349   |   V(start): 0.000 \n",
      "iter    6   |   diff: 0.15325   |   V(start): 0.000 \n",
      "iter    7   |   diff: 0.12288   |   V(start): 0.000 \n",
      "iter    8   |   diff: 0.09930   |   V(start): 0.000 \n",
      "iter    9   |   diff: 0.08037   |   V(start): 0.000 \n",
      "iter   10   |   diff: 0.06426   |   V(start): 0.000 \n",
      "iter   11   |   diff: 0.05129   |   V(start): 0.000 \n",
      "iter   12   |   diff: 0.04330   |   V(start): 0.000 \n",
      "iter   13   |   diff: 0.03802   |   V(start): 0.033 \n",
      "iter   14   |   diff: 0.03332   |   V(start): 0.058 \n",
      "iter   15   |   diff: 0.02910   |   V(start): 0.087 \n",
      "iter   16   |   diff: 0.01855   |   V(start): 0.106 \n",
      "iter   17   |   diff: 0.01403   |   V(start): 0.120 \n",
      "iter   18   |   diff: 0.00810   |   V(start): 0.128 \n",
      "iter   19   |   diff: 0.00555   |   V(start): 0.133 \n",
      "iter   20   |   diff: 0.00321   |   V(start): 0.137 \n",
      "iter   21   |   diff: 0.00247   |   V(start): 0.138 \n",
      "iter   22   |   diff: 0.00147   |   V(start): 0.139 \n",
      "iter   23   |   diff: 0.00104   |   V(start): 0.140 \n",
      "iter   24   |   diff: 0.00058   |   V(start): 0.140 \n",
      "iter   25   |   diff: 0.00036   |   V(start): 0.141 \n",
      "iter   26   |   diff: 0.00024   |   V(start): 0.141 \n",
      "iter   27   |   diff: 0.00018   |   V(start): 0.141 \n",
      "iter   28   |   diff: 0.00012   |   V(start): 0.141 \n",
      "iter   29   |   diff: 0.00007   |   V(start): 0.141 \n",
      "iter   30   |   diff: 0.00004   |   V(start): 0.141 \n",
      "iter   31   |   diff: 0.00003   |   V(start): 0.141 \n",
      "iter   32   |   diff: 0.00001   |   V(start): 0.141 \n",
      "iter   33   |   diff: 0.00001   |   V(start): 0.141 \n",
      "average reward:  0.744\n",
      "Well done!\n"
     ]
    }
   ],
   "source": [
    "# Measure agent's average reward\n",
    "mdp = FrozenLakeEnv(slip_chance=0.2, map_name='8x8')\n",
    "state_values = value_iteration(mdp)\n",
    "\n",
    "total_rewards = []\n",
    "for game_i in range(1000):\n",
    "    s = mdp.reset()\n",
    "    rewards = []\n",
    "    for t in range(100):\n",
    "        s, r, done, _ = mdp.step(\n",
    "            get_optimal_action(mdp, state_values, s, gamma))\n",
    "        rewards.append(r)\n",
    "        if done:\n",
    "            break\n",
    "    total_rewards.append(np.sum(rewards))\n",
    "\n",
    "print(\"average reward: \", np.mean(total_rewards))\n",
    "assert(0.6 <= np.mean(total_rewards) <= 0.8)\n",
    "print(\"Well done!\")"
   ]
  },
  {
   "cell_type": "markdown",
   "metadata": {},
   "source": [
    "### Submit to coursera\n",
    "\n",
    "If your submission doesn't finish in 30 seconds, set `verbose=True` and try again."
   ]
  },
  {
   "cell_type": "code",
   "execution_count": null,
   "metadata": {},
   "outputs": [],
   "source": [
    "from submit import submit_assigment\n",
    "submit_assigment(\n",
    "    get_action_value, \n",
    "    get_new_state_value, \n",
    "    get_optimal_action, \n",
    "    value_iteration, \n",
    "    <EMAIL>, \n",
    "    <TOKEN>,\n",
    "    verbose=False,\n",
    ")"
   ]
  }
 ],
 "metadata": {
  "kernelspec": {
   "display_name": "Python 3",
   "language": "python",
   "name": "python3"
  },
  "language_info": {
   "codemirror_mode": {
    "name": "ipython",
    "version": 3
   },
   "file_extension": ".py",
   "mimetype": "text/x-python",
   "name": "python",
   "nbconvert_exporter": "python",
   "pygments_lexer": "ipython3",
   "version": "3.6.5"
  }
 },
 "nbformat": 4,
 "nbformat_minor": 2
}
