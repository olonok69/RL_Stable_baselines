{
  "nbformat": 4,
  "nbformat_minor": 0,
  "metadata": {
    "colab": {
      "name": "1_getting_started.ipynb",
      "provenance": [],
      "collapsed_sections": [],
      "include_colab_link": true
    },
    "kernelspec": {
      "name": "python3",
      "display_name": "Python 3"
    },
    "accelerator": "GPU"
  },
  "cells": [
    {
      "cell_type": "markdown",
      "metadata": {
        "id": "view-in-github",
        "colab_type": "text"
      },
      "source": [
        "<a href=\"https://colab.research.google.com/github/olonok69/RL_Stable_baselines/blob/main/1_getting_started.ipynb\" target=\"_parent\"><img src=\"https://colab.research.google.com/assets/colab-badge.svg\" alt=\"Open In Colab\"/></a>"
      ]
    },
    {
      "cell_type": "markdown",
      "metadata": {
        "id": "hyyN-2qyK_T2"
      },
      "source": [
        "# Stable Baselines3 Tutorial - Getting Started\n",
        "\n",
        "Github repo: https://github.com/araffin/rl-tutorial-jnrr19/tree/sb3/\n",
        "\n",
        "Stable-Baselines3: https://github.com/DLR-RM/stable-baselines3\n",
        "\n",
        "Documentation: https://stable-baselines3.readthedocs.io/en/master/\n",
        "\n",
        "RL Baselines3 zoo: https://github.com/DLR-RM/rl-baselines3-zoo\n",
        "\n",
        "[RL Baselines3 Zoo](https://github.com/DLR-RM/rl-baselines3-zoo) is a collection of pre-trained Reinforcement Learning agents using Stable-Baselines3.\n",
        "\n",
        "It also provides basic scripts for training, evaluating agents, tuning hyperparameters and recording videos.\n",
        "\n",
        "\n",
        "## Introduction\n",
        "\n",
        "In this notebook, you will learn the basics for using stable baselines library: how to create a RL model, train it and evaluate it. Because all algorithms share the same interface, we will see how simple it is to switch from one algorithm to another.\n",
        "\n",
        "\n",
        "## Install Dependencies and Stable Baselines3 Using Pip\n",
        "\n",
        "List of full dependencies can be found in the [README](https://github.com/DLR-RM/stable-baselines3).\n",
        "\n",
        "\n",
        "```\n",
        "pip install stable-baselines3[extra]\n",
        "```"
      ]
    },
    {
      "cell_type": "code",
      "metadata": {
        "id": "gWskDE2c9WoN",
        "colab": {
          "base_uri": "https://localhost:8080/"
        },
        "outputId": "a5d4ca69-666b-4de3-8af0-b9308fc4d8c2"
      },
      "source": [
        "!apt-get install ffmpeg freeglut3-dev xvfb  # For visualization\n",
        "!pip install stable-baselines3[extra]"
      ],
      "execution_count": 1,
      "outputs": [
        {
          "output_type": "stream",
          "text": [
            "Reading package lists... Done\n",
            "Building dependency tree       \n",
            "Reading state information... Done\n",
            "freeglut3-dev is already the newest version (2.8.1-3).\n",
            "freeglut3-dev set to manually installed.\n",
            "ffmpeg is already the newest version (7:3.4.8-0ubuntu0.2).\n",
            "The following NEW packages will be installed:\n",
            "  xvfb\n",
            "0 upgraded, 1 newly installed, 0 to remove and 13 not upgraded.\n",
            "Need to get 784 kB of archives.\n",
            "After this operation, 2,270 kB of additional disk space will be used.\n",
            "Get:1 http://archive.ubuntu.com/ubuntu bionic-updates/universe amd64 xvfb amd64 2:1.19.6-1ubuntu4.8 [784 kB]\n",
            "Fetched 784 kB in 1s (832 kB/s)\n",
            "Selecting previously unselected package xvfb.\n",
            "(Reading database ... 146374 files and directories currently installed.)\n",
            "Preparing to unpack .../xvfb_2%3a1.19.6-1ubuntu4.8_amd64.deb ...\n",
            "Unpacking xvfb (2:1.19.6-1ubuntu4.8) ...\n",
            "Setting up xvfb (2:1.19.6-1ubuntu4.8) ...\n",
            "Processing triggers for man-db (2.8.3-2ubuntu0.1) ...\n",
            "Collecting stable-baselines3[extra]\n",
            "\u001b[?25l  Downloading https://files.pythonhosted.org/packages/76/7c/ec89fd9a51c2ff640f150479069be817136c02f02349b5dd27a6e3bb8b3d/stable_baselines3-0.10.0-py3-none-any.whl (145kB)\n",
            "\u001b[K     |████████████████████████████████| 153kB 6.4MB/s \n",
            "\u001b[?25hRequirement already satisfied: matplotlib in /usr/local/lib/python3.6/dist-packages (from stable-baselines3[extra]) (3.2.2)\n",
            "Requirement already satisfied: torch>=1.4.0 in /usr/local/lib/python3.6/dist-packages (from stable-baselines3[extra]) (1.7.0+cu101)\n",
            "Requirement already satisfied: numpy in /usr/local/lib/python3.6/dist-packages (from stable-baselines3[extra]) (1.19.5)\n",
            "Requirement already satisfied: cloudpickle in /usr/local/lib/python3.6/dist-packages (from stable-baselines3[extra]) (1.3.0)\n",
            "Requirement already satisfied: gym>=0.17 in /usr/local/lib/python3.6/dist-packages (from stable-baselines3[extra]) (0.17.3)\n",
            "Requirement already satisfied: pandas in /usr/local/lib/python3.6/dist-packages (from stable-baselines3[extra]) (1.1.5)\n",
            "Requirement already satisfied: tensorboard; extra == \"extra\" in /usr/local/lib/python3.6/dist-packages (from stable-baselines3[extra]) (2.4.0)\n",
            "Requirement already satisfied: atari-py~=0.2.0; extra == \"extra\" in /usr/local/lib/python3.6/dist-packages (from stable-baselines3[extra]) (0.2.6)\n",
            "Requirement already satisfied: pillow; extra == \"extra\" in /usr/local/lib/python3.6/dist-packages (from stable-baselines3[extra]) (7.0.0)\n",
            "Requirement already satisfied: psutil; extra == \"extra\" in /usr/local/lib/python3.6/dist-packages (from stable-baselines3[extra]) (5.4.8)\n",
            "Requirement already satisfied: opencv-python; extra == \"extra\" in /usr/local/lib/python3.6/dist-packages (from stable-baselines3[extra]) (4.1.2.30)\n",
            "Requirement already satisfied: python-dateutil>=2.1 in /usr/local/lib/python3.6/dist-packages (from matplotlib->stable-baselines3[extra]) (2.8.1)\n",
            "Requirement already satisfied: cycler>=0.10 in /usr/local/lib/python3.6/dist-packages (from matplotlib->stable-baselines3[extra]) (0.10.0)\n",
            "Requirement already satisfied: kiwisolver>=1.0.1 in /usr/local/lib/python3.6/dist-packages (from matplotlib->stable-baselines3[extra]) (1.3.1)\n",
            "Requirement already satisfied: pyparsing!=2.0.4,!=2.1.2,!=2.1.6,>=2.0.1 in /usr/local/lib/python3.6/dist-packages (from matplotlib->stable-baselines3[extra]) (2.4.7)\n",
            "Requirement already satisfied: dataclasses in /usr/local/lib/python3.6/dist-packages (from torch>=1.4.0->stable-baselines3[extra]) (0.8)\n",
            "Requirement already satisfied: future in /usr/local/lib/python3.6/dist-packages (from torch>=1.4.0->stable-baselines3[extra]) (0.16.0)\n",
            "Requirement already satisfied: typing-extensions in /usr/local/lib/python3.6/dist-packages (from torch>=1.4.0->stable-baselines3[extra]) (3.7.4.3)\n",
            "Requirement already satisfied: pyglet<=1.5.0,>=1.4.0 in /usr/local/lib/python3.6/dist-packages (from gym>=0.17->stable-baselines3[extra]) (1.5.0)\n",
            "Requirement already satisfied: scipy in /usr/local/lib/python3.6/dist-packages (from gym>=0.17->stable-baselines3[extra]) (1.4.1)\n",
            "Requirement already satisfied: pytz>=2017.2 in /usr/local/lib/python3.6/dist-packages (from pandas->stable-baselines3[extra]) (2018.9)\n",
            "Requirement already satisfied: werkzeug>=0.11.15 in /usr/local/lib/python3.6/dist-packages (from tensorboard; extra == \"extra\"->stable-baselines3[extra]) (1.0.1)\n",
            "Requirement already satisfied: protobuf>=3.6.0 in /usr/local/lib/python3.6/dist-packages (from tensorboard; extra == \"extra\"->stable-baselines3[extra]) (3.12.4)\n",
            "Requirement already satisfied: requests<3,>=2.21.0 in /usr/local/lib/python3.6/dist-packages (from tensorboard; extra == \"extra\"->stable-baselines3[extra]) (2.23.0)\n",
            "Requirement already satisfied: google-auth<2,>=1.6.3 in /usr/local/lib/python3.6/dist-packages (from tensorboard; extra == \"extra\"->stable-baselines3[extra]) (1.17.2)\n",
            "Requirement already satisfied: grpcio>=1.24.3 in /usr/local/lib/python3.6/dist-packages (from tensorboard; extra == \"extra\"->stable-baselines3[extra]) (1.32.0)\n",
            "Requirement already satisfied: tensorboard-plugin-wit>=1.6.0 in /usr/local/lib/python3.6/dist-packages (from tensorboard; extra == \"extra\"->stable-baselines3[extra]) (1.7.0)\n",
            "Requirement already satisfied: six>=1.10.0 in /usr/local/lib/python3.6/dist-packages (from tensorboard; extra == \"extra\"->stable-baselines3[extra]) (1.15.0)\n",
            "Requirement already satisfied: markdown>=2.6.8 in /usr/local/lib/python3.6/dist-packages (from tensorboard; extra == \"extra\"->stable-baselines3[extra]) (3.3.3)\n",
            "Requirement already satisfied: absl-py>=0.4 in /usr/local/lib/python3.6/dist-packages (from tensorboard; extra == \"extra\"->stable-baselines3[extra]) (0.10.0)\n",
            "Requirement already satisfied: google-auth-oauthlib<0.5,>=0.4.1 in /usr/local/lib/python3.6/dist-packages (from tensorboard; extra == \"extra\"->stable-baselines3[extra]) (0.4.2)\n",
            "Requirement already satisfied: wheel>=0.26; python_version >= \"3\" in /usr/local/lib/python3.6/dist-packages (from tensorboard; extra == \"extra\"->stable-baselines3[extra]) (0.36.2)\n",
            "Requirement already satisfied: setuptools>=41.0.0 in /usr/local/lib/python3.6/dist-packages (from tensorboard; extra == \"extra\"->stable-baselines3[extra]) (51.3.3)\n",
            "Requirement already satisfied: urllib3!=1.25.0,!=1.25.1,<1.26,>=1.21.1 in /usr/local/lib/python3.6/dist-packages (from requests<3,>=2.21.0->tensorboard; extra == \"extra\"->stable-baselines3[extra]) (1.24.3)\n",
            "Requirement already satisfied: certifi>=2017.4.17 in /usr/local/lib/python3.6/dist-packages (from requests<3,>=2.21.0->tensorboard; extra == \"extra\"->stable-baselines3[extra]) (2020.12.5)\n",
            "Requirement already satisfied: chardet<4,>=3.0.2 in /usr/local/lib/python3.6/dist-packages (from requests<3,>=2.21.0->tensorboard; extra == \"extra\"->stable-baselines3[extra]) (3.0.4)\n",
            "Requirement already satisfied: idna<3,>=2.5 in /usr/local/lib/python3.6/dist-packages (from requests<3,>=2.21.0->tensorboard; extra == \"extra\"->stable-baselines3[extra]) (2.10)\n",
            "Requirement already satisfied: rsa<5,>=3.1.4; python_version >= \"3\" in /usr/local/lib/python3.6/dist-packages (from google-auth<2,>=1.6.3->tensorboard; extra == \"extra\"->stable-baselines3[extra]) (4.6)\n",
            "Requirement already satisfied: cachetools<5.0,>=2.0.0 in /usr/local/lib/python3.6/dist-packages (from google-auth<2,>=1.6.3->tensorboard; extra == \"extra\"->stable-baselines3[extra]) (4.2.0)\n",
            "Requirement already satisfied: pyasn1-modules>=0.2.1 in /usr/local/lib/python3.6/dist-packages (from google-auth<2,>=1.6.3->tensorboard; extra == \"extra\"->stable-baselines3[extra]) (0.2.8)\n",
            "Requirement already satisfied: importlib-metadata; python_version < \"3.8\" in /usr/local/lib/python3.6/dist-packages (from markdown>=2.6.8->tensorboard; extra == \"extra\"->stable-baselines3[extra]) (3.3.0)\n",
            "Requirement already satisfied: requests-oauthlib>=0.7.0 in /usr/local/lib/python3.6/dist-packages (from google-auth-oauthlib<0.5,>=0.4.1->tensorboard; extra == \"extra\"->stable-baselines3[extra]) (1.3.0)\n",
            "Requirement already satisfied: pyasn1>=0.1.3 in /usr/local/lib/python3.6/dist-packages (from rsa<5,>=3.1.4; python_version >= \"3\"->google-auth<2,>=1.6.3->tensorboard; extra == \"extra\"->stable-baselines3[extra]) (0.4.8)\n",
            "Requirement already satisfied: zipp>=0.5 in /usr/local/lib/python3.6/dist-packages (from importlib-metadata; python_version < \"3.8\"->markdown>=2.6.8->tensorboard; extra == \"extra\"->stable-baselines3[extra]) (3.4.0)\n",
            "Requirement already satisfied: oauthlib>=3.0.0 in /usr/local/lib/python3.6/dist-packages (from requests-oauthlib>=0.7.0->google-auth-oauthlib<0.5,>=0.4.1->tensorboard; extra == \"extra\"->stable-baselines3[extra]) (3.1.0)\n",
            "Installing collected packages: stable-baselines3\n",
            "Successfully installed stable-baselines3-0.10.0\n"
          ],
          "name": "stdout"
        }
      ]
    },
    {
      "cell_type": "markdown",
      "metadata": {
        "id": "FtY8FhliLsGm"
      },
      "source": [
        "## Imports"
      ]
    },
    {
      "cell_type": "markdown",
      "metadata": {
        "id": "gcX8hEcaUpR0"
      },
      "source": [
        "Stable-Baselines3 works on environments that follow the [gym interface](https://stable-baselines3.readthedocs.io/en/master/guide/custom_env.html).\n",
        "You can find a list of available environment [here](https://gym.openai.com/envs/#classic_control).\n",
        "\n",
        "It is also recommended to check the [source code](https://github.com/openai/gym) to learn more about the observation and action space of each env, as gym does not have a proper documentation.\n",
        "Not all algorithms can work with all action spaces, you can find more in this [recap table](https://stable-baselines3.readthedocs.io/en/master/guide/algos.html)"
      ]
    },
    {
      "cell_type": "code",
      "metadata": {
        "id": "BIedd7Pz9sOs"
      },
      "source": [
        "import gym\n",
        "import numpy as np"
      ],
      "execution_count": 2,
      "outputs": []
    },
    {
      "cell_type": "markdown",
      "metadata": {
        "id": "Ae32CtgzTG3R"
      },
      "source": [
        "The first thing you need to import is the RL model, check the documentation to know what you can use on which problem"
      ]
    },
    {
      "cell_type": "code",
      "metadata": {
        "id": "R7tKaBFrTR0a"
      },
      "source": [
        "from stable_baselines3 import PPO"
      ],
      "execution_count": 3,
      "outputs": []
    },
    {
      "cell_type": "markdown",
      "metadata": {
        "id": "-0_8OQbOTTNT"
      },
      "source": [
        "The next thing you need to import is the policy class that will be used to create the networks (for the policy/value functions).\n",
        "This step is optional as you can directly use strings in the constructor: \n",
        "\n",
        "```PPO('MlpPolicy', env)``` instead of ```PPO(MlpPolicy, env)```\n",
        "\n",
        "Note that some algorithms like `SAC` have their own `MlpPolicy`, that's why using string for the policy is the recommened option."
      ]
    },
    {
      "cell_type": "code",
      "metadata": {
        "id": "ROUJr675TT01"
      },
      "source": [
        "from stable_baselines3.ppo.policies import MlpPolicy"
      ],
      "execution_count": 4,
      "outputs": []
    },
    {
      "cell_type": "markdown",
      "metadata": {
        "id": "RapkYvTXL7Cd"
      },
      "source": [
        "## Create the Gym env and instantiate the agent\n",
        "\n",
        "For this example, we will use CartPole environment, a classic control problem.\n",
        "\n",
        "\"A pole is attached by an un-actuated joint to a cart, which moves along a frictionless track. The system is controlled by applying a force of +1 or -1 to the cart. The pendulum starts upright, and the goal is to prevent it from falling over. A reward of +1 is provided for every timestep that the pole remains upright. \"\n",
        "\n",
        "Cartpole environment: [https://gym.openai.com/envs/CartPole-v1/](https://gym.openai.com/envs/CartPole-v1/)\n",
        "\n",
        "![Cartpole](https://cdn-images-1.medium.com/max/1143/1*h4WTQNVIsvMXJTCpXm_TAw.gif)\n",
        "\n",
        "\n",
        "We chose the MlpPolicy because the observation of the CartPole task is a feature vector, not images.\n",
        "\n",
        "The type of action to use (discrete/continuous) will be automatically deduced from the environment action space\n",
        "\n",
        "Here we are using the [Proximal Policy Optimization](https://stable-baselines3.readthedocs.io/en/master/modules/ppo2.html) algorithm, which is an Actor-Critic method: it uses a value function to improve the policy gradient descent (by reducing the variance).\n",
        "\n",
        "It combines ideas from [A2C](https://stable-baselines3.readthedocs.io/en/master/modules/a2c.html) (having multiple workers and using an entropy bonus for exploration) and [TRPO](https://stable-baselines.readthedocs.io/en/master/modules/trpo.html) (it uses a trust region to improve stability and avoid catastrophic drops in performance).\n",
        "\n",
        "PPO is an on-policy algorithm, which means that the trajectories used to update the networks must be collected using the latest policy.\n",
        "It is usually less sample efficient than off-policy alorithms like [DQN](https://stable-baselines.readthedocs.io/en/master/modules/dqn.html), [SAC](https://stable-baselines3.readthedocs.io/en/master/modules/sac.html) or [TD3](https://stable-baselines3.readthedocs.io/en/master/modules/td3.html), but is much faster regarding wall-clock time.\n"
      ]
    },
    {
      "cell_type": "code",
      "metadata": {
        "id": "pUWGZp3i9wyf"
      },
      "source": [
        "env = gym.make('CartPole-v1')\n",
        "\n",
        "model = PPO(MlpPolicy, env, verbose=0)"
      ],
      "execution_count": 5,
      "outputs": []
    },
    {
      "cell_type": "markdown",
      "metadata": {
        "id": "4efFdrQ7MBvl"
      },
      "source": [
        "We create a helper function to evaluate the agent:"
      ]
    },
    {
      "cell_type": "code",
      "metadata": {
        "id": "63M8mSKR-6Zt"
      },
      "source": [
        "def evaluate(model, num_episodes=100):\n",
        "    \"\"\"\n",
        "    Evaluate a RL agent\n",
        "    :param model: (BaseRLModel object) the RL Agent\n",
        "    :param num_episodes: (int) number of episodes to evaluate it\n",
        "    :return: (float) Mean reward for the last num_episodes\n",
        "    \"\"\"\n",
        "    # This function will only work for a single Environment\n",
        "    env = model.get_env()\n",
        "    all_episode_rewards = []\n",
        "    for i in range(num_episodes):\n",
        "        episode_rewards = []\n",
        "        done = False\n",
        "        obs = env.reset()\n",
        "        while not done:\n",
        "            # _states are only useful when using LSTM policies\n",
        "            action, _states = model.predict(obs)\n",
        "            # here, action, rewards and dones are arrays\n",
        "            # because we are using vectorized env\n",
        "            obs, reward, done, info = env.step(action)\n",
        "            episode_rewards.append(reward)\n",
        "\n",
        "        all_episode_rewards.append(sum(episode_rewards))\n",
        "\n",
        "    mean_episode_reward = np.mean(all_episode_rewards)\n",
        "    print(\"Mean reward:\", mean_episode_reward, \"Num episodes:\", num_episodes)\n",
        "\n",
        "    return mean_episode_reward"
      ],
      "execution_count": 6,
      "outputs": []
    },
    {
      "cell_type": "markdown",
      "metadata": {
        "id": "zjEVOIY8NVeK"
      },
      "source": [
        "Let's evaluate the un-trained agent, this should be a random agent."
      ]
    },
    {
      "cell_type": "code",
      "metadata": {
        "id": "xDHLMA6NFk95",
        "colab": {
          "base_uri": "https://localhost:8080/"
        },
        "outputId": "bdb57e35-72a7-4d5f-a637-29b63a14a1ea"
      },
      "source": [
        "# Random Agent, before training\n",
        "mean_reward_before_train = evaluate(model, num_episodes=100)"
      ],
      "execution_count": 7,
      "outputs": [
        {
          "output_type": "stream",
          "text": [
            "Mean reward: 24.27 Num episodes: 100\n"
          ],
          "name": "stdout"
        }
      ]
    },
    {
      "cell_type": "markdown",
      "metadata": {
        "id": "QjjPxrwkYJ2i"
      },
      "source": [
        "Stable-Baselines already provides you with that helper:"
      ]
    },
    {
      "cell_type": "code",
      "metadata": {
        "id": "8z6K9YImYJEx"
      },
      "source": [
        "from stable_baselines3.common.evaluation import evaluate_policy"
      ],
      "execution_count": 8,
      "outputs": []
    },
    {
      "cell_type": "code",
      "metadata": {
        "id": "4oPTHjxyZSOL",
        "colab": {
          "base_uri": "https://localhost:8080/"
        },
        "outputId": "13c1107a-a702-4b86-f780-87b795495d13"
      },
      "source": [
        "mean_reward, std_reward = evaluate_policy(model, env, n_eval_episodes=100)\n",
        "\n",
        "print(f\"mean_reward:{mean_reward:.2f} +/- {std_reward:.2f}\")"
      ],
      "execution_count": 9,
      "outputs": [
        {
          "output_type": "stream",
          "text": [
            "mean_reward:39.85 +/- 10.12\n"
          ],
          "name": "stdout"
        }
      ]
    },
    {
      "cell_type": "markdown",
      "metadata": {
        "id": "r5UoXTZPNdFE"
      },
      "source": [
        "## Train the agent and evaluate it"
      ]
    },
    {
      "cell_type": "code",
      "metadata": {
        "id": "e4cfSXIB-pTF",
        "colab": {
          "base_uri": "https://localhost:8080/"
        },
        "outputId": "ab6e31c5-b3ee-402d-e932-28dd974db9ec"
      },
      "source": [
        "# Train the agent for 10000 steps\n",
        "model.learn(total_timesteps=10000)"
      ],
      "execution_count": 10,
      "outputs": [
        {
          "output_type": "execute_result",
          "data": {
            "text/plain": [
              "<stable_baselines3.ppo.ppo.PPO at 0x7f1f3b1d3080>"
            ]
          },
          "metadata": {
            "tags": []
          },
          "execution_count": 10
        }
      ]
    },
    {
      "cell_type": "code",
      "metadata": {
        "id": "ygl_gVmV_QP7",
        "colab": {
          "base_uri": "https://localhost:8080/"
        },
        "outputId": "6a0846c6-6ba2-4b62-9426-beeb694acff0"
      },
      "source": [
        "# Evaluate the trained agent\n",
        "mean_reward, std_reward = evaluate_policy(model, env, n_eval_episodes=100)\n",
        "\n",
        "print(f\"mean_reward:{mean_reward:.2f} +/- {std_reward:.2f}\")"
      ],
      "execution_count": 11,
      "outputs": [
        {
          "output_type": "stream",
          "text": [
            "mean_reward:440.63 +/- 91.04\n"
          ],
          "name": "stdout"
        }
      ]
    },
    {
      "cell_type": "markdown",
      "metadata": {
        "id": "A00W6yY3NkHG"
      },
      "source": [
        "Apparently the training went well, the mean reward increased a lot ! "
      ]
    },
    {
      "cell_type": "markdown",
      "metadata": {
        "id": "xVm9QPNVwKXN"
      },
      "source": [
        "### Prepare video recording"
      ]
    },
    {
      "cell_type": "code",
      "metadata": {
        "id": "MPyfQxD5z26J"
      },
      "source": [
        "# Set up fake display; otherwise rendering will fail\n",
        "import os\n",
        "os.system(\"Xvfb :1 -screen 0 1024x768x24 &\")\n",
        "os.environ['DISPLAY'] = ':1'"
      ],
      "execution_count": 12,
      "outputs": []
    },
    {
      "cell_type": "code",
      "metadata": {
        "id": "SLzXxO8VMD6N"
      },
      "source": [
        "import base64\n",
        "from pathlib import Path\n",
        "\n",
        "from IPython import display as ipythondisplay\n",
        "\n",
        "def show_videos(video_path='', prefix=''):\n",
        "  \"\"\"\n",
        "  Taken from https://github.com/eleurent/highway-env\n",
        "\n",
        "  :param video_path: (str) Path to the folder containing videos\n",
        "  :param prefix: (str) Filter the video, showing only the only starting with this prefix\n",
        "  \"\"\"\n",
        "  html = []\n",
        "  for mp4 in Path(video_path).glob(\"{}*.mp4\".format(prefix)):\n",
        "      video_b64 = base64.b64encode(mp4.read_bytes())\n",
        "      html.append('''<video alt=\"{}\" autoplay \n",
        "                    loop controls style=\"height: 400px;\">\n",
        "                    <source src=\"data:video/mp4;base64,{}\" type=\"video/mp4\" />\n",
        "                </video>'''.format(mp4, video_b64.decode('ascii')))\n",
        "  ipythondisplay.display(ipythondisplay.HTML(data=\"<br>\".join(html)))"
      ],
      "execution_count": 13,
      "outputs": []
    },
    {
      "cell_type": "markdown",
      "metadata": {
        "id": "LTRNUfulOGaF"
      },
      "source": [
        "We will record a video using the [VecVideoRecorder](https://stable-baselines3.readthedocs.io/en/master/guide/vec_envs.html#vecvideorecorder) wrapper, you will learn about those wrapper in the next notebook."
      ]
    },
    {
      "cell_type": "code",
      "metadata": {
        "id": "Trag9dQpOIhx"
      },
      "source": [
        "from stable_baselines3.common.vec_env import VecVideoRecorder, DummyVecEnv\n",
        "\n",
        "def record_video(env_id, model, video_length=500, prefix='', video_folder='videos/'):\n",
        "  \"\"\"\n",
        "  :param env_id: (str)\n",
        "  :param model: (RL model)\n",
        "  :param video_length: (int)\n",
        "  :param prefix: (str)\n",
        "  :param video_folder: (str)\n",
        "  \"\"\"\n",
        "  eval_env = DummyVecEnv([lambda: gym.make(env_id)])\n",
        "  # Start the video at step=0 and record 500 steps\n",
        "  eval_env = VecVideoRecorder(eval_env, video_folder=video_folder,\n",
        "                              record_video_trigger=lambda step: step == 0, video_length=video_length,\n",
        "                              name_prefix=prefix)\n",
        "\n",
        "  obs = eval_env.reset()\n",
        "  for _ in range(video_length):\n",
        "    action, _ = model.predict(obs)\n",
        "    obs, _, _, _ = eval_env.step(action)\n",
        "\n",
        "  # Close the video recorder\n",
        "  eval_env.close()"
      ],
      "execution_count": 14,
      "outputs": []
    },
    {
      "cell_type": "markdown",
      "metadata": {
        "id": "KOObbeu5MMlR"
      },
      "source": [
        "### Visualize trained agent\n",
        "\n"
      ]
    },
    {
      "cell_type": "code",
      "metadata": {
        "id": "iATu7AiyMQW2"
      },
      "source": [
        "record_video('CartPole-v1', model, video_length=500, prefix='ppo2-cartpole')"
      ],
      "execution_count": 15,
      "outputs": []
    },
    {
      "cell_type": "code",
      "metadata": {
        "id": "-n4i-fW3NojZ",
        "colab": {
          "base_uri": "https://localhost:8080/",
          "height": 421
        },
        "outputId": "891405e4-705c-4f6d-ba52-fbbc1a557013"
      },
      "source": [
        "show_videos('videos', prefix='ppo2')"
      ],
      "execution_count": 16,
      "outputs": [
        {
          "output_type": "display_data",
          "data": {
            "text/html": [
              "<video alt=\"videos/ppo2-cartpole-step-0-to-step-500.mp4\" autoplay \n",
              "                    loop controls style=\"height: 400px;\">\n",
              "                    <source src=\"data:video/mp4;base64,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\" type=\"video/mp4\" />\n",
              "                </video>"
            ],
            "text/plain": [
              "<IPython.core.display.HTML object>"
            ]
          },
          "metadata": {
            "tags": []
          }
        }
      ]
    },
    {
      "cell_type": "markdown",
      "metadata": {
        "id": "9Y8zg4V566qD"
      },
      "source": [
        "## Bonus: Train a RL Model in One Line\n",
        "\n",
        "The policy class to use will be inferred and the environment will be automatically created. This works because both are [registered](https://stable-baselines3.readthedocs.io/en/master/guide/quickstart.html)."
      ]
    },
    {
      "cell_type": "code",
      "metadata": {
        "id": "iaOPfOrwWEP4",
        "colab": {
          "base_uri": "https://localhost:8080/"
        },
        "outputId": "3928c004-ccd5-41de-e8a7-b1fd55f7d115"
      },
      "source": [
        "model = PPO('MlpPolicy', \"CartPole-v1\", verbose=1).learn(1000)"
      ],
      "execution_count": 17,
      "outputs": [
        {
          "output_type": "stream",
          "text": [
            "Using cuda device\n",
            "Creating environment from the given name 'CartPole-v1'\n",
            "Wrapping the env in a DummyVecEnv.\n"
          ],
          "name": "stdout"
        }
      ]
    },
    {
      "cell_type": "markdown",
      "metadata": {
        "id": "FrI6f5fWnzp-"
      },
      "source": [
        "## Conclusion\n",
        "\n",
        "In this notebook we have seen:\n",
        "- how to define and train a RL model using stable baselines3, it takes only one line of code ;)"
      ]
    },
    {
      "cell_type": "code",
      "metadata": {
        "id": "73ji3gbNDkf7"
      },
      "source": [
        ""
      ],
      "execution_count": null,
      "outputs": []
    }
  ]
}